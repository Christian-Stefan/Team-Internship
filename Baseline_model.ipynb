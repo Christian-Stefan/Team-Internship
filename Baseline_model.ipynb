{
 "cells": [
  {
   "cell_type": "markdown",
   "id": "0067e010",
   "metadata": {},
   "source": [
    "## 1. Data Preparation"
   ]
  },
  {
   "cell_type": "markdown",
   "id": "84eb6414",
   "metadata": {},
   "source": [
    "### Load data"
   ]
  },
  {
   "cell_type": "code",
   "execution_count": 1,
   "id": "9a703e57",
   "metadata": {},
   "outputs": [],
   "source": [
    "import pandas as pd\n",
    "\n",
    "df = pd.read_csv(\"training_data.csv\")"
   ]
  },
  {
   "cell_type": "code",
   "execution_count": 2,
   "id": "24d502f2",
   "metadata": {},
   "outputs": [
    {
     "data": {
      "text/html": [
       "<div>\n",
       "<style scoped>\n",
       "    .dataframe tbody tr th:only-of-type {\n",
       "        vertical-align: middle;\n",
       "    }\n",
       "\n",
       "    .dataframe tbody tr th {\n",
       "        vertical-align: top;\n",
       "    }\n",
       "\n",
       "    .dataframe thead th {\n",
       "        text-align: right;\n",
       "    }\n",
       "</style>\n",
       "<table border=\"1\" class=\"dataframe\">\n",
       "  <thead>\n",
       "    <tr style=\"text-align: right;\">\n",
       "      <th></th>\n",
       "      <th>nodule_name</th>\n",
       "      <th>nodule_category</th>\n",
       "      <th>calcification</th>\n",
       "      <th>internal_structure</th>\n",
       "      <th>lobulation</th>\n",
       "      <th>margin</th>\n",
       "      <th>nodule_type</th>\n",
       "      <th>sphericity</th>\n",
       "      <th>texture</th>\n",
       "      <th>global_seed</th>\n",
       "      <th>slice_thickness</th>\n",
       "      <th>slices_present</th>\n",
       "      <th>file_path</th>\n",
       "    </tr>\n",
       "  </thead>\n",
       "  <tbody>\n",
       "    <tr>\n",
       "      <th>0</th>\n",
       "      <td>Small Cell Lung Cancer (SCLC)</td>\n",
       "      <td>Malignant</td>\n",
       "      <td>Absent</td>\n",
       "      <td>Soft Tissue</td>\n",
       "      <td>Nn-Mk</td>\n",
       "      <td>P-Sharp</td>\n",
       "      <td>m4</td>\n",
       "      <td>Lin-Ov</td>\n",
       "      <td>NS-PS</td>\n",
       "      <td>3388.5178</td>\n",
       "      <td>2.00</td>\n",
       "      <td>[53, 54, 55, 56, 57]</td>\n",
       "      <td>../Demcon_Data/20241221_074106\\20241221_074106...</td>\n",
       "    </tr>\n",
       "    <tr>\n",
       "      <th>1</th>\n",
       "      <td>Lymphoma</td>\n",
       "      <td>Malignant</td>\n",
       "      <td>Absent</td>\n",
       "      <td>Soft Tissue</td>\n",
       "      <td>N-Marked</td>\n",
       "      <td>Poo-Sh</td>\n",
       "      <td>m7</td>\n",
       "      <td>Ovoid</td>\n",
       "      <td>Part Solid/Mixed</td>\n",
       "      <td>9335.7762</td>\n",
       "      <td>2.00</td>\n",
       "      <td>[70, 71, 72, 73, 74, 75]</td>\n",
       "      <td>../Demcon_Data/20241221_074106\\20241221_074106...</td>\n",
       "    </tr>\n",
       "    <tr>\n",
       "      <th>2</th>\n",
       "      <td>Bronchioloalveolar Hyperplasia</td>\n",
       "      <td>Benign</td>\n",
       "      <td>Absent</td>\n",
       "      <td>Soft Tissue</td>\n",
       "      <td>Nn-Mk</td>\n",
       "      <td>Poorly</td>\n",
       "      <td>b6</td>\n",
       "      <td>Linear</td>\n",
       "      <td>NS-PS</td>\n",
       "      <td>9151.7012</td>\n",
       "      <td>2.50</td>\n",
       "      <td>[26, 27, 28]</td>\n",
       "      <td>../Demcon_Data/20241221_074106\\20241221_074106...</td>\n",
       "    </tr>\n",
       "    <tr>\n",
       "      <th>3</th>\n",
       "      <td>Carcinoid Tumors</td>\n",
       "      <td>Malignant</td>\n",
       "      <td>Non-Central</td>\n",
       "      <td>Soft Tissue</td>\n",
       "      <td>NaN</td>\n",
       "      <td>P-Sharp</td>\n",
       "      <td>m5</td>\n",
       "      <td>Ov-Ro</td>\n",
       "      <td>Solid</td>\n",
       "      <td>201.8990</td>\n",
       "      <td>2.50</td>\n",
       "      <td>[51, 52, 53]</td>\n",
       "      <td>../Demcon_Data/20241221_074106\\20241221_074106...</td>\n",
       "    </tr>\n",
       "    <tr>\n",
       "      <th>4</th>\n",
       "      <td>Intrapulmonary Lymph Nodes</td>\n",
       "      <td>Benign</td>\n",
       "      <td>Absent</td>\n",
       "      <td>Soft Tissue</td>\n",
       "      <td>NaN</td>\n",
       "      <td>Sharp</td>\n",
       "      <td>b7</td>\n",
       "      <td>Ovoid</td>\n",
       "      <td>Solid</td>\n",
       "      <td>8747.3172</td>\n",
       "      <td>1.25</td>\n",
       "      <td>[23, 24, 25, 26, 27]</td>\n",
       "      <td>../Demcon_Data/20241221_074106\\20241221_074106...</td>\n",
       "    </tr>\n",
       "  </tbody>\n",
       "</table>\n",
       "</div>"
      ],
      "text/plain": [
       "                      nodule_name nodule_category calcification  \\\n",
       "0   Small Cell Lung Cancer (SCLC)       Malignant        Absent   \n",
       "1                        Lymphoma       Malignant        Absent   \n",
       "2  Bronchioloalveolar Hyperplasia          Benign        Absent   \n",
       "3                Carcinoid Tumors       Malignant   Non-Central   \n",
       "4      Intrapulmonary Lymph Nodes          Benign        Absent   \n",
       "\n",
       "  internal_structure lobulation   margin nodule_type sphericity  \\\n",
       "0        Soft Tissue      Nn-Mk  P-Sharp          m4     Lin-Ov   \n",
       "1        Soft Tissue   N-Marked   Poo-Sh          m7      Ovoid   \n",
       "2        Soft Tissue      Nn-Mk   Poorly          b6     Linear   \n",
       "3        Soft Tissue        NaN  P-Sharp          m5      Ov-Ro   \n",
       "4        Soft Tissue        NaN    Sharp          b7      Ovoid   \n",
       "\n",
       "            texture  global_seed  slice_thickness            slices_present  \\\n",
       "0             NS-PS    3388.5178             2.00      [53, 54, 55, 56, 57]   \n",
       "1  Part Solid/Mixed    9335.7762             2.00  [70, 71, 72, 73, 74, 75]   \n",
       "2             NS-PS    9151.7012             2.50              [26, 27, 28]   \n",
       "3             Solid     201.8990             2.50              [51, 52, 53]   \n",
       "4             Solid    8747.3172             1.25      [23, 24, 25, 26, 27]   \n",
       "\n",
       "                                           file_path  \n",
       "0  ../Demcon_Data/20241221_074106\\20241221_074106...  \n",
       "1  ../Demcon_Data/20241221_074106\\20241221_074106...  \n",
       "2  ../Demcon_Data/20241221_074106\\20241221_074106...  \n",
       "3  ../Demcon_Data/20241221_074106\\20241221_074106...  \n",
       "4  ../Demcon_Data/20241221_074106\\20241221_074106...  "
      ]
     },
     "execution_count": 2,
     "metadata": {},
     "output_type": "execute_result"
    }
   ],
   "source": [
    "df[:5]"
   ]
  },
  {
   "cell_type": "code",
   "execution_count": 3,
   "id": "a792c7c7",
   "metadata": {},
   "outputs": [
    {
     "name": "stdout",
     "output_type": "stream",
     "text": [
      "1487\n"
     ]
    }
   ],
   "source": [
    "print(len(df))"
   ]
  },
  {
   "cell_type": "markdown",
   "id": "2773f8ff",
   "metadata": {},
   "source": [
    "### Remove 34 nodules with missing annotations"
   ]
  },
  {
   "cell_type": "code",
   "execution_count": 4,
   "id": "07990fb6",
   "metadata": {},
   "outputs": [
    {
     "name": "stdout",
     "output_type": "stream",
     "text": [
      "nodule_name            object\n",
      "nodule_category        object\n",
      "calcification          object\n",
      "internal_structure     object\n",
      "lobulation             object\n",
      "margin                 object\n",
      "nodule_type            object\n",
      "sphericity             object\n",
      "texture                object\n",
      "global_seed           float64\n",
      "slice_thickness       float64\n",
      "slices_present         object\n",
      "file_path              object\n",
      "dtype: object\n"
     ]
    }
   ],
   "source": [
    "print(df.dtypes)"
   ]
  },
  {
   "cell_type": "code",
   "execution_count": 5,
   "id": "aa2d11d8",
   "metadata": {},
   "outputs": [],
   "source": [
    "import ast\n",
    "\n",
    "df[\"slices_present\"] = df[\"slices_present\"].apply(\n",
    "    lambda x: ast.literal_eval(x) if isinstance(x, str) else x\n",
    ")"
   ]
  },
  {
   "cell_type": "code",
   "execution_count": 6,
   "id": "71f41abe",
   "metadata": {},
   "outputs": [
    {
     "name": "stdout",
     "output_type": "stream",
     "text": [
      "0 slices: 34 nodules\n",
      "1 slices: 18 nodules\n",
      "2 slices: 239 nodules\n",
      "3 slices: 376 nodules\n",
      "4 slices: 196 nodules\n",
      "5 slices: 163 nodules\n",
      "6 slices: 142 nodules\n",
      "7 slices: 123 nodules\n",
      "8 slices: 88 nodules\n",
      "9 slices: 50 nodules\n",
      "10 slices: 15 nodules\n",
      "11 slices: 16 nodules\n",
      "12 slices: 6 nodules\n",
      "13 slices: 12 nodules\n",
      "14 slices: 7 nodules\n",
      "18 slices: 1 nodules\n",
      "19 slices: 1 nodules\n"
     ]
    }
   ],
   "source": [
    "from collections import Counter\n",
    "\n",
    "length_counts = Counter(len(x) for x in df[\"slices_present\"])\n",
    "for k in sorted(length_counts):\n",
    "    print(f\"{k} slices: {length_counts[k]} nodules\")"
   ]
  },
  {
   "cell_type": "code",
   "execution_count": 7,
   "id": "52216b27",
   "metadata": {},
   "outputs": [],
   "source": [
    "df = df[df['slices_present'].apply(lambda x: len(x) > 0)]"
   ]
  },
  {
   "cell_type": "code",
   "execution_count": 8,
   "id": "35def17e",
   "metadata": {},
   "outputs": [
    {
     "name": "stdout",
     "output_type": "stream",
     "text": [
      "0\n"
     ]
    }
   ],
   "source": [
    "print((df['slices_present'].apply(len) == 0).sum())  "
   ]
  },
  {
   "cell_type": "code",
   "execution_count": 9,
   "id": "8146fc08",
   "metadata": {},
   "outputs": [
    {
     "name": "stdout",
     "output_type": "stream",
     "text": [
      "1453\n"
     ]
    }
   ],
   "source": [
    "print(len(df))"
   ]
  },
  {
   "cell_type": "markdown",
   "id": "877c976f",
   "metadata": {},
   "source": [
    "### Encoding Labels"
   ]
  },
  {
   "cell_type": "code",
   "execution_count": 10,
   "id": "d450dfc3",
   "metadata": {},
   "outputs": [],
   "source": [
    "from sklearn.preprocessing import LabelEncoder\n",
    "le = LabelEncoder()\n",
    "df['label'] = le.fit_transform(df['nodule_name'])"
   ]
  },
  {
   "cell_type": "code",
   "execution_count": 11,
   "id": "cc2a84b7",
   "metadata": {},
   "outputs": [
    {
     "name": "stdout",
     "output_type": "stream",
     "text": [
      "{'Active Infection': 0, 'Adenocarcinoma': 1, 'Adenoid Cystic Carcinoma': 2, 'Bronchioloalveolar Hyperplasia': 3, 'Carcinoid Tumors': 4, 'Granuloma': 5, 'Hamartoma': 6, 'Intrapulmonary Lymph Nodes': 7, 'Large Cell (Undifferentiated) Carcinoma': 8, 'Lymphoma': 9, 'Metastatic Tumors': 10, 'Sarcoidosis': 11, 'Sarcomatoid Carcinoma': 12, 'Small Cell Lung Cancer (SCLC)': 13, 'Squamous Cell Carcinoma': 14}\n"
     ]
    }
   ],
   "source": [
    "label_map = dict(zip(le.classes_, le.transform(le.classes_)))\n",
    "print(label_map)"
   ]
  },
  {
   "cell_type": "markdown",
   "id": "aeca20b2",
   "metadata": {},
   "source": [
    "NOTE: Long covid is not part of this study"
   ]
  },
  {
   "cell_type": "markdown",
   "id": "a6c49024",
   "metadata": {},
   "source": [
    "# 2. Volume input preprocessing"
   ]
  },
  {
   "cell_type": "markdown",
   "id": "7d0b8ee6",
   "metadata": {},
   "source": [
    "For each sample:\n",
    "\n",
    "- volume_local: cropped region centered around nodule (based on segmentation)\n",
    "\n",
    "- volume_context: full slice (resized to something like 256×256), no crop"
   ]
  },
  {
   "cell_type": "code",
   "execution_count": 12,
   "id": "99f3606c",
   "metadata": {},
   "outputs": [],
   "source": [
    "# Parse annotaions for bounding box\n",
    "\n",
    "import json\n",
    "\n",
    "def load_annotations(json_path):\n",
    "    with open(json_path, 'r') as f:\n",
    "        data = json.load(f)\n",
    "    \n",
    "    annotations = data.get(\"annotation\", [])\n",
    "    return annotations\n"
   ]
  },
  {
   "cell_type": "code",
   "execution_count": 15,
   "id": "30d70bb7",
   "metadata": {},
   "outputs": [],
   "source": [
    "# Get local crop and global context\n",
    "\n",
    "import pydicom\n",
    "import cv2\n",
    "\n",
    "def slice_local_context(dcm_path_context, dcm_path_local, local_size=(64, 64), context_size=(256, 256)):\n",
    "    dcm_context = pydicom.dcmread(dcm_path_context)\n",
    "    img_context = dcm_context.pixel_array\n",
    "\n",
    "    img_context = img_context.astype(np.float32)\n",
    "    img_context = (img_context - img_context.min()) / (img_context.max() - img_context.min() + 1e-5)\n",
    "\n",
    "    dcm_local = pydicom.dcmread(dcm_path_local)\n",
    "    img_local = dcm_local.pixel_array\n",
    "\n",
    "    img_local = img_local.astype(np.float32)\n",
    "    img_local = (img_local - img_local.min()) / (img_local.max() - img_local.min() + 1e-5)\n",
    "\n",
    "    # Pad if needed\n",
    "    cropped_local = cv2.resize(img_local, local_size)\n",
    "\n",
    "    # Resize whole slice for context\n",
    "    resized_context = cv2.resize(img_context, context_size)\n",
    "\n",
    "    return cropped_local, resized_context"
   ]
  },
  {
   "cell_type": "code",
   "execution_count": null,
   "id": "f87e378a",
   "metadata": {},
   "outputs": [
    {
     "name": "stdout",
     "output_type": "stream",
     "text": [
      "../Demcon_Data/20241221_074106\\20241221_074106\\LIDC-IDRI\\LIDC-IDRI-0000\\01-01-2000-NA-NA-02587\\3976134.000000-NA-94964\\segmentation_00000.json\n"
     ]
    }
   ],
   "source": [
    "# Trying with 1 data sample\n",
    "\n",
    "import os\n",
    "\n",
    "from pathlib import Path\n",
    "\n",
    "# Go up two folders from current script\n",
    "root = Path.cwd().parents[1]\n",
    "\n",
    "json_path = df.iloc[0]['file_path']\n",
    "print(json_path)\n",
    "parts = os.path.normpath(json_path).split(os.sep)\n",
    "folder = parts[2]  # '20241221_074106'\n",
    "ScanID = parts[5]  # 'LIDC-IDRI-0001'\n",
    "sliceAmount = len(df.iloc[0]['slices_present'])\n",
    "\n",
    "\n",
    "local_slices = []\n",
    "context_slices = []\n",
    "\n",
    "for slice in range(0,sliceAmount):\n",
    "    dcm_path_context = root / \"segmented\" / str(folder) / \"lungs\" / str(ScanID) / f\"{slice}.dcm\" # change if path is different\n",
    "    dcm_path_local = root / \"segmented\" / str(folder) / \"nodules\" / str(ScanID) / f\"{slice}.dcm\" # change if path is different\n",
    "    local, context = slice_local_context(\n",
    "        dcm_path_context, dcm_path_local,\n",
    "        local_size=(64, 64),\n",
    "        context_size=(256, 256)\n",
    "    )\n",
    "    local_slices.append(local)\n",
    "    context_slices.append(context)"
   ]
  },
  {
   "cell_type": "code",
   "execution_count": 17,
   "id": "37179910",
   "metadata": {},
   "outputs": [
    {
     "data": {
      "text/plain": [
       "array([0.        , 0.        , 0.        , 0.        , 0.        ,\n",
       "       0.        , 0.        , 0.        , 0.        , 0.        ,\n",
       "       0.        , 0.        , 0.        , 0.        , 0.        ,\n",
       "       0.        , 0.        , 0.        , 0.        , 0.        ,\n",
       "       0.        , 0.        , 0.        , 0.        , 0.        ,\n",
       "       0.        , 0.510917  , 0.66812223, 0.78165936, 0.59825325,\n",
       "       0.57205236, 0.742358  , 0.9956331 , 0.87336236, 0.72052395,\n",
       "       0.49781656, 0.4803493 , 0.        , 0.        , 0.        ,\n",
       "       0.        , 0.        , 0.        , 0.        , 0.        ,\n",
       "       0.        , 0.        , 0.        , 0.        , 0.        ,\n",
       "       0.        , 0.        , 0.        , 0.        , 0.        ,\n",
       "       0.        , 0.        , 0.        , 0.        , 0.        ,\n",
       "       0.        , 0.        , 0.        , 0.        ], dtype=float32)"
      ]
     },
     "execution_count": 17,
     "metadata": {},
     "output_type": "execute_result"
    },
    {
     "data": {
      "image/png": "[encoded data removed]",
      "text/plain": [
       "<Figure size 640x480 with 1 Axes>"
      ]
     },
     "metadata": {},
     "output_type": "display_data"
    }
   ],
   "source": [
    "import matplotlib.pyplot as plt\n",
    "fig, ax = plt.subplots()\n",
    "\n",
    "ax.imshow(local_slices[0])\n",
    "#plt.title(\"Extracted Region from DICOM\")\n",
    "ax.set_xticks([])\n",
    "ax.set_yticks([])\n",
    "ax.set_position([0, 0, 1, 1])\n",
    "\n",
    "local_slices[0][30]"
   ]
  },
  {
   "cell_type": "code",
   "execution_count": 18,
   "id": "a34863e1",
   "metadata": {},
   "outputs": [],
   "source": [
    "# Pads or crops a list of 2D slices to a fixed 3D volume.\n",
    "import numpy as np\n",
    "def pad_or_crop_volume(slices, target_depth, shape):\n",
    "    D = len(slices)\n",
    "    h, w = shape\n",
    "\n",
    "    if D == 0:\n",
    "        return np.zeros((1, target_depth, h, w), dtype=np.float32)\n",
    "\n",
    "    volume = np.stack(slices, axis=0)\n",
    "\n",
    "    if D < target_depth:\n",
    "        pad_before = (target_depth - D) // 2\n",
    "        pad_after = target_depth - D - pad_before\n",
    "        volume = np.pad(volume, ((pad_before, pad_after), (0, 0), (0, 0)), mode='constant')\n",
    "    elif D > target_depth:\n",
    "        start = (D - target_depth) // 2\n",
    "        volume = volume[start:start+target_depth]\n",
    "\n",
    "    return volume[None, ...]  # Add channel dim: [1, D, H, W]\n"
   ]
  },
  {
   "cell_type": "code",
   "execution_count": 19,
   "id": "09e114b3",
   "metadata": {},
   "outputs": [
    {
     "name": "stdout",
     "output_type": "stream",
     "text": [
      "volume_local shape: (1, 5, 64, 64)\n",
      "volume_context shape: (1, 7, 256, 256)\n"
     ]
    }
   ],
   "source": [
    "volume_local = pad_or_crop_volume(local_slices, target_depth=5, shape=(64, 64))\n",
    "volume_context = pad_or_crop_volume(context_slices, target_depth=7, shape=(256, 256))\n",
    "\n",
    "print(\"volume_local shape:\", volume_local.shape)\n",
    "print(\"volume_context shape:\", volume_context.shape)"
   ]
  },
  {
   "cell_type": "code",
   "execution_count": null,
   "id": "2938a19a",
   "metadata": {},
   "outputs": [
    {
     "name": "stderr",
     "output_type": "stream",
     "text": [
      "Processing samples: 100%|██████████| 1453/1453 [02:11<00:00, 11.05it/s]\n"
     ]
    }
   ],
   "source": [
    "# Applying to entire dataset\n",
    "\n",
    "from tqdm import tqdm\n",
    "\n",
    "all_locals = []\n",
    "all_contexts = []\n",
    "all_labels = []\n",
    "\n",
    "for _, row in tqdm(df.iterrows(), total=len(df), desc=\"Processing samples\"):\n",
    "    try:\n",
    "        json_path = row['file_path']\n",
    "        label = row['label']\n",
    "        parts = os.path.normpath(json_path).split(os.sep)\n",
    "        folder = parts[2]  # '20241221_074106'\n",
    "        ScanID = parts[5]  # 'LIDC-IDRI-0001'\n",
    "        sliceAmount = len(row['slices_present'])\n",
    "\n",
    "\n",
    "        local_slices = []\n",
    "        context_slices = []\n",
    "\n",
    "        for slice in range(0,sliceAmount):\n",
    "            dcm_path_context = root / \"segmented\" / str(folder) / \"lungs\" / str(ScanID) / f\"{slice}.dcm\"# change if path is different\n",
    "            dcm_path_local = root / \"segmented\" / str(folder) / \"nodules\" / str(ScanID) / f\"{slice}.dcm\"# change if path is different\n",
    "            local, context = slice_local_context(\n",
    "                dcm_path_context, dcm_path_local,\n",
    "                local_size=(64, 64),\n",
    "                context_size=(256, 256)\n",
    "            )\n",
    "            local_slices.append(local)\n",
    "            context_slices.append(context)\n",
    "\n",
    "        volume_local = pad_or_crop_volume(local_slices, target_depth=5, shape=(64, 64))\n",
    "        volume_context = pad_or_crop_volume(context_slices, target_depth=7, shape=(256, 256))\n",
    "\n",
    "        all_locals.append(volume_local)\n",
    "        all_contexts.append(volume_context)\n",
    "        all_labels.append(label)\n",
    "\n",
    "    except Exception as e:\n",
    "        print(f\"Skipping row due to error: {e}\")\n"
   ]
  },
  {
   "cell_type": "markdown",
   "id": "9464b356",
   "metadata": {},
   "source": [
    "# 3. Radiomics preparation"
   ]
  },
  {
   "cell_type": "code",
   "execution_count": 22,
   "id": "83471195",
   "metadata": {},
   "outputs": [],
   "source": [
    "radiomics_columns = [\n",
    "    \"calcification\", \"internal_structure\", \"lobulation\",\n",
    "    \"margin\", \"sphericity\", \"texture\"\n",
    "]"
   ]
  },
  {
   "cell_type": "code",
   "execution_count": 23,
   "id": "a6af03fb",
   "metadata": {},
   "outputs": [],
   "source": [
    "radiomics_df = df[radiomics_columns].copy()"
   ]
  },
  {
   "cell_type": "code",
   "execution_count": 24,
   "id": "ee0eb4c4",
   "metadata": {},
   "outputs": [],
   "source": [
    "radiomics_encoded = pd.get_dummies(radiomics_df, drop_first=False)"
   ]
  },
  {
   "cell_type": "code",
   "execution_count": null,
   "id": "26ec0f1d",
   "metadata": {},
   "outputs": [
    {
     "name": "stdout",
     "output_type": "stream",
     "text": [
      "Radiomics vector shape: (1453, 25)\n"
     ]
    },
    {
     "data": {
      "text/plain": [
       "Index(['calcification_Absent', 'calcification_Central',\n",
       "       'calcification_Laminated', 'calcification_Non-Central',\n",
       "       'calcification_Popcorn', 'calcification_Solid',\n",
       "       'internal_structure_Soft Tissue', 'lobulation_Marked',\n",
       "       'lobulation_N-Marked', 'lobulation_Nn-Mk', 'lobulation_None-M',\n",
       "       'margin_P-Sharp', 'margin_Poo-Sh', 'margin_Poorly', 'margin_Poorly-S',\n",
       "       'margin_Sharp', 'sphericity_Lin-Ov', 'sphericity_Linear',\n",
       "       'sphericity_Ov-Ro', 'sphericity_Ovoid', 'sphericity_Round',\n",
       "       'texture_NS-PS', 'texture_PS-Solid', 'texture_Part Solid/Mixed',\n",
       "       'texture_Solid'],\n",
       "      dtype='object')"
      ]
     },
     "execution_count": 25,
     "metadata": {},
     "output_type": "execute_result"
    }
   ],
   "source": [
    "print(\"Radiomics vector shape:\", radiomics_encoded.shape)"
   ]
  },
  {
   "cell_type": "code",
   "execution_count": 26,
   "id": "2e42e367",
   "metadata": {},
   "outputs": [],
   "source": [
    "X_radiomics = radiomics_encoded.to_numpy(dtype=np.float32)"
   ]
  },
  {
   "cell_type": "code",
   "execution_count": null,
   "id": "1ecd17be",
   "metadata": {},
   "outputs": [
    {
     "data": {
      "text/plain": [
       "array([[1., 0., 0., ..., 0., 0., 0.],\n",
       "       [1., 0., 0., ..., 0., 1., 0.],\n",
       "       [1., 0., 0., ..., 0., 0., 0.],\n",
       "       ...,\n",
       "       [1., 0., 0., ..., 0., 1., 0.],\n",
       "       [1., 0., 0., ..., 1., 0., 0.],\n",
       "       [0., 0., 0., ..., 0., 0., 0.]], dtype=float32)"
      ]
     },
     "execution_count": 27,
     "metadata": {},
     "output_type": "execute_result"
    }
   ],
   "source": [
    "X_radiomics.shape"
   ]
  },
  {
   "cell_type": "markdown",
   "id": "25d7f601",
   "metadata": {},
   "source": [
    "# 4. Create Pytorch Dataset"
   ]
  },
  {
   "cell_type": "code",
   "execution_count": 28,
   "id": "8daa14f2",
   "metadata": {},
   "outputs": [],
   "source": [
    "import torch\n",
    "from torch.utils.data import Dataset"
   ]
  },
  {
   "cell_type": "code",
   "execution_count": 29,
   "id": "b04a221e",
   "metadata": {},
   "outputs": [],
   "source": [
    "class TripleFusionDataset(Dataset):\n",
    "    def __init__(self, all_locals, all_contexts, X_radiomics, labels_df):\n",
    "        self.all_locals = all_locals\n",
    "        self.all_contexts = all_contexts\n",
    "        self.radiomics = X_radiomics\n",
    "        self.labels = labels_df[\"label\"].to_numpy()\n",
    "\n",
    "    def __len__(self):\n",
    "        return len(self.labels)\n",
    "\n",
    "    def __getitem__(self, idx):\n",
    "        sample = {\n",
    "            \"volume_local\": torch.tensor(self.all_locals[idx], dtype=torch.float32),\n",
    "            \"volume_context\": torch.tensor(self.all_contexts[idx], dtype=torch.float32),\n",
    "            \"radiomics\": torch.tensor(self.radiomics[idx], dtype=torch.float32),\n",
    "            \"label\": torch.tensor(self.labels[idx], dtype=torch.long),\n",
    "        }\n",
    "        return sample\n"
   ]
  },
  {
   "cell_type": "code",
   "execution_count": 30,
   "id": "c8cdef7b",
   "metadata": {},
   "outputs": [],
   "source": [
    "dataset = TripleFusionDataset(\n",
    "    all_locals=all_locals,\n",
    "    all_contexts=all_contexts,\n",
    "    X_radiomics=X_radiomics,\n",
    "    labels_df=df  \n",
    ")"
   ]
  },
  {
   "cell_type": "markdown",
   "id": "400e075d",
   "metadata": {},
   "source": [
    "# 5. Triple Fusion Architecture"
   ]
  },
  {
   "cell_type": "markdown",
   "id": "3c7cfffe",
   "metadata": {},
   "source": [
    "\n",
    "| Branch           | Input Shape           | Type     |\n",
    "|------------------|------------------------|----------|\n",
    "| `volume_local`   | `[B, 1, 5, 64, 64]`     | 3D CNN   |\n",
    "| `volume_context` | `[B, 1, 7, 256, 256]`   | 3D CNN   |\n",
    "| `radiomics`      | `[B, 25]`               | MLP      |\n"
   ]
  },
  {
   "cell_type": "code",
   "execution_count": 31,
   "id": "dd821e3c",
   "metadata": {},
   "outputs": [],
   "source": [
    "import torch\n",
    "import torch.nn as nn\n",
    "import torch.nn.functional as F"
   ]
  },
  {
   "cell_type": "markdown",
   "id": "cccd727c",
   "metadata": {},
   "source": [
    "### Local Branch"
   ]
  },
  {
   "cell_type": "code",
   "execution_count": 32,
   "id": "3f20b560",
   "metadata": {},
   "outputs": [],
   "source": [
    "class LocalBranch(nn.Module):\n",
    "    def __init__(self):\n",
    "        super().__init__()\n",
    "        self.conv = nn.Sequential(\n",
    "            nn.Conv3d(1, 16, kernel_size=3, padding=1),\n",
    "            nn.BatchNorm3d(16),\n",
    "            nn.ReLU(),\n",
    "            nn.MaxPool3d(2),  # (5,64,64) → (2,32,32)\n",
    "\n",
    "            nn.Conv3d(16, 32, kernel_size=3, padding=1),\n",
    "            nn.BatchNorm3d(32),\n",
    "            nn.ReLU(),\n",
    "            nn.AdaptiveAvgPool3d((1, 1, 1))  # output: [B, 32, 1, 1, 1]\n",
    "        )\n",
    "\n",
    "    def forward(self, x):\n",
    "        x = self.conv(x)\n",
    "        return x.view(x.size(0), -1)  # flatten to [B, 32]\n"
   ]
  },
  {
   "cell_type": "markdown",
   "id": "c1f05780",
   "metadata": {},
   "source": [
    "### Context Branch"
   ]
  },
  {
   "cell_type": "code",
   "execution_count": 33,
   "id": "992609b2",
   "metadata": {},
   "outputs": [],
   "source": [
    "class ContextBranch(nn.Module):\n",
    "    def __init__(self):\n",
    "        super().__init__()\n",
    "        self.conv = nn.Sequential(\n",
    "            nn.Conv3d(1, 16, kernel_size=3, padding=1),\n",
    "            nn.BatchNorm3d(16),\n",
    "            nn.ReLU(),\n",
    "            nn.MaxPool3d(2),  # (7,256,256) → (3,128,128)\n",
    "\n",
    "            nn.Conv3d(16, 32, kernel_size=3, padding=1),\n",
    "            nn.BatchNorm3d(32),\n",
    "            nn.ReLU(),\n",
    "            nn.AdaptiveAvgPool3d((1, 1, 1))  # output: [B, 32, 1, 1, 1]\n",
    "        )\n",
    "\n",
    "    def forward(self, x):\n",
    "        x = self.conv(x)\n",
    "        return x.view(x.size(0), -1)  # [B, 32]"
   ]
  },
  {
   "cell_type": "markdown",
   "id": "8f264e75",
   "metadata": {},
   "source": [
    "### Radiomics Branch"
   ]
  },
  {
   "cell_type": "code",
   "execution_count": 34,
   "id": "62cd6ee3",
   "metadata": {},
   "outputs": [],
   "source": [
    "class RadiomicsBranch(nn.Module):\n",
    "    def __init__(self, input_dim):\n",
    "        super().__init__()\n",
    "        self.fc = nn.Sequential(\n",
    "            nn.Linear(input_dim, 64),\n",
    "            nn.ReLU(),\n",
    "            nn.Linear(64, 32)\n",
    "        )\n",
    "\n",
    "    def forward(self, x):\n",
    "        return self.fc(x)"
   ]
  },
  {
   "cell_type": "markdown",
   "id": "1d62d431",
   "metadata": {},
   "source": [
    "### Fusion Model"
   ]
  },
  {
   "cell_type": "code",
   "execution_count": 36,
   "id": "857c2145",
   "metadata": {},
   "outputs": [],
   "source": [
    "class TripleFusionModel(nn.Module):\n",
    "    def __init__(self, num_classes, radiomics_dim=25):\n",
    "        super().__init__()\n",
    "        self.local_branch = LocalBranch()\n",
    "        self.context_branch = ContextBranch()\n",
    "        self.radiomics_branch = RadiomicsBranch(radiomics_dim)\n",
    "\n",
    "        self.classifier = nn.Sequential(\n",
    "            nn.Linear(32 + 32 + 32, 64),  # fuse outputs\n",
    "            nn.ReLU(),\n",
    "            nn.Dropout(0.3),\n",
    "            nn.Linear(64, num_classes)\n",
    "        )\n",
    "\n",
    "    def forward(self, volume_local, volume_context, radiomics):\n",
    "        local_feat = self.local_branch(volume_local)\n",
    "        context_feat = self.context_branch(volume_context)\n",
    "        radio_feat = self.radiomics_branch(radiomics)\n",
    "\n",
    "        fused = torch.cat([local_feat, context_feat, radio_feat], dim=1)\n",
    "        out = self.classifier(fused)\n",
    "        return out"
   ]
  },
  {
   "cell_type": "markdown",
   "id": "9794896c",
   "metadata": {},
   "source": [
    "# 6. Training"
   ]
  },
  {
   "cell_type": "code",
   "execution_count": null,
   "id": "5996b6f9",
   "metadata": {},
   "outputs": [],
   "source": [
    "device = torch.device(\"cuda\" if torch.cuda.is_available() else \"cpu\")\n",
    "\n",
    "import torch.optim as optim\n",
    "\n",
    "num_classes = len(df[\"label\"].unique())\n",
    "model = TripleFusionModel(num_classes=num_classes)\n",
    "model = model.to(device)\n",
    "\n",
    "criterion = nn.CrossEntropyLoss()\n",
    "optimizer = optim.Adam(model.parameters(), lr=1e-3)"
   ]
  },
  {
   "cell_type": "code",
   "execution_count": 39,
   "id": "62408063",
   "metadata": {},
   "outputs": [],
   "source": [
    "def compute_accuracy(logits, labels):\n",
    "    preds = torch.argmax(logits, dim=1)\n",
    "    return (preds == labels).float().mean().item()"
   ]
  },
  {
   "cell_type": "code",
   "execution_count": 40,
   "id": "501115dd",
   "metadata": {},
   "outputs": [],
   "source": [
    "from tqdm import tqdm\n",
    "import time\n",
    "\n",
    "def train_one_epoch(model, dataloader, optimizer, criterion, device):\n",
    "    model.train()\n",
    "    total_loss = 0.0\n",
    "    total_acc = 0.0\n",
    "\n",
    "    pbar = tqdm(dataloader, desc=\"Training\", leave=False)\n",
    "\n",
    "    for batch in pbar:\n",
    "        start_time = time.time()\n",
    "\n",
    "        vol_local = batch[\"volume_local\"].to(device)\n",
    "        vol_context = batch[\"volume_context\"].to(device)\n",
    "        radiomics = batch[\"radiomics\"].to(device)\n",
    "        labels = batch[\"label\"].to(device)\n",
    "\n",
    "        optimizer.zero_grad()\n",
    "        outputs = model(vol_local, vol_context, radiomics)\n",
    "        loss = criterion(outputs, labels)\n",
    "        loss.backward()\n",
    "        optimizer.step()\n",
    "\n",
    "        acc = compute_accuracy(outputs, labels)\n",
    "        batch_time = time.time() - start_time\n",
    "\n",
    "        total_loss += loss.item()\n",
    "        total_acc += acc\n",
    "\n",
    "        pbar.set_postfix({\n",
    "            \"loss\": f\"{loss.item():.4f}\",\n",
    "            \"acc\": f\"{acc:.4f}\",\n",
    "            \"time\": f\"{batch_time:.2f}s\"\n",
    "        })\n",
    "\n",
    "    return total_loss / len(dataloader), total_acc / len(dataloader)\n"
   ]
  },
  {
   "cell_type": "code",
   "execution_count": 41,
   "id": "5fb97a9e",
   "metadata": {},
   "outputs": [],
   "source": [
    "def validate(model, dataloader, criterion, device):\n",
    "    model.eval()\n",
    "    total_loss = 0.0\n",
    "    total_acc = 0.0\n",
    "\n",
    "    pbar = tqdm(dataloader, desc=\"Validation\", leave=False)\n",
    "\n",
    "    with torch.no_grad():\n",
    "        for batch in pbar:\n",
    "            vol_local = batch[\"volume_local\"].to(device)\n",
    "            vol_context = batch[\"volume_context\"].to(device)\n",
    "            radiomics = batch[\"radiomics\"].to(device)\n",
    "            labels = batch[\"label\"].to(device)\n",
    "\n",
    "            outputs = model(vol_local, vol_context, radiomics)\n",
    "            loss = criterion(outputs, labels)\n",
    "            acc = compute_accuracy(outputs, labels)\n",
    "\n",
    "            total_loss += loss.item()\n",
    "            total_acc += acc\n",
    "\n",
    "            pbar.set_postfix({\n",
    "                \"loss\": f\"{loss.item():.4f}\",\n",
    "                \"acc\": f\"{acc:.4f}\"\n",
    "            })\n",
    "\n",
    "    return total_loss / len(dataloader), total_acc / len(dataloader)"
   ]
  },
  {
   "cell_type": "code",
   "execution_count": 44,
   "id": "8c79a48e",
   "metadata": {},
   "outputs": [],
   "source": [
    "from torch.utils.data import random_split, DataLoader\n",
    "# Initial fixed split: 10% test, 90% train+val\n",
    "total_size = len(dataset)\n",
    "test_size = int(0.1 * total_size)\n",
    "train_val_size = total_size - test_size\n",
    "\n",
    "# Split test set first and keep it fixed\n",
    "train_val_set, test_set = random_split(dataset, [train_val_size, test_size])\n",
    "test_loader = DataLoader(test_set, batch_size=8, shuffle=False)\n",
    "\n",
    "def create_train_val_loaders(train_val_set, batch_size=8):\n",
    "    \"\"\"Shuffles and splits train_val_set into new train/val sets.\"\"\"\n",
    "    val_ratio = 0.1\n",
    "    train_val_len = len(train_val_set)\n",
    "    val_size = int(val_ratio * train_val_len)\n",
    "    train_size = train_val_len - val_size\n",
    "    train_set, val_set = random_split(train_val_set, [train_size, val_size])\n",
    "    train_loader = DataLoader(train_set, batch_size=batch_size, shuffle=True)\n",
    "    val_loader   = DataLoader(val_set,   batch_size=batch_size, shuffle=False)\n",
    "    return train_loader, val_loader"
   ]
  },
  {
   "cell_type": "code",
   "execution_count": 45,
   "id": "d0c64e41",
   "metadata": {},
   "outputs": [],
   "source": [
    "batch_size = 8\n",
    "# Create initial train/val splits\n",
    "train_loader, val_loader = create_train_val_loaders(train_val_set, batch_size)"
   ]
  },
  {
   "cell_type": "code",
   "execution_count": 46,
   "id": "caa81f12",
   "metadata": {},
   "outputs": [
    {
     "name": "stderr",
     "output_type": "stream",
     "text": [
      "                                                                                                \r"
     ]
    },
    {
     "name": "stdout",
     "output_type": "stream",
     "text": [
      "Epoch 1/20\n",
      "  Train Loss: 2.4685 | Accuracy: 0.1664\n",
      "  Val   Loss: 1.9637 | Accuracy: 0.3309\n"
     ]
    },
    {
     "name": "stderr",
     "output_type": "stream",
     "text": [
      "                                                                                                \r"
     ]
    },
    {
     "name": "stdout",
     "output_type": "stream",
     "text": [
      "Epoch 2/20\n",
      "  Train Loss: 1.9890 | Accuracy: 0.2525\n",
      "  Val   Loss: 1.7709 | Accuracy: 0.3971\n"
     ]
    },
    {
     "name": "stderr",
     "output_type": "stream",
     "text": [
      "                                                                                                \r"
     ]
    },
    {
     "name": "stdout",
     "output_type": "stream",
     "text": [
      "Epoch 3/20\n",
      "  Train Loss: 1.7811 | Accuracy: 0.3378\n",
      "  Val   Loss: 1.5607 | Accuracy: 0.4632\n"
     ]
    },
    {
     "name": "stderr",
     "output_type": "stream",
     "text": [
      "                                                                                                \r"
     ]
    },
    {
     "name": "stdout",
     "output_type": "stream",
     "text": [
      "Epoch 4/20\n",
      "  Train Loss: 1.6623 | Accuracy: 0.3742\n",
      "  Val   Loss: 1.4878 | Accuracy: 0.5000\n"
     ]
    },
    {
     "name": "stderr",
     "output_type": "stream",
     "text": [
      "                                                                                                \r"
     ]
    },
    {
     "name": "stdout",
     "output_type": "stream",
     "text": [
      "Epoch 5/20\n",
      "  Train Loss: 1.6030 | Accuracy: 0.3919\n",
      "  Val   Loss: 1.4466 | Accuracy: 0.4632\n"
     ]
    },
    {
     "name": "stderr",
     "output_type": "stream",
     "text": [
      "                                                                                                \r"
     ]
    },
    {
     "name": "stdout",
     "output_type": "stream",
     "text": [
      "Epoch 6/20\n",
      "  Train Loss: 1.5527 | Accuracy: 0.4299\n",
      "  Val   Loss: 4.6951 | Accuracy: 0.1397\n"
     ]
    },
    {
     "name": "stderr",
     "output_type": "stream",
     "text": [
      "                                                                                                \r"
     ]
    },
    {
     "name": "stdout",
     "output_type": "stream",
     "text": [
      "Epoch 7/20\n",
      "  Train Loss: 1.4986 | Accuracy: 0.4535\n",
      "  Val   Loss: 1.5823 | Accuracy: 0.4044\n"
     ]
    },
    {
     "name": "stderr",
     "output_type": "stream",
     "text": [
      "                                                                                                \r"
     ]
    },
    {
     "name": "stdout",
     "output_type": "stream",
     "text": [
      "Epoch 8/20\n",
      "  Train Loss: 1.4960 | Accuracy: 0.4417\n",
      "  Val   Loss: 1.3220 | Accuracy: 0.5294\n"
     ]
    },
    {
     "name": "stderr",
     "output_type": "stream",
     "text": [
      "                                                                                                \r"
     ]
    },
    {
     "name": "stdout",
     "output_type": "stream",
     "text": [
      "Epoch 9/20\n",
      "  Train Loss: 1.4643 | Accuracy: 0.4443\n",
      "  Val   Loss: 1.5130 | Accuracy: 0.4118\n"
     ]
    },
    {
     "name": "stderr",
     "output_type": "stream",
     "text": [
      "                                                                                                \r"
     ]
    },
    {
     "name": "stdout",
     "output_type": "stream",
     "text": [
      "Epoch 10/20\n",
      "  Train Loss: 1.4366 | Accuracy: 0.4696\n",
      "  Val   Loss: 1.2848 | Accuracy: 0.5735\n"
     ]
    },
    {
     "name": "stderr",
     "output_type": "stream",
     "text": [
      "                                                                                                \r"
     ]
    },
    {
     "name": "stdout",
     "output_type": "stream",
     "text": [
      "Epoch 11/20\n",
      "  Train Loss: 1.4000 | Accuracy: 0.4840\n",
      "  Val   Loss: 1.3158 | Accuracy: 0.5294\n"
     ]
    },
    {
     "name": "stderr",
     "output_type": "stream",
     "text": [
      "                                                                                                \r"
     ]
    },
    {
     "name": "stdout",
     "output_type": "stream",
     "text": [
      "Epoch 12/20\n",
      "  Train Loss: 1.3840 | Accuracy: 0.4949\n",
      "  Val   Loss: 1.2578 | Accuracy: 0.5588\n"
     ]
    },
    {
     "name": "stderr",
     "output_type": "stream",
     "text": [
      "                                                                                                \r"
     ]
    },
    {
     "name": "stdout",
     "output_type": "stream",
     "text": [
      "Epoch 13/20\n",
      "  Train Loss: 1.3590 | Accuracy: 0.4916\n",
      "  Val   Loss: 1.2678 | Accuracy: 0.5441\n"
     ]
    },
    {
     "name": "stderr",
     "output_type": "stream",
     "text": [
      "                                                                                                \r"
     ]
    },
    {
     "name": "stdout",
     "output_type": "stream",
     "text": [
      "Epoch 14/20\n",
      "  Train Loss: 1.3479 | Accuracy: 0.5068\n",
      "  Val   Loss: 1.2110 | Accuracy: 0.5441\n"
     ]
    },
    {
     "name": "stderr",
     "output_type": "stream",
     "text": [
      "                                                                                                \r"
     ]
    },
    {
     "name": "stdout",
     "output_type": "stream",
     "text": [
      "Epoch 15/20\n",
      "  Train Loss: 1.3273 | Accuracy: 0.5025\n",
      "  Val   Loss: 1.2207 | Accuracy: 0.5662\n"
     ]
    },
    {
     "name": "stderr",
     "output_type": "stream",
     "text": [
      "                                                                                                \r"
     ]
    },
    {
     "name": "stdout",
     "output_type": "stream",
     "text": [
      "Epoch 16/20\n",
      "  Train Loss: 1.3365 | Accuracy: 0.5152\n",
      "  Val   Loss: 1.2582 | Accuracy: 0.5882\n"
     ]
    },
    {
     "name": "stderr",
     "output_type": "stream",
     "text": [
      "                                                                                                \r"
     ]
    },
    {
     "name": "stdout",
     "output_type": "stream",
     "text": [
      "Epoch 17/20\n",
      "  Train Loss: 1.3075 | Accuracy: 0.5304\n",
      "  Val   Loss: 1.5020 | Accuracy: 0.4265\n"
     ]
    },
    {
     "name": "stderr",
     "output_type": "stream",
     "text": [
      "                                                                                                \r"
     ]
    },
    {
     "name": "stdout",
     "output_type": "stream",
     "text": [
      "Epoch 18/20\n",
      "  Train Loss: 1.2768 | Accuracy: 0.5380\n",
      "  Val   Loss: 1.2659 | Accuracy: 0.5221\n"
     ]
    },
    {
     "name": "stderr",
     "output_type": "stream",
     "text": [
      "                                                                                                \r"
     ]
    },
    {
     "name": "stdout",
     "output_type": "stream",
     "text": [
      "Epoch 19/20\n",
      "  Train Loss: 1.3024 | Accuracy: 0.5144\n",
      "  Val   Loss: 1.2704 | Accuracy: 0.5441\n"
     ]
    },
    {
     "name": "stderr",
     "output_type": "stream",
     "text": [
      "                                                                                                "
     ]
    },
    {
     "name": "stdout",
     "output_type": "stream",
     "text": [
      "Epoch 20/20\n",
      "  Train Loss: 1.2613 | Accuracy: 0.5363\n",
      "  Val   Loss: 1.1964 | Accuracy: 0.5662\n"
     ]
    },
    {
     "name": "stderr",
     "output_type": "stream",
     "text": [
      "\r"
     ]
    }
   ],
   "source": [
    "num_epochs = 20\n",
    "\n",
    "for epoch in range(num_epochs):\n",
    "    train_loss, train_acc = train_one_epoch(model, train_loader, optimizer, criterion, device)\n",
    "    val_loss, val_acc = validate(model, val_loader, criterion, device)\n",
    "\n",
    "    print(f\"Epoch {epoch+1}/{num_epochs}\")\n",
    "    print(f\"  Train Loss: {train_loss:.4f} | Accuracy: {train_acc:.4f}\")\n",
    "    print(f\"  Val   Loss: {val_loss:.4f} | Accuracy: {val_acc:.4f}\")"
   ]
  },
  {
   "cell_type": "markdown",
   "id": "35272464",
   "metadata": {},
   "source": [
    "# 7. Evaluation"
   ]
  },
  {
   "cell_type": "markdown",
   "id": "40803edf",
   "metadata": {},
   "source": [
    "NOTE: I forgot to do a test dataset split so I'm currently gonna get a random subset"
   ]
  },
  {
   "cell_type": "code",
   "execution_count": 47,
   "id": "9b0d6fb5",
   "metadata": {},
   "outputs": [],
   "source": [
    "import torch.nn.functional as F\n",
    "\n",
    "def predict(model, dataloader, device):\n",
    "    model.eval()\n",
    "    topk_preds = [[] for _ in range(5)]\n",
    "    topk_probs = [[] for _ in range(5)]\n",
    "    all_labels = []\n",
    "\n",
    "    with torch.no_grad():\n",
    "        for batch in dataloader:\n",
    "            vol_local   = batch[\"volume_local\"].to(device)\n",
    "            vol_context = batch[\"volume_context\"].to(device)\n",
    "            radiomics   = batch[\"radiomics\"].to(device)\n",
    "            labels      = batch[\"label\"].to(device)\n",
    "\n",
    "            outputs = model(vol_local, vol_context, radiomics)\n",
    "            probs = F.softmax(outputs, dim=1)\n",
    "            top5 = torch.topk(probs, k=5, dim=1)\n",
    "\n",
    "            for i in range(5):\n",
    "                topk_preds[i].extend(top5.indices[:, i].cpu().numpy())\n",
    "                topk_probs[i].extend(top5.values[:, i].cpu().numpy())\n",
    "\n",
    "            all_labels.extend(labels.cpu().numpy())\n",
    "\n",
    "    return {\n",
    "        \"top1_preds\": np.array(topk_preds[0]),\n",
    "        \"top2_preds\": np.array(topk_preds[1]),\n",
    "        \"top3_preds\": np.array(topk_preds[2]),\n",
    "        \"top4_preds\": np.array(topk_preds[3]),\n",
    "        \"top5_preds\": np.array(topk_preds[4]),\n",
    "        \"top1_probs\": np.array(topk_probs[0]),\n",
    "        \"top2_probs\": np.array(topk_probs[1]),\n",
    "        \"top3_probs\": np.array(topk_probs[2]),\n",
    "        \"top4_probs\": np.array(topk_probs[3]),\n",
    "        \"top5_probs\": np.array(topk_probs[4]),\n",
    "        \"labels\":     np.array(all_labels)\n",
    "    }\n"
   ]
  },
  {
   "cell_type": "code",
   "execution_count": 48,
   "id": "869106b3",
   "metadata": {},
   "outputs": [],
   "source": [
    "from sklearn.metrics import accuracy_score, f1_score, confusion_matrix, classification_report\n",
    "import seaborn as sns\n",
    "import matplotlib.pyplot as plt\n",
    "\n",
    "def evaluate_model(model, dataloader, device, class_names):\n",
    "    results = predict(model, dataloader, device)\n",
    "\n",
    "    top1 = results[\"top1_preds\"]\n",
    "    top2 = results[\"top2_preds\"]\n",
    "    top3 = results[\"top3_preds\"]\n",
    "    top4 = results[\"top4_preds\"]\n",
    "    top5 = results[\"top5_preds\"]\n",
    "    probs1 = results[\"top1_probs\"]\n",
    "    probs2 = results[\"top2_probs\"]\n",
    "    probs3 = results[\"top3_probs\"]\n",
    "    probs4 = results[\"top4_probs\"]\n",
    "    probs5 = results[\"top5_probs\"]\n",
    "    y_true = results[\"labels\"]\n",
    "\n",
    "    # Top-1 metrics\n",
    "    acc1 = accuracy_score(y_true, top1)\n",
    "    f1_1 = f1_score(y_true, top1, average=\"weighted\")\n",
    "    print(f\"Top-1 Accuracy: {acc1:.4f}\")\n",
    "    print(f\"Top-1 F1 Score:  {f1_1:.4f}\")\n",
    "\n",
    "    # Top-2 accuracy\n",
    "    top2_correct = ((top1 == y_true) | (top2 == y_true)).astype(int)\n",
    "    acc2 = top2_correct.mean()\n",
    "    print(f\"Top-2 Accuracy: {acc2:.4f}\")\n",
    "\n",
    "    # Top-3 accuracy\n",
    "    top3_correct = ((top1 == y_true) | (top2 == y_true) | (top3 == y_true)).astype(int)\n",
    "    acc3 = top3_correct.mean()\n",
    "    print(f\"Top-3 Accuracy: {acc3:.4f}\\n\")\n",
    "\n",
    "    # Classification report\n",
    "    print(\"Classification Report (Top-1):\")\n",
    "    print(classification_report(y_true, top1, target_names=class_names))\n",
    "\n",
    "    # Example predictions\n",
    "    print(\"\\nSample Predictions with Confidence:\")\n",
    "    for i in range(20):\n",
    "        print(f\"True: {class_names[y_true[i]]}, \"\n",
    "              f\"Top-1: {class_names[top1[i]]} ({probs1[i]*100:.1f}%), \"\n",
    "              f\"Top-2: {class_names[top2[i]]} ({probs2[i]*100:.1f}%), \"\n",
    "              f\"Top-3: {class_names[top3[i]]} ({probs3[i]*100:.1f}%)\")\n",
    "        \n",
    "        p3sum = probs1[i] + probs2[i] + probs3[i]\n",
    "        if p3sum < 0.75:\n",
    "            print(f\", Top-4: {class_names[top4[i]]} ({probs4[i]*100:.1f}%)\", end='')\n",
    "            p4sum = p3sum + probs4[i]\n",
    "            if p4sum < 0.85:\n",
    "                print(f\", Top-5: {class_names[top5[i]]} ({probs5[i]*100:.1f}%)\", end='')\n",
    "        print()  # Newline after each sample\n",
    "\n",
    "    # Confusion Matrix (Top-1)\n",
    "    cm = confusion_matrix(y_true, top1)\n",
    "    plt.figure(figsize=(8, 6))\n",
    "    sns.heatmap(cm, annot=True, fmt=\"d\", cmap=\"Blues\",\n",
    "                xticklabels=class_names, yticklabels=class_names)\n",
    "    plt.xlabel(\"Predicted (Top-1)\")\n",
    "    plt.ylabel(\"True\")\n",
    "    plt.title(\"Confusion Matrix (Top-1)\")\n",
    "    plt.show()\n"
   ]
  },
  {
   "cell_type": "code",
   "execution_count": 49,
   "id": "c01f36de",
   "metadata": {},
   "outputs": [
    {
     "name": "stdout",
     "output_type": "stream",
     "text": [
      "Top-1 Accuracy: 0.4621\n",
      "Top-1 F1 Score:  0.4352\n",
      "Top-2 Accuracy: 0.6207\n",
      "Top-3 Accuracy: 0.6897\n",
      "\n",
      "Classification Report (Top-1):\n",
      "                                         precision    recall  f1-score   support\n",
      "\n",
      "                       Active Infection       0.71      0.42      0.53        12\n",
      "                         Adenocarcinoma       0.25      0.09      0.13        11\n",
      "               Adenoid Cystic Carcinoma       0.14      0.30      0.19        10\n",
      "         Bronchioloalveolar Hyperplasia       0.39      0.81      0.53        16\n",
      "                       Carcinoid Tumors       1.00      0.67      0.80         6\n",
      "                              Granuloma       0.90      0.90      0.90        10\n",
      "                              Hamartoma       1.00      1.00      1.00        12\n",
      "             Intrapulmonary Lymph Nodes       1.00      0.56      0.71         9\n",
      "Large Cell (Undifferentiated) Carcinoma       0.00      0.00      0.00        11\n",
      "                               Lymphoma       0.00      0.00      0.00         8\n",
      "                      Metastatic Tumors       0.53      0.80      0.64        10\n",
      "                            Sarcoidosis       0.40      0.50      0.44         8\n",
      "                  Sarcomatoid Carcinoma       0.00      0.00      0.00         7\n",
      "          Small Cell Lung Cancer (SCLC)       0.20      0.25      0.22         8\n",
      "                Squamous Cell Carcinoma       0.12      0.14      0.13         7\n",
      "\n",
      "                               accuracy                           0.46       145\n",
      "                              macro avg       0.44      0.43      0.42       145\n",
      "                           weighted avg       0.46      0.46      0.44       145\n",
      "\n",
      "\n",
      "Sample Predictions with Confidence:\n",
      "True: Hamartoma, Top-1: Hamartoma (99.1%), Top-2: Granuloma (0.9%), Top-3: Adenoid Cystic Carcinoma (0.0%)\n",
      "\n",
      "True: Active Infection, Top-1: Active Infection (22.5%), Top-2: Bronchioloalveolar Hyperplasia (21.8%), Top-3: Adenoid Cystic Carcinoma (11.9%)\n",
      ", Top-4: Large Cell (Undifferentiated) Carcinoma (8.5%), Top-5: Sarcomatoid Carcinoma (8.5%)\n",
      "True: Adenocarcinoma, Top-1: Adenocarcinoma (39.7%), Top-2: Bronchioloalveolar Hyperplasia (19.0%), Top-3: Large Cell (Undifferentiated) Carcinoma (17.1%)\n",
      "\n",
      "True: Metastatic Tumors, Top-1: Metastatic Tumors (73.8%), Top-2: Intrapulmonary Lymph Nodes (18.1%), Top-3: Granuloma (5.0%)\n",
      "\n",
      "True: Bronchioloalveolar Hyperplasia, Top-1: Bronchioloalveolar Hyperplasia (78.9%), Top-2: Sarcomatoid Carcinoma (5.7%), Top-3: Large Cell (Undifferentiated) Carcinoma (4.1%)\n",
      "\n",
      "True: Squamous Cell Carcinoma, Top-1: Adenoid Cystic Carcinoma (31.7%), Top-2: Squamous Cell Carcinoma (17.6%), Top-3: Lymphoma (10.2%)\n",
      ", Top-4: Bronchioloalveolar Hyperplasia (10.0%), Top-5: Adenocarcinoma (8.5%)\n",
      "True: Active Infection, Top-1: Adenoid Cystic Carcinoma (27.1%), Top-2: Active Infection (19.4%), Top-3: Squamous Cell Carcinoma (13.5%)\n",
      ", Top-4: Small Cell Lung Cancer (SCLC) (10.2%), Top-5: Lymphoma (9.4%)\n",
      "True: Sarcomatoid Carcinoma, Top-1: Bronchioloalveolar Hyperplasia (24.1%), Top-2: Adenocarcinoma (24.1%), Top-3: Large Cell (Undifferentiated) Carcinoma (20.2%)\n",
      ", Top-4: Sarcomatoid Carcinoma (12.4%), Top-5: Small Cell Lung Cancer (SCLC) (7.1%)\n",
      "True: Metastatic Tumors, Top-1: Metastatic Tumors (88.9%), Top-2: Intrapulmonary Lymph Nodes (4.9%), Top-3: Sarcoidosis (4.2%)\n",
      "\n",
      "True: Bronchioloalveolar Hyperplasia, Top-1: Bronchioloalveolar Hyperplasia (61.1%), Top-2: Adenocarcinoma (14.2%), Top-3: Large Cell (Undifferentiated) Carcinoma (10.8%)\n",
      "\n",
      "True: Adenocarcinoma, Top-1: Bronchioloalveolar Hyperplasia (43.5%), Top-2: Active Infection (13.2%), Top-3: Sarcomatoid Carcinoma (9.0%)\n",
      ", Top-4: Squamous Cell Carcinoma (7.6%), Top-5: Lymphoma (6.7%)\n",
      "True: Sarcomatoid Carcinoma, Top-1: Bronchioloalveolar Hyperplasia (37.5%), Top-2: Active Infection (15.4%), Top-3: Sarcomatoid Carcinoma (11.1%)\n",
      ", Top-4: Adenocarcinoma (8.7%), Top-5: Large Cell (Undifferentiated) Carcinoma (8.4%)\n",
      "True: Adenocarcinoma, Top-1: Bronchioloalveolar Hyperplasia (30.6%), Top-2: Large Cell (Undifferentiated) Carcinoma (19.0%), Top-3: Adenocarcinoma (17.2%)\n",
      ", Top-4: Lymphoma (9.7%), Top-5: Sarcomatoid Carcinoma (7.9%)\n",
      "True: Small Cell Lung Cancer (SCLC), Top-1: Small Cell Lung Cancer (SCLC) (20.2%), Top-2: Adenocarcinoma (18.4%), Top-3: Lymphoma (16.9%)\n",
      ", Top-4: Adenoid Cystic Carcinoma (12.7%), Top-5: Large Cell (Undifferentiated) Carcinoma (11.5%)\n",
      "True: Carcinoid Tumors, Top-1: Carcinoid Tumors (29.8%), Top-2: Metastatic Tumors (25.4%), Top-3: Intrapulmonary Lymph Nodes (21.3%)\n",
      "\n",
      "True: Hamartoma, Top-1: Hamartoma (99.8%), Top-2: Granuloma (0.2%), Top-3: Adenoid Cystic Carcinoma (0.0%)\n",
      "\n",
      "True: Carcinoid Tumors, Top-1: Carcinoid Tumors (98.6%), Top-2: Granuloma (0.6%), Top-3: Sarcoidosis (0.5%)\n",
      "\n",
      "True: Granuloma, Top-1: Granuloma (98.5%), Top-2: Hamartoma (0.8%), Top-3: Intrapulmonary Lymph Nodes (0.2%)\n",
      "\n",
      "True: Intrapulmonary Lymph Nodes, Top-1: Metastatic Tumors (70.1%), Top-2: Intrapulmonary Lymph Nodes (21.2%), Top-3: Granuloma (5.8%)\n",
      "\n",
      "True: Granuloma, Top-1: Granuloma (99.8%), Top-2: Hamartoma (0.2%), Top-3: Adenoid Cystic Carcinoma (0.0%)\n",
      "\n"
     ]
    },
    {
     "name": "stderr",
     "output_type": "stream",
     "text": [
      "c:\\Users\\Aidan\\anaconda3\\envs\\internenv\\lib\\site-packages\\sklearn\\metrics\\_classification.py:1471: UndefinedMetricWarning: Precision and F-score are ill-defined and being set to 0.0 in labels with no predicted samples. Use `zero_division` parameter to control this behavior.\n",
      "  _warn_prf(average, modifier, msg_start, len(result))\n",
      "c:\\Users\\Aidan\\anaconda3\\envs\\internenv\\lib\\site-packages\\sklearn\\metrics\\_classification.py:1471: UndefinedMetricWarning: Precision and F-score are ill-defined and being set to 0.0 in labels with no predicted samples. Use `zero_division` parameter to control this behavior.\n",
      "  _warn_prf(average, modifier, msg_start, len(result))\n",
      "c:\\Users\\Aidan\\anaconda3\\envs\\internenv\\lib\\site-packages\\sklearn\\metrics\\_classification.py:1471: UndefinedMetricWarning: Precision and F-score are ill-defined and being set to 0.0 in labels with no predicted samples. Use `zero_division` parameter to control this behavior.\n",
      "  _warn_prf(average, modifier, msg_start, len(result))\n"
     ]
    },
    {
     "data": {
      "image/png": "[encoded data removed]",
      "text/plain": [
       "<Figure size 800x600 with 2 Axes>"
      ]
     },
     "metadata": {},
     "output_type": "display_data"
    }
   ],
   "source": [
    "class_names = list(le.classes_)\n",
    "evaluate_model(model, test_loader, device, class_names)"
   ]
  },
  {
   "cell_type": "markdown",
   "id": "4b724455",
   "metadata": {},
   "source": [
    "# 8. Explainability"
   ]
  },
  {
   "cell_type": "markdown",
   "id": "1c8ab5b3",
   "metadata": {},
   "source": [
    "### Grad-Cam"
   ]
  },
  {
   "cell_type": "code",
   "execution_count": 50,
   "id": "04064cf6",
   "metadata": {},
   "outputs": [],
   "source": [
    "from pytorch_grad_cam import GradCAM\n",
    "from pytorch_grad_cam.utils.model_targets import ClassifierOutputTarget\n",
    "from pytorch_grad_cam.utils.image import show_cam_on_image"
   ]
  },
  {
   "cell_type": "code",
   "execution_count": 52,
   "id": "4859fe9b",
   "metadata": {},
   "outputs": [],
   "source": [
    "target_layer = model.local_branch.conv[4]  # the second Conv3D layer"
   ]
  },
  {
   "cell_type": "code",
   "execution_count": 53,
   "id": "db76346b",
   "metadata": {},
   "outputs": [],
   "source": [
    "cam = GradCAM(model=model.local_branch, target_layers=[target_layer])\n",
    "\n",
    "batch = next(iter(test_loader))  # one batch\n",
    "input_tensor = batch[\"volume_local\"][4].unsqueeze(0).to(device)  # [1, 1, D, H, W]\n",
    "target_category = batch[\"label\"][4].item()\n",
    "\n",
    "grayscale_cam = cam(input_tensor=input_tensor, targets=[ClassifierOutputTarget(target_category)])\n"
   ]
  },
  {
   "cell_type": "code",
   "execution_count": 54,
   "id": "8cf9a89f",
   "metadata": {},
   "outputs": [
    {
     "data": {
      "image/png": "[encoded data removed]",
      "text/plain": [
       "<Figure size 600x600 with 1 Axes>"
      ]
     },
     "metadata": {},
     "output_type": "display_data"
    }
   ],
   "source": [
    "# Visualize the heatmap \n",
    "\n",
    "input_volume = batch[\"volume_local\"][4].squeeze(0).cpu().numpy() \n",
    "\n",
    "def normalize(x):\n",
    "    x = x - x.min()\n",
    "    x = x / (x.max() + 1e-5)\n",
    "    return x\n",
    "\n",
    "volume = batch[\"volume_local\"][4].squeeze(0).cpu().numpy()      \n",
    "grayscale = grayscale_cam[0]                                    \n",
    "\n",
    "# Take the middle slice\n",
    "mid = volume.shape[0] // 2\n",
    "slice_img = normalize(volume[mid])\n",
    "cam_slice = normalize(grayscale[mid])\n",
    "\n",
    "if cam_slice.shape != slice_img.shape:\n",
    "    cam_slice = cv2.resize(cam_slice, slice_img.shape[::-1])\n",
    "\n",
    "# Convert CAM to heatmap\n",
    "cam_uint8 = np.ascontiguousarray((cam_slice * 255).astype(np.uint8))\n",
    "heatmap = cv2.applyColorMap(cam_uint8, cv2.COLORMAP_JET)\n",
    "heatmap = cv2.cvtColor(heatmap, cv2.COLOR_BGR2RGB) / 255.0\n",
    "\n",
    "# Prepare grayscale CT image\n",
    "ct_rgb = np.stack([slice_img] * 3, axis=-1)\n",
    "\n",
    "overlay = 0.8 * ct_rgb + 0.2 * heatmap\n",
    "\n",
    "plt.figure(figsize=(6, 6))\n",
    "plt.imshow(overlay)\n",
    "plt.title(\"Grad-CAM Overlay (Middle Slice)\")\n",
    "plt.axis(\"off\")\n",
    "plt.show()"
   ]
  },
  {
   "cell_type": "markdown",
   "id": "cfef3a23",
   "metadata": {},
   "source": [
    "# 9. Save model"
   ]
  },
  {
   "cell_type": "code",
   "execution_count": null,
   "id": "68631414",
   "metadata": {},
   "outputs": [],
   "source": [
    "#torch.save(model.state_dict(), \"triple_fusion_model_altdifflossv4.pkl\")"
   ]
  },
  {
   "cell_type": "code",
   "execution_count": null,
   "id": "7f71133b",
   "metadata": {},
   "outputs": [],
   "source": [
    "#torch.save(model.state_dict(), \"triple_fusion_model.pkl\")"
   ]
  }
 ],
 "metadata": {
  "kernelspec": {
   "display_name": "internenv",
   "language": "python",
   "name": "python3"
  },
  "language_info": {
   "codemirror_mode": {
    "name": "ipython",
    "version": 3
   },
   "file_extension": ".py",
   "mimetype": "text/x-python",
   "name": "python",
   "nbconvert_exporter": "python",
   "pygments_lexer": "ipython3",
   "version": "3.10.16"
  }
 },
 "nbformat": 4,
 "nbformat_minor": 5
}
