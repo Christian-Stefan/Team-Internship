{
  "cells": [
    {
      "cell_type": "markdown",
      "metadata": {
        "id": "view-in-github",
        "colab_type": "text"
      },
      "source": [
        "<a href=\"https://colab.research.google.com/github/Christian-Stefan/Team-Internship/blob/Chris/Copy_of_DataReconstructionDemo.ipynb\" target=\"_parent\"><img src=\"https://colab.research.google.com/assets/colab-badge.svg\" alt=\"Open In Colab\"/></a>"
      ]
    },
    {
      "cell_type": "markdown",
      "source": [
        "# Data Reconstruction"
      ],
      "metadata": {
        "id": "6LQdNJ-FrdI3"
      }
    },
    {
      "cell_type": "markdown",
      "source": [
        "## Add dependencies"
      ],
      "metadata": {
        "id": "18uzfGSMrqf2"
      }
    },
    {
      "cell_type": "code",
      "source": [
        "#!pip install SimpleITK\n",
        "#!pip install pydicom\n",
        "import numpy as np\n",
        "import pydicom\n",
        "import json\n",
        "import SimpleITK as sitk\n",
        "import os\n",
        "from mpl_toolkits.mplot3d.art3d import Poly3DCollection\n",
        "import matplotlib.pyplot as plt\n",
        "from skimage import measure\n",
        "from PIL import Image, ImageDraw"
      ],
      "metadata": {
        "id": "X_ZuQoG-riet"
      },
      "execution_count": null,
      "outputs": []
    },
    {
      "cell_type": "markdown",
      "source": [
        "## Load sample"
      ],
      "metadata": {
        "id": "Ncyrhg8XruSz"
      }
    },
    {
      "cell_type": "code",
      "source": [
        "def load_dicom_Series(path:str):\n",
        "\n",
        "    #1 Initialize the sitk class - ImageSeriesReader\n",
        "\n",
        "    reader = sitk.ImageSeriesReader()\n",
        "    dicom_names = reader.GetGDCMSeriesFileNames(path)\n",
        "    reader.SetFileNames(dicom_names)\n",
        "    image = reader.Execute()\n",
        "\n",
        "    return image"
      ],
      "metadata": {
        "id": "Kw4K1IS9ryjU"
      },
      "execution_count": null,
      "outputs": []
    },
    {
      "cell_type": "markdown",
      "source": [
        "# Segmentaton"
      ],
      "metadata": {
        "id": "-5rEVlbIsCZk"
      }
    },
    {
      "cell_type": "code",
      "source": [
        "def parse_Segmentation(json_path:str, image_size:int, num_slices:int):\n",
        "\n",
        "  # 1. Retrieving JSON object\n",
        "  with open(json_path, 'r') as f:\n",
        "    data = json.load(f)\n",
        "\n",
        "  segmentaton_data_info = data['annotation']\n",
        "  mask_array = np.zeros((num_slices, image_size[1], image_size[0]),dtype=np.uint8)\n",
        "\n",
        "  for slice_index, slice_dictionary in enumerate(segmentaton_data_info):\n",
        "    key = list(slice_dictionary.keys())[0]\n",
        "    coords = np.array(slice_dictionary[key]['segmentation'][0]).reshape(-1, 2)\n",
        "\n",
        "    coords[:, 0]*= image_size[0] # The coords are multiplied with max W and L\n",
        "    coords[:, 1]*= image_size[1]\n",
        "    coords.astype(np.int32)\n",
        "\n",
        "    # Fill polygon manually on numpy mask\n",
        "    img = Image.new('L', (image_size[0], image_size[1]), 0)\n",
        "    ImageDraw.Draw(img).polygon(coords.flatten().tolist(), outline=1, fill=1)\n",
        "    mask_array[slice_index] = np.array(img)\n",
        "\n",
        "  return mask_array"
      ],
      "metadata": {
        "id": "sLiZzj4Nsej2"
      },
      "execution_count": null,
      "outputs": []
    },
    {
      "cell_type": "markdown",
      "source": [
        "# Extract VOI"
      ],
      "metadata": {
        "id": "WcNbMMZ0shQw"
      }
    },
    {
      "cell_type": "code",
      "source": [
        "def extract_nodule_Region(ct_image, mask):\n",
        "  ct_array = sitk.GetArrayFromImage(ct_image)\n",
        "  nodule_array = ct_array * mask\n",
        "  return nodule_array"
      ],
      "metadata": {
        "id": "nh9heTIdsiHR"
      },
      "execution_count": null,
      "outputs": []
    },
    {
      "cell_type": "markdown",
      "source": [
        "# Rendering"
      ],
      "metadata": {
        "id": "exFGHlDvsrqp"
      }
    },
    {
      "cell_type": "code",
      "source": [
        "# def plot_3d(volume, threshold=0):\n",
        "#     verts, faces, _, _ = measure.marching_cubes(volume, level=threshold)\n",
        "\n",
        "#     fig = plt.figure(figsize=(10, 10))\n",
        "#     ax = fig.add_subplot(111, projection='3d')\n",
        "\n",
        "#     mesh = Poly3DCollection(verts[faces], alpha=0.7)\n",
        "#     mesh.set_facecolor('gray')\n",
        "#     mesh.set_edgecolor('k')\n",
        "#     ax.add_collection3d(mesh)\n",
        "#     ax.set_xlim(0, volume.shape[2])\n",
        "#     ax.set_ylim(0, volume.shape[1])\n",
        "#     ax.set_zlim(0, volume.shape[0])\n",
        "#     ax.view_init(elev=30, azim=45)\n",
        "#     plt.tight_layout()\n",
        "#     plt.show()\n",
        "\n",
        "def plot_3d(volume, threshold=0):\n",
        "    verts, faces, _, _ = measure.marching_cubes(volume, level=threshold)\n",
        "\n",
        "    # Optional real-world scaling\n",
        "    spacing = (1.0, 1.0, 2.0)  # Replace with ct_image.GetSpacing()[::-1] if needed\n",
        "    verts[:, 0] *= spacing[0]\n",
        "    verts[:, 1] *= spacing[1]\n",
        "    verts[:, 2] *= spacing[2]\n",
        "\n",
        "    fig = plt.figure(figsize=(10, 10))\n",
        "    ax = fig.add_subplot(111, projection='3d')\n",
        "\n",
        "    mesh = Poly3DCollection(verts[faces])\n",
        "    mesh.set_facecolor('lightcoral')  # 'gray' or any Matplotlib color\n",
        "    mesh.set_edgecolor('k')\n",
        "    mesh.set_alpha(0.9)\n",
        "    ax.add_collection3d(mesh)\n",
        "\n",
        "    # Auto-scaling view\n",
        "    ax.auto_scale_xyz(\n",
        "        [0, volume.shape[2] * spacing[2]],\n",
        "        [0, volume.shape[1] * spacing[1]],\n",
        "        [0, volume.shape[0] * spacing[0]]\n",
        "    )\n",
        "    ax.view_init(elev=30, azim=45)\n",
        "    ax.grid(False)\n",
        "    plt.tight_layout()\n",
        "    plt.show()"
      ],
      "metadata": {
        "id": "X3xc7UaPssc7"
      },
      "execution_count": null,
      "outputs": []
    },
    {
      "cell_type": "markdown",
      "source": [
        "# Crop Nodule"
      ],
      "metadata": {
        "id": "XVyX-k7f6imP"
      }
    },
    {
      "cell_type": "code",
      "source": [
        "def crop_to_nodule_box(nodule_volume):\n",
        "  coords = np.argwhere(nodule_volume > 0)\n",
        "\n",
        "  # Check\n",
        "  if coords.size == 0:\n",
        "    raise ValueError(\"No Nodule\")\n",
        "\n",
        "  zmin, ymin, xmin = coords.min(axis=0)\n",
        "  zmax, ymax, xmax = coords.max(axis=0) + 1\n",
        "\n",
        "  cropped_nodule = nodule_volume[zmin:zmax, ymin:ymax, xmin:xmax]\n",
        "  print(\"Croppsed volume shape\", cropped_nodule.shape)\n",
        "  return cropped_nodule"
      ],
      "metadata": {
        "id": "bGHsgPYw6mYV"
      },
      "execution_count": null,
      "outputs": []
    },
    {
      "cell_type": "markdown",
      "source": [
        "# Ppeline\n"
      ],
      "metadata": {
        "id": "f1OyHgarvRN4"
      }
    },
    {
      "cell_type": "code",
      "source": [],
      "metadata": {
        "id": "ZuOr6QUOwKPn"
      },
      "execution_count": null,
      "outputs": []
    },
    {
      "cell_type": "code",
      "source": [
        "# Add dependencies\n",
        "\n",
        "# Set path\n",
        "data_path:str = '/content/sample_data'\n",
        "json_path:str = '/content/sample_data/segmentation_00000.json'\n",
        "\n",
        "# 1. Lod image volume\n",
        "ct_image = load_dicom_Series(data_path)\n",
        "image_size = ct_image.GetSize()[:2] # width length\n",
        "no_slices = ct_image.GetSize()[2]\n",
        "# Product description\n",
        "print(\"CT Size {}\\nNo. Slices {}\".format(ct_image.GetSize(), no_slices))\n",
        "\n",
        "# 2. Load segmentation & create mask\n",
        "mask_3d = parse_Segmentation(json_path, image_size, no_slices)\n",
        "\n",
        "# 3. Extract nodule gra-level regon\n",
        "nodule_volume = extract_nodule_Region(ct_image, mask_3d)\n",
        "\n",
        "\n",
        "# 3.1 Down scale to the box of the actual nodule\n",
        "cropped_nodule = crop_to_nodule_box(nodule_volume)\n",
        "\n",
        "print(\"Volume shape \",nodule_volume.shape)\n",
        "print(\"Non-zero voxel count \",np.count_nonzero(nodule_volume))\n",
        "print(\"Value range \",np.min(nodule_volume), np.max(nodule_volume))\n",
        "\n",
        "# 4. Rendering and Display\n",
        "non_zero = nodule_volume[nodule_volume>0]\n",
        "plot_3d(cropped_nodule, threshold=np.percentile(non_zero, 30))\n",
        "\n"
      ],
      "metadata": {
        "colab": {
          "base_uri": "https://localhost:8080/",
          "height": 1000
        },
        "id": "jfSXi_us3eeq",
        "outputId": "b736bd58-1a76-4e5c-cf2a-0b87ee2aa48c"
      },
      "execution_count": null,
      "outputs": [
        {
          "output_type": "stream",
          "name": "stdout",
          "text": [
            "CT Size (512, 512, 103)\n",
            "No. Slices 103\n",
            "Croppsed volume shape (4, 11, 19)\n",
            "Volume shape  (103, 512, 512)\n",
            "Non-zero voxel count  704\n",
            "Value range  -80 129\n"
          ]
        },
        {
          "output_type": "display_data",
          "data": {
            "text/plain": [
              "<Figure size 1000x1000 with 1 Axes>"
            ],
            "image/png": "[encoded data removed]"
          },
          "metadata": {}
        }
      ]
    },
    {
      "cell_type": "code",
      "source": [
        "# Debugging\n",
        "# Volume\n",
        "print(nodule_volume.shape)\n",
        "print(np.unique(nodule_volume))\n",
        "print(len(np.unique(nodule_volume)))\n",
        "\n",
        "# Thresholg against volume\n",
        "print(np.min(nodule_volume), np.max(nodule_volume))\n",
        "threshold = np.percentile(nodule_volume[nodule_volume>0], 30)\n",
        "\n",
        "# Mask shape against ct's shape\n",
        "mask_3d.shape == sitk.GetArrayFromImage(ct_image).shape"
      ],
      "metadata": {
        "colab": {
          "base_uri": "https://localhost:8080/"
        },
        "id": "tDRcHdOiwFav",
        "outputId": "0f723673-68ae-42f2-ab23-b1119a0b44a6"
      },
      "execution_count": null,
      "outputs": [
        {
          "output_type": "stream",
          "name": "stdout",
          "text": [
            "(103, 512, 512)\n",
            "[-80 -77 -75 -74 -73 -72 -71 -70 -69 -68 -67 -66 -65 -64 -63 -62 -61 -60\n",
            " -59 -58 -57 -56 -55 -54 -53 -52 -51 -50 -49 -48 -47 -46 -45 -44 -43 -42\n",
            " -41 -40 -39 -38 -37 -36 -35 -34 -33 -32 -31 -30 -29 -28 -27 -26 -25 -24\n",
            " -23 -22 -21 -20 -19 -18 -17 -16 -15 -14 -13 -12 -11  -8  -7  -2   0   1\n",
            "   2   7   9  11  12  15  18  20  22  28  39  48  49  52  57  66  70  77\n",
            "  80  82  85  86  92  93  98  99 100 102 103 104 107 108 109 114 116 117\n",
            " 121 124 129]\n",
            "111\n",
            "-80 129\n"
          ]
        },
        {
          "output_type": "execute_result",
          "data": {
            "text/plain": [
              "True"
            ]
          },
          "metadata": {},
          "execution_count": 165
        }
      ]
    },
    {
      "cell_type": "code",
      "source": [],
      "metadata": {
        "id": "cnQhlmBH3imA"
      },
      "execution_count": null,
      "outputs": []
    },
    {
      "cell_type": "code",
      "source": [
        "!git status"
      ],
      "metadata": {
        "colab": {
          "base_uri": "https://localhost:8080/"
        },
        "id": "MahEbkuZ-cSy",
        "outputId": "fd09d64b-8844-4969-ca98-0a44028efa84"
      },
      "execution_count": 1,
      "outputs": [
        {
          "output_type": "stream",
          "name": "stdout",
          "text": [
            "fatal: not a git repository (or any of the parent directories): .git\n"
          ]
        }
      ]
    },
    {
      "cell_type": "code",
      "source": [],
      "metadata": {
        "id": "HxgmDryv-dMc"
      },
      "execution_count": null,
      "outputs": []
    }
  ],
  "metadata": {
    "kernelspec": {
      "display_name": "Python 3 (ipykernel)",
      "language": "python",
      "name": "python3"
    },
    "language_info": {
      "codemirror_mode": {
        "name": "ipython",
        "version": 3
      },
      "file_extension": ".py",
      "mimetype": "text/x-python",
      "name": "python",
      "nbconvert_exporter": "python",
      "pygments_lexer": "ipython3",
      "version": "3.9.13"
    },
    "colab": {
      "provenance": [],
      "toc_visible": true,
      "collapsed_sections": [
        "18uzfGSMrqf2",
        "Ncyrhg8XruSz",
        "-5rEVlbIsCZk",
        "WcNbMMZ0shQw",
        "exFGHlDvsrqp",
        "XVyX-k7f6imP",
        "f1OyHgarvRN4"
      ],
      "include_colab_link": true
    }
  },
  "nbformat": 4,
  "nbformat_minor": 0
}
