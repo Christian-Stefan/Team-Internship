{
 "cells": [
  {
   "cell_type": "markdown",
   "id": "0067e010",
   "metadata": {},
   "source": [
    "## 1. Data Preparation"
   ]
  },
  {
   "cell_type": "markdown",
   "id": "84eb6414",
   "metadata": {},
   "source": [
    "### Load data"
   ]
  },
  {
   "cell_type": "code",
   "execution_count": 1,
   "id": "9a703e57",
   "metadata": {},
   "outputs": [],
   "source": [
    "import pandas as pd\n",
    "\n",
    "df = pd.read_csv(\"D:/Tue_courses/team_internship/CodingFiles/whole Dataset.csv.xls\")"
   ]
  },
  {
   "cell_type": "code",
   "execution_count": 2,
   "id": "24d502f2",
   "metadata": {},
   "outputs": [
    {
     "data": {
      "text/html": [
       "<div>\n",
       "<style scoped>\n",
       "    .dataframe tbody tr th:only-of-type {\n",
       "        vertical-align: middle;\n",
       "    }\n",
       "\n",
       "    .dataframe tbody tr th {\n",
       "        vertical-align: top;\n",
       "    }\n",
       "\n",
       "    .dataframe thead th {\n",
       "        text-align: right;\n",
       "    }\n",
       "</style>\n",
       "<table border=\"1\" class=\"dataframe\">\n",
       "  <thead>\n",
       "    <tr style=\"text-align: right;\">\n",
       "      <th></th>\n",
       "      <th>nodule_name</th>\n",
       "      <th>nodule_category</th>\n",
       "      <th>calcification</th>\n",
       "      <th>internal_structure</th>\n",
       "      <th>lobulation</th>\n",
       "      <th>margin</th>\n",
       "      <th>nodule_type</th>\n",
       "      <th>sphericity</th>\n",
       "      <th>texture</th>\n",
       "      <th>global_seed</th>\n",
       "      <th>slice_thickness</th>\n",
       "      <th>slices_present</th>\n",
       "      <th>file_path</th>\n",
       "    </tr>\n",
       "  </thead>\n",
       "  <tbody>\n",
       "    <tr>\n",
       "      <th>0</th>\n",
       "      <td>Small Cell Lung Cancer (SCLC)</td>\n",
       "      <td>Malignant</td>\n",
       "      <td>Absent</td>\n",
       "      <td>Soft Tissue</td>\n",
       "      <td>Nn-Mk</td>\n",
       "      <td>P-Sharp</td>\n",
       "      <td>m4</td>\n",
       "      <td>Lin-Ov</td>\n",
       "      <td>NS-PS</td>\n",
       "      <td>3388.5178</td>\n",
       "      <td>2.00</td>\n",
       "      <td>[53, 54, 55, 56, 57]</td>\n",
       "      <td>../20241221_074106\\20241221_074106\\LIDC-IDRI\\L...</td>\n",
       "    </tr>\n",
       "    <tr>\n",
       "      <th>1</th>\n",
       "      <td>Lymphoma</td>\n",
       "      <td>Malignant</td>\n",
       "      <td>Absent</td>\n",
       "      <td>Soft Tissue</td>\n",
       "      <td>N-Marked</td>\n",
       "      <td>Poo-Sh</td>\n",
       "      <td>m7</td>\n",
       "      <td>Ovoid</td>\n",
       "      <td>Part Solid/Mixed</td>\n",
       "      <td>9335.7762</td>\n",
       "      <td>2.00</td>\n",
       "      <td>[70, 71, 72, 73, 74, 75]</td>\n",
       "      <td>../20241221_074106\\20241221_074106\\LIDC-IDRI\\L...</td>\n",
       "    </tr>\n",
       "    <tr>\n",
       "      <th>2</th>\n",
       "      <td>Bronchioloalveolar Hyperplasia</td>\n",
       "      <td>Benign</td>\n",
       "      <td>Absent</td>\n",
       "      <td>Soft Tissue</td>\n",
       "      <td>Nn-Mk</td>\n",
       "      <td>Poorly</td>\n",
       "      <td>b6</td>\n",
       "      <td>Linear</td>\n",
       "      <td>NS-PS</td>\n",
       "      <td>9151.7012</td>\n",
       "      <td>2.50</td>\n",
       "      <td>[26, 27, 28]</td>\n",
       "      <td>../20241221_074106\\20241221_074106\\LIDC-IDRI\\L...</td>\n",
       "    </tr>\n",
       "    <tr>\n",
       "      <th>3</th>\n",
       "      <td>Carcinoid Tumors</td>\n",
       "      <td>Malignant</td>\n",
       "      <td>Non-Central</td>\n",
       "      <td>Soft Tissue</td>\n",
       "      <td>NaN</td>\n",
       "      <td>P-Sharp</td>\n",
       "      <td>m5</td>\n",
       "      <td>Ov-Ro</td>\n",
       "      <td>Solid</td>\n",
       "      <td>201.8990</td>\n",
       "      <td>2.50</td>\n",
       "      <td>[51, 52, 53]</td>\n",
       "      <td>../20241221_074106\\20241221_074106\\LIDC-IDRI\\L...</td>\n",
       "    </tr>\n",
       "    <tr>\n",
       "      <th>4</th>\n",
       "      <td>Intrapulmonary Lymph Nodes</td>\n",
       "      <td>Benign</td>\n",
       "      <td>Absent</td>\n",
       "      <td>Soft Tissue</td>\n",
       "      <td>NaN</td>\n",
       "      <td>Sharp</td>\n",
       "      <td>b7</td>\n",
       "      <td>Ovoid</td>\n",
       "      <td>Solid</td>\n",
       "      <td>8747.3172</td>\n",
       "      <td>1.25</td>\n",
       "      <td>[23, 24, 25, 26, 27]</td>\n",
       "      <td>../20241221_074106\\20241221_074106\\LIDC-IDRI\\L...</td>\n",
       "    </tr>\n",
       "  </tbody>\n",
       "</table>\n",
       "</div>"
      ],
      "text/plain": [
       "                      nodule_name nodule_category calcification  \\\n",
       "0   Small Cell Lung Cancer (SCLC)       Malignant        Absent   \n",
       "1                        Lymphoma       Malignant        Absent   \n",
       "2  Bronchioloalveolar Hyperplasia          Benign        Absent   \n",
       "3                Carcinoid Tumors       Malignant   Non-Central   \n",
       "4      Intrapulmonary Lymph Nodes          Benign        Absent   \n",
       "\n",
       "  internal_structure lobulation   margin nodule_type sphericity  \\\n",
       "0        Soft Tissue      Nn-Mk  P-Sharp          m4     Lin-Ov   \n",
       "1        Soft Tissue   N-Marked   Poo-Sh          m7      Ovoid   \n",
       "2        Soft Tissue      Nn-Mk   Poorly          b6     Linear   \n",
       "3        Soft Tissue        NaN  P-Sharp          m5      Ov-Ro   \n",
       "4        Soft Tissue        NaN    Sharp          b7      Ovoid   \n",
       "\n",
       "            texture  global_seed  slice_thickness            slices_present  \\\n",
       "0             NS-PS    3388.5178             2.00      [53, 54, 55, 56, 57]   \n",
       "1  Part Solid/Mixed    9335.7762             2.00  [70, 71, 72, 73, 74, 75]   \n",
       "2             NS-PS    9151.7012             2.50              [26, 27, 28]   \n",
       "3             Solid     201.8990             2.50              [51, 52, 53]   \n",
       "4             Solid    8747.3172             1.25      [23, 24, 25, 26, 27]   \n",
       "\n",
       "                                           file_path  \n",
       "0  ../20241221_074106\\20241221_074106\\LIDC-IDRI\\L...  \n",
       "1  ../20241221_074106\\20241221_074106\\LIDC-IDRI\\L...  \n",
       "2  ../20241221_074106\\20241221_074106\\LIDC-IDRI\\L...  \n",
       "3  ../20241221_074106\\20241221_074106\\LIDC-IDRI\\L...  \n",
       "4  ../20241221_074106\\20241221_074106\\LIDC-IDRI\\L...  "
      ]
     },
     "execution_count": 2,
     "metadata": {},
     "output_type": "execute_result"
    }
   ],
   "source": [
    "df[:5]"
   ]
  },
  {
   "cell_type": "code",
   "execution_count": 3,
   "id": "a792c7c7",
   "metadata": {},
   "outputs": [
    {
     "name": "stdout",
     "output_type": "stream",
     "text": [
      "1487\n"
     ]
    }
   ],
   "source": [
    "print(len(df))"
   ]
  },
  {
   "cell_type": "markdown",
   "id": "2773f8ff",
   "metadata": {},
   "source": [
    "### Remove 34 nodules with missing annotations"
   ]
  },
  {
   "cell_type": "code",
   "execution_count": 4,
   "id": "07990fb6",
   "metadata": {},
   "outputs": [
    {
     "name": "stdout",
     "output_type": "stream",
     "text": [
      "nodule_name            object\n",
      "nodule_category        object\n",
      "calcification          object\n",
      "internal_structure     object\n",
      "lobulation             object\n",
      "margin                 object\n",
      "nodule_type            object\n",
      "sphericity             object\n",
      "texture                object\n",
      "global_seed           float64\n",
      "slice_thickness       float64\n",
      "slices_present         object\n",
      "file_path              object\n",
      "dtype: object\n"
     ]
    }
   ],
   "source": [
    "print(df.dtypes)"
   ]
  },
  {
   "cell_type": "code",
   "execution_count": 5,
   "id": "aa2d11d8",
   "metadata": {},
   "outputs": [],
   "source": [
    "import ast\n",
    "\n",
    "df[\"slices_present\"] = df[\"slices_present\"].apply(\n",
    "    lambda x: ast.literal_eval(x) if isinstance(x, str) else x\n",
    ")"
   ]
  },
  {
   "cell_type": "code",
   "execution_count": 6,
   "id": "71f41abe",
   "metadata": {},
   "outputs": [
    {
     "name": "stdout",
     "output_type": "stream",
     "text": [
      "0 slices: 34 nodules\n",
      "1 slices: 18 nodules\n",
      "2 slices: 239 nodules\n",
      "3 slices: 376 nodules\n",
      "4 slices: 196 nodules\n",
      "5 slices: 163 nodules\n",
      "6 slices: 142 nodules\n",
      "7 slices: 123 nodules\n",
      "8 slices: 88 nodules\n",
      "9 slices: 50 nodules\n",
      "10 slices: 15 nodules\n",
      "11 slices: 16 nodules\n",
      "12 slices: 6 nodules\n",
      "13 slices: 12 nodules\n",
      "14 slices: 7 nodules\n",
      "18 slices: 1 nodules\n",
      "19 slices: 1 nodules\n"
     ]
    }
   ],
   "source": [
    "from collections import Counter\n",
    "\n",
    "length_counts = Counter(len(x) for x in df[\"slices_present\"])\n",
    "for k in sorted(length_counts):\n",
    "    print(f\"{k} slices: {length_counts[k]} nodules\")"
   ]
  },
  {
   "cell_type": "code",
   "execution_count": 7,
   "id": "52216b27",
   "metadata": {},
   "outputs": [],
   "source": [
    "df = df[df['slices_present'].apply(lambda x: len(x) > 0)]"
   ]
  },
  {
   "cell_type": "code",
   "execution_count": 8,
   "id": "35def17e",
   "metadata": {},
   "outputs": [
    {
     "name": "stdout",
     "output_type": "stream",
     "text": [
      "0\n"
     ]
    }
   ],
   "source": [
    "print((df['slices_present'].apply(len) == 0).sum())  "
   ]
  },
  {
   "cell_type": "code",
   "execution_count": 9,
   "id": "8146fc08",
   "metadata": {},
   "outputs": [
    {
     "name": "stdout",
     "output_type": "stream",
     "text": [
      "1453\n"
     ]
    }
   ],
   "source": [
    "print(len(df))"
   ]
  },
  {
   "cell_type": "markdown",
   "id": "877c976f",
   "metadata": {},
   "source": [
    "### Encoding Labels"
   ]
  },
  {
   "cell_type": "code",
   "execution_count": 10,
   "id": "d450dfc3",
   "metadata": {},
   "outputs": [],
   "source": [
    "from sklearn.preprocessing import LabelEncoder\n",
    "le = LabelEncoder()\n",
    "df['label'] = le.fit_transform(df['nodule_name'])"
   ]
  },
  {
   "cell_type": "code",
   "execution_count": 11,
   "id": "cc2a84b7",
   "metadata": {},
   "outputs": [
    {
     "name": "stdout",
     "output_type": "stream",
     "text": [
      "{'Active Infection': np.int64(0), 'Adenocarcinoma': np.int64(1), 'Adenoid Cystic Carcinoma': np.int64(2), 'Bronchioloalveolar Hyperplasia': np.int64(3), 'Carcinoid Tumors': np.int64(4), 'Granuloma': np.int64(5), 'Hamartoma': np.int64(6), 'Intrapulmonary Lymph Nodes': np.int64(7), 'Large Cell (Undifferentiated) Carcinoma': np.int64(8), 'Lymphoma': np.int64(9), 'Metastatic Tumors': np.int64(10), 'Sarcoidosis': np.int64(11), 'Sarcomatoid Carcinoma': np.int64(12), 'Small Cell Lung Cancer (SCLC)': np.int64(13), 'Squamous Cell Carcinoma': np.int64(14)}\n"
     ]
    }
   ],
   "source": [
    "label_map = dict(zip(le.classes_, le.transform(le.classes_)))\n",
    "print(label_map)"
   ]
  },
  {
   "cell_type": "markdown",
   "id": "aeca20b2",
   "metadata": {},
   "source": [
    "NOTE: Long covid is not part of this study"
   ]
  },
  {
   "cell_type": "markdown",
   "id": "a6c49024",
   "metadata": {},
   "source": [
    "# 2. Volume input preprocessing"
   ]
  },
  {
   "cell_type": "markdown",
   "id": "7d0b8ee6",
   "metadata": {},
   "source": [
    "For each sample:\n",
    "\n",
    "- volume_local: cropped region centered around nodule (based on segmentation)\n",
    "\n",
    "- volume_context: full slice (resized to something like 256×256), no crop"
   ]
  },
  {
   "cell_type": "code",
   "execution_count": 12,
   "id": "99f3606c",
   "metadata": {},
   "outputs": [],
   "source": [
    "# Parse annotaions for bounding box\n",
    "\n",
    "import json\n",
    "\n",
    "def load_annotations(json_path):\n",
    "    with open(json_path, 'r') as f:\n",
    "        data = json.load(f)\n",
    "    \n",
    "    annotations = data.get(\"annotation\", [])\n",
    "    return annotations\n"
   ]
  },
  {
   "cell_type": "code",
   "execution_count": 13,
   "id": "8ad2fadc",
   "metadata": {},
   "outputs": [],
   "source": [
    "# Get nodule centroid\n",
    "\n",
    "import numpy as np\n",
    "\n",
    "def polygon_centroid(norm_polygon, img_shape):\n",
    "    h, w = img_shape\n",
    "    x_coords = norm_polygon[::2]\n",
    "    y_coords = norm_polygon[1::2]\n",
    "    \n",
    "    # Convert to pixel space\n",
    "    x_pixels = [x * w for x in x_coords]\n",
    "    y_pixels = [y * h for y in y_coords]\n",
    "\n",
    "    x_center = int(np.mean(x_pixels))\n",
    "    y_center = int(np.mean(y_pixels))\n",
    "\n",
    "    return x_center, y_center"
   ]
  },
  {
   "cell_type": "code",
   "execution_count": 14,
   "id": "549fd3e4",
   "metadata": {},
   "outputs": [],
   "source": [
    "# Get local crop and global context\n",
    "\n",
    "import pydicom\n",
    "import cv2\n",
    "\n",
    "def process_slice_local_context(dcm_path, segmentation, local_size=(64, 64), context_size=(256, 256)):\n",
    "    dcm = pydicom.dcmread(dcm_path)\n",
    "    img = dcm.pixel_array\n",
    "    h, w = img.shape\n",
    "\n",
    "    # Normalize pixel values\n",
    "    img = img.astype(np.float32)\n",
    "    img = (img - img.min()) / (img.max() - img.min() + 1e-5)\n",
    "\n",
    "    x_center, y_center = polygon_centroid(segmentation, (h, w))\n",
    "\n",
    "    # Crop around the center for local view\n",
    "    half_h, half_w = local_size[0] // 2, local_size[1] // 2\n",
    "    y1 = max(y_center - half_h, 0)\n",
    "    y2 = min(y_center + half_h, h)\n",
    "    x1 = max(x_center - half_w, 0)\n",
    "    x2 = min(x_center + half_w, w)\n",
    "    cropped_local = img[y1:y2, x1:x2]\n",
    "\n",
    "    # Pad if needed\n",
    "    cropped_local = cv2.resize(cropped_local, local_size)\n",
    "\n",
    "    # Resize whole slice for context\n",
    "    resized_context = cv2.resize(img, context_size)\n",
    "\n",
    "    return cropped_local, resized_context"
   ]
  },
  {
   "cell_type": "code",
   "execution_count": 15,
   "id": "b73f2965",
   "metadata": {},
   "outputs": [],
   "source": [
    "import os\n",
    "import re\n",
    "\n",
    "def remove_leading_duplicate_folder(path):\n",
    "    \"\"\"\n",
    "    Removes the first repeated folder name at the beginning of a path.\n",
    "    E.g., '../X\\\\X\\\\...' → 'X\\\\...'\n",
    "    \"\"\"\n",
    "    match = re.match(r\"^(?:\\.\\.[\\\\/])?([^\\\\/]+)[\\\\/]\\1[\\\\/](.+)\", path)\n",
    "    if match:\n",
    "        return f\"{match.group(1)}\\\\{match.group(2)}\"\n",
    "    return path"
   ]
  },
  {
   "cell_type": "code",
   "execution_count": 16,
   "id": "05750dad",
   "metadata": {},
   "outputs": [],
   "source": [
    "df['file_path'] = df['file_path'].apply(remove_leading_duplicate_folder)"
   ]
  },
  {
   "cell_type": "code",
   "execution_count": 17,
   "id": "f87e378a",
   "metadata": {},
   "outputs": [],
   "source": [
    "# Trying with 1 data sample\n",
    "\n",
    "json_path = df.iloc[0]['file_path'] \n",
    "\n",
    "\n",
    "annotations = load_annotations(json_path)\n",
    "\n",
    "local_slices = []\n",
    "context_slices = []\n",
    "\n",
    "for slice_dict in annotations:\n",
    "    for slice_idx, data in slice_dict.items():\n",
    "        dcm_filename = os.path.basename(data[\"dicomFile\"])\n",
    "        dcm_dir = os.path.dirname(json_path)\n",
    "        dcm_path = os.path.join(dcm_dir, dcm_filename)\n",
    "        segmentation = data[\"segmentation\"][0]  \n",
    "        local, context = process_slice_local_context(\n",
    "            dcm_path, segmentation,\n",
    "            local_size=(64, 64),\n",
    "            context_size=(256, 256)\n",
    "        )\n",
    "        local_slices.append(local)\n",
    "        context_slices.append(context)"
   ]
  },
  {
   "cell_type": "code",
   "execution_count": 18,
   "id": "a34863e1",
   "metadata": {},
   "outputs": [],
   "source": [
    "# Pads or crops a list of 2D slices to a fixed 3D volume.\n",
    "\n",
    "def pad_or_crop_volume(slices, target_depth, shape):\n",
    "    D = len(slices)\n",
    "    h, w = shape\n",
    "\n",
    "    if D == 0:\n",
    "        return np.zeros((1, target_depth, h, w), dtype=np.float32)\n",
    "\n",
    "    volume = np.stack(slices, axis=0)\n",
    "\n",
    "    if D < target_depth:\n",
    "        pad_before = (target_depth - D) // 2\n",
    "        pad_after = target_depth - D - pad_before\n",
    "        volume = np.pad(volume, ((pad_before, pad_after), (0, 0), (0, 0)), mode='constant')\n",
    "    elif D > target_depth:\n",
    "        start = (D - target_depth) // 2\n",
    "        volume = volume[start:start+target_depth]\n",
    "\n",
    "    return volume[None, ...]  # Add channel dim: [1, D, H, W]\n"
   ]
  },
  {
   "cell_type": "code",
   "execution_count": 19,
   "id": "09e114b3",
   "metadata": {},
   "outputs": [
    {
     "name": "stdout",
     "output_type": "stream",
     "text": [
      "volume_local shape: (1, 5, 64, 64)\n",
      "volume_context shape: (1, 7, 256, 256)\n"
     ]
    }
   ],
   "source": [
    "volume_local = pad_or_crop_volume(local_slices, target_depth=5, shape=(64, 64))\n",
    "volume_context = pad_or_crop_volume(context_slices, target_depth=7, shape=(256, 256))\n",
    "\n",
    "print(\"volume_local shape:\", volume_local.shape)\n",
    "print(\"volume_context shape:\", volume_context.shape)"
   ]
  },
  {
   "cell_type": "code",
   "execution_count": 20,
   "id": "2938a19a",
   "metadata": {},
   "outputs": [
    {
     "name": "stderr",
     "output_type": "stream",
     "text": [
      "Processing samples: 100%|██████████| 1453/1453 [00:39<00:00, 37.18it/s]\n"
     ]
    }
   ],
   "source": [
    "# Applying to entire dataset\n",
    "\n",
    "from tqdm import tqdm\n",
    "\n",
    "all_locals = []\n",
    "all_contexts = []\n",
    "all_labels = []\n",
    "\n",
    "for _, row in tqdm(df.iterrows(), total=len(df), desc=\"Processing samples\"):\n",
    "    try:\n",
    "        json_path = row['file_path']\n",
    "        label = row['label']\n",
    "        annotations = load_annotations(json_path)\n",
    "\n",
    "        local_slices = []\n",
    "        context_slices = []\n",
    "\n",
    "        for slice_dict in annotations:\n",
    "            for slice_idx, data in slice_dict.items():\n",
    "                \n",
    "                dcm_filename = os.path.basename(data[\"dicomFile\"])\n",
    "                dcm_dir = os.path.dirname(json_path)\n",
    "                dcm_path = os.path.join(dcm_dir, dcm_filename)\n",
    "\n",
    "                segmentation = data[\"segmentation\"][0]\n",
    "                local, context = process_slice_local_context(\n",
    "                    dcm_path, segmentation,\n",
    "                    local_size=(64, 64),\n",
    "                    context_size=(256, 256)\n",
    "                )\n",
    "                local_slices.append(local)\n",
    "                context_slices.append(context)\n",
    "\n",
    "        volume_local = pad_or_crop_volume(local_slices, target_depth=5, shape=(64, 64))\n",
    "        volume_context = pad_or_crop_volume(context_slices, target_depth=7, shape=(256, 256))\n",
    "\n",
    "        all_locals.append(volume_local)\n",
    "        all_contexts.append(volume_context)\n",
    "        all_labels.append(label)\n",
    "\n",
    "    except Exception as e:\n",
    "        print(f\"Skipping row due to error: {e}\")\n"
   ]
  },
  {
   "cell_type": "markdown",
   "id": "9464b356",
   "metadata": {},
   "source": [
    "# 3. Radiomics preparation"
   ]
  },
  {
   "cell_type": "code",
   "execution_count": 21,
   "id": "83471195",
   "metadata": {},
   "outputs": [],
   "source": [
    "radiomics_columns = [\n",
    "    \"calcification\", \"internal_structure\", \"lobulation\",\n",
    "    \"margin\", \"sphericity\", \"texture\"\n",
    "]"
   ]
  },
  {
   "cell_type": "code",
   "execution_count": 22,
   "id": "a6af03fb",
   "metadata": {},
   "outputs": [],
   "source": [
    "radiomics_df = df[radiomics_columns].copy()"
   ]
  },
  {
   "cell_type": "code",
   "execution_count": 23,
   "id": "ee0eb4c4",
   "metadata": {},
   "outputs": [],
   "source": [
    "radiomics_encoded = pd.get_dummies(radiomics_df, drop_first=False)"
   ]
  },
  {
   "cell_type": "code",
   "execution_count": 24,
   "id": "26ec0f1d",
   "metadata": {},
   "outputs": [
    {
     "name": "stdout",
     "output_type": "stream",
     "text": [
      "Radiomics vector shape: (1453, 25)\n"
     ]
    },
    {
     "data": {
      "text/html": [
       "<div>\n",
       "<style scoped>\n",
       "    .dataframe tbody tr th:only-of-type {\n",
       "        vertical-align: middle;\n",
       "    }\n",
       "\n",
       "    .dataframe tbody tr th {\n",
       "        vertical-align: top;\n",
       "    }\n",
       "\n",
       "    .dataframe thead th {\n",
       "        text-align: right;\n",
       "    }\n",
       "</style>\n",
       "<table border=\"1\" class=\"dataframe\">\n",
       "  <thead>\n",
       "    <tr style=\"text-align: right;\">\n",
       "      <th></th>\n",
       "      <th>calcification_Absent</th>\n",
       "      <th>calcification_Central</th>\n",
       "      <th>calcification_Laminated</th>\n",
       "      <th>calcification_Non-Central</th>\n",
       "      <th>calcification_Popcorn</th>\n",
       "      <th>calcification_Solid</th>\n",
       "      <th>internal_structure_Soft Tissue</th>\n",
       "      <th>lobulation_Marked</th>\n",
       "      <th>lobulation_N-Marked</th>\n",
       "      <th>lobulation_Nn-Mk</th>\n",
       "      <th>...</th>\n",
       "      <th>margin_Sharp</th>\n",
       "      <th>sphericity_Lin-Ov</th>\n",
       "      <th>sphericity_Linear</th>\n",
       "      <th>sphericity_Ov-Ro</th>\n",
       "      <th>sphericity_Ovoid</th>\n",
       "      <th>sphericity_Round</th>\n",
       "      <th>texture_NS-PS</th>\n",
       "      <th>texture_PS-Solid</th>\n",
       "      <th>texture_Part Solid/Mixed</th>\n",
       "      <th>texture_Solid</th>\n",
       "    </tr>\n",
       "  </thead>\n",
       "  <tbody>\n",
       "    <tr>\n",
       "      <th>0</th>\n",
       "      <td>True</td>\n",
       "      <td>False</td>\n",
       "      <td>False</td>\n",
       "      <td>False</td>\n",
       "      <td>False</td>\n",
       "      <td>False</td>\n",
       "      <td>True</td>\n",
       "      <td>False</td>\n",
       "      <td>False</td>\n",
       "      <td>True</td>\n",
       "      <td>...</td>\n",
       "      <td>False</td>\n",
       "      <td>True</td>\n",
       "      <td>False</td>\n",
       "      <td>False</td>\n",
       "      <td>False</td>\n",
       "      <td>False</td>\n",
       "      <td>True</td>\n",
       "      <td>False</td>\n",
       "      <td>False</td>\n",
       "      <td>False</td>\n",
       "    </tr>\n",
       "    <tr>\n",
       "      <th>1</th>\n",
       "      <td>True</td>\n",
       "      <td>False</td>\n",
       "      <td>False</td>\n",
       "      <td>False</td>\n",
       "      <td>False</td>\n",
       "      <td>False</td>\n",
       "      <td>True</td>\n",
       "      <td>False</td>\n",
       "      <td>True</td>\n",
       "      <td>False</td>\n",
       "      <td>...</td>\n",
       "      <td>False</td>\n",
       "      <td>False</td>\n",
       "      <td>False</td>\n",
       "      <td>False</td>\n",
       "      <td>True</td>\n",
       "      <td>False</td>\n",
       "      <td>False</td>\n",
       "      <td>False</td>\n",
       "      <td>True</td>\n",
       "      <td>False</td>\n",
       "    </tr>\n",
       "    <tr>\n",
       "      <th>2</th>\n",
       "      <td>True</td>\n",
       "      <td>False</td>\n",
       "      <td>False</td>\n",
       "      <td>False</td>\n",
       "      <td>False</td>\n",
       "      <td>False</td>\n",
       "      <td>True</td>\n",
       "      <td>False</td>\n",
       "      <td>False</td>\n",
       "      <td>True</td>\n",
       "      <td>...</td>\n",
       "      <td>False</td>\n",
       "      <td>False</td>\n",
       "      <td>True</td>\n",
       "      <td>False</td>\n",
       "      <td>False</td>\n",
       "      <td>False</td>\n",
       "      <td>True</td>\n",
       "      <td>False</td>\n",
       "      <td>False</td>\n",
       "      <td>False</td>\n",
       "    </tr>\n",
       "    <tr>\n",
       "      <th>3</th>\n",
       "      <td>False</td>\n",
       "      <td>False</td>\n",
       "      <td>False</td>\n",
       "      <td>True</td>\n",
       "      <td>False</td>\n",
       "      <td>False</td>\n",
       "      <td>True</td>\n",
       "      <td>False</td>\n",
       "      <td>False</td>\n",
       "      <td>False</td>\n",
       "      <td>...</td>\n",
       "      <td>False</td>\n",
       "      <td>False</td>\n",
       "      <td>False</td>\n",
       "      <td>True</td>\n",
       "      <td>False</td>\n",
       "      <td>False</td>\n",
       "      <td>False</td>\n",
       "      <td>False</td>\n",
       "      <td>False</td>\n",
       "      <td>True</td>\n",
       "    </tr>\n",
       "    <tr>\n",
       "      <th>4</th>\n",
       "      <td>True</td>\n",
       "      <td>False</td>\n",
       "      <td>False</td>\n",
       "      <td>False</td>\n",
       "      <td>False</td>\n",
       "      <td>False</td>\n",
       "      <td>True</td>\n",
       "      <td>False</td>\n",
       "      <td>False</td>\n",
       "      <td>False</td>\n",
       "      <td>...</td>\n",
       "      <td>True</td>\n",
       "      <td>False</td>\n",
       "      <td>False</td>\n",
       "      <td>False</td>\n",
       "      <td>True</td>\n",
       "      <td>False</td>\n",
       "      <td>False</td>\n",
       "      <td>False</td>\n",
       "      <td>False</td>\n",
       "      <td>True</td>\n",
       "    </tr>\n",
       "  </tbody>\n",
       "</table>\n",
       "<p>5 rows × 25 columns</p>\n",
       "</div>"
      ],
      "text/plain": [
       "   calcification_Absent  calcification_Central  calcification_Laminated  \\\n",
       "0                  True                  False                    False   \n",
       "1                  True                  False                    False   \n",
       "2                  True                  False                    False   \n",
       "3                 False                  False                    False   \n",
       "4                  True                  False                    False   \n",
       "\n",
       "   calcification_Non-Central  calcification_Popcorn  calcification_Solid  \\\n",
       "0                      False                  False                False   \n",
       "1                      False                  False                False   \n",
       "2                      False                  False                False   \n",
       "3                       True                  False                False   \n",
       "4                      False                  False                False   \n",
       "\n",
       "   internal_structure_Soft Tissue  lobulation_Marked  lobulation_N-Marked  \\\n",
       "0                            True              False                False   \n",
       "1                            True              False                 True   \n",
       "2                            True              False                False   \n",
       "3                            True              False                False   \n",
       "4                            True              False                False   \n",
       "\n",
       "   lobulation_Nn-Mk  ...  margin_Sharp  sphericity_Lin-Ov  sphericity_Linear  \\\n",
       "0              True  ...         False               True              False   \n",
       "1             False  ...         False              False              False   \n",
       "2              True  ...         False              False               True   \n",
       "3             False  ...         False              False              False   \n",
       "4             False  ...          True              False              False   \n",
       "\n",
       "   sphericity_Ov-Ro  sphericity_Ovoid  sphericity_Round  texture_NS-PS  \\\n",
       "0             False             False             False           True   \n",
       "1             False              True             False          False   \n",
       "2             False             False             False           True   \n",
       "3              True             False             False          False   \n",
       "4             False              True             False          False   \n",
       "\n",
       "   texture_PS-Solid  texture_Part Solid/Mixed  texture_Solid  \n",
       "0             False                     False          False  \n",
       "1             False                      True          False  \n",
       "2             False                     False          False  \n",
       "3             False                     False           True  \n",
       "4             False                     False           True  \n",
       "\n",
       "[5 rows x 25 columns]"
      ]
     },
     "execution_count": 24,
     "metadata": {},
     "output_type": "execute_result"
    }
   ],
   "source": [
    "print(\"Radiomics vector shape:\", radiomics_encoded.shape)\n",
    "radiomics_encoded.head()"
   ]
  },
  {
   "cell_type": "code",
   "execution_count": 25,
   "id": "2e42e367",
   "metadata": {},
   "outputs": [],
   "source": [
    "X_radiomics = radiomics_encoded.to_numpy(dtype=np.float32)"
   ]
  },
  {
   "cell_type": "code",
   "execution_count": 26,
   "id": "1ecd17be",
   "metadata": {},
   "outputs": [
    {
     "data": {
      "text/plain": [
       "(1453, 25)"
      ]
     },
     "execution_count": 26,
     "metadata": {},
     "output_type": "execute_result"
    }
   ],
   "source": [
    "X_radiomics.shape"
   ]
  },
  {
   "cell_type": "markdown",
   "id": "25d7f601",
   "metadata": {},
   "source": [
    "# 4. Create Pytorch Dataset"
   ]
  },
  {
   "cell_type": "code",
   "execution_count": 27,
   "id": "8daa14f2",
   "metadata": {},
   "outputs": [],
   "source": [
    "import torch\n",
    "from torch.utils.data import Dataset"
   ]
  },
  {
   "cell_type": "code",
   "execution_count": 28,
   "id": "b04a221e",
   "metadata": {},
   "outputs": [],
   "source": [
    "class TripleFusionDataset(Dataset):\n",
    "    def __init__(self, all_locals, all_contexts, X_radiomics, labels_df):\n",
    "        self.all_locals = all_locals\n",
    "        self.all_contexts = all_contexts\n",
    "        self.radiomics = X_radiomics\n",
    "        self.labels = labels_df[\"label\"].to_numpy()\n",
    "\n",
    "    def __len__(self):\n",
    "        return len(self.labels)\n",
    "\n",
    "    def __getitem__(self, idx):\n",
    "        sample = {\n",
    "            \"volume_local\": torch.tensor(self.all_locals[idx], dtype=torch.float32),\n",
    "            \"volume_context\": torch.tensor(self.all_contexts[idx], dtype=torch.float32),\n",
    "            \"radiomics\": torch.tensor(self.radiomics[idx], dtype=torch.float32),\n",
    "            \"label\": torch.tensor(self.labels[idx], dtype=torch.long),\n",
    "        }\n",
    "        return sample\n"
   ]
  },
  {
   "cell_type": "code",
   "execution_count": 29,
   "id": "c8cdef7b",
   "metadata": {},
   "outputs": [],
   "source": [
    "dataset = TripleFusionDataset(\n",
    "    all_locals=all_locals,\n",
    "    all_contexts=all_contexts,\n",
    "    X_radiomics=X_radiomics,\n",
    "    labels_df=df  \n",
    ")"
   ]
  },
  {
   "cell_type": "code",
   "execution_count": 30,
   "id": "1e3cc4b8",
   "metadata": {},
   "outputs": [],
   "source": [
    "from torch.utils.data import DataLoader\n",
    "\n",
    "train_loader = DataLoader(dataset, batch_size=16, shuffle=True)"
   ]
  },
  {
   "cell_type": "markdown",
   "id": "400e075d",
   "metadata": {},
   "source": [
    "# 5. Triple Fusion Architecture"
   ]
  },
  {
   "cell_type": "markdown",
   "id": "3c7cfffe",
   "metadata": {},
   "source": [
    "\n",
    "| Branch           | Input Shape           | Type     |\n",
    "|------------------|------------------------|----------|\n",
    "| `volume_local`   | `[B, 1, 5, 64, 64]`     | 3D CNN   |\n",
    "| `volume_context` | `[B, 1, 7, 256, 256]`   | 3D CNN   |\n",
    "| `radiomics`      | `[B, 25]`               | MLP      |\n"
   ]
  },
  {
   "cell_type": "code",
   "execution_count": 31,
   "id": "dd821e3c",
   "metadata": {},
   "outputs": [],
   "source": [
    "import torch\n",
    "import torch.nn as nn\n",
    "import torch.nn.functional as F\n",
    "from torchvision.models.video import r3d_18"
   ]
  },
  {
   "cell_type": "markdown",
   "id": "cccd727c",
   "metadata": {},
   "source": [
    "### Local Branch"
   ]
  },
  {
   "cell_type": "code",
   "execution_count": 32,
   "id": "3f20b560",
   "metadata": {},
   "outputs": [],
   "source": [
    "class LocalBranch(nn.Module):\n",
    "    def __init__(self):\n",
    "        super(LocalBranch, self).__init__()\n",
    "\n",
    "        # 使用 torchvision 中的 3D ResNet-18\n",
    "        self.backbone = r3d_18(pretrained=False)\n",
    "\n",
    "        # 修改输入层：从 RGB 3通道 → CT 1通道\n",
    "        self.backbone.stem[0] = nn.Conv3d(1, 64, kernel_size=(3,7,7), stride=(1,2,2), padding=(1,3,3))\n",
    "\n",
    "        # 去掉最后的全连接层（只保留特征向量）\n",
    "        self.backbone.fc = nn.Identity()\n",
    "\n",
    "    def forward(self, x):\n",
    "        return self.backbone(x)  # 输出维度 [B, 512]"
   ]
  },
  {
   "cell_type": "markdown",
   "id": "c1f05780",
   "metadata": {},
   "source": [
    "### Context Branch"
   ]
  },
  {
   "cell_type": "code",
   "execution_count": 33,
   "id": "992609b2",
   "metadata": {},
   "outputs": [],
   "source": [
    "class ContextBranch(nn.Module):\n",
    "    def __init__(self):\n",
    "        super().__init__()\n",
    "        self.conv = nn.Sequential(\n",
    "            nn.Conv3d(1, 16, kernel_size=3, padding=1),\n",
    "            nn.BatchNorm3d(16),\n",
    "            nn.ReLU(),\n",
    "            nn.MaxPool3d(2),  # (7,256,256) → (3,128,128)\n",
    "\n",
    "            nn.Conv3d(16, 32, kernel_size=3, padding=1),\n",
    "            nn.BatchNorm3d(32),\n",
    "            nn.ReLU(),\n",
    "            nn.AdaptiveAvgPool3d((1, 1, 1))  # output: [B, 32, 1, 1, 1]\n",
    "        )\n",
    "\n",
    "    def forward(self, x):\n",
    "        x = self.conv(x)\n",
    "        return x.view(x.size(0), -1)  # [B, 32]"
   ]
  },
  {
   "cell_type": "markdown",
   "id": "8f264e75",
   "metadata": {},
   "source": [
    "### Radiomics Branch"
   ]
  },
  {
   "cell_type": "code",
   "execution_count": 34,
   "id": "62cd6ee3",
   "metadata": {},
   "outputs": [],
   "source": [
    "class RadiomicsBranch(nn.Module):\n",
    "    def __init__(self, input_dim):\n",
    "        super().__init__()\n",
    "        self.fc = nn.Sequential(\n",
    "            nn.Linear(input_dim, 64),\n",
    "            nn.ReLU(),\n",
    "            nn.Linear(64, 32)\n",
    "        )\n",
    "\n",
    "    def forward(self, x):\n",
    "        return self.fc(x)"
   ]
  },
  {
   "cell_type": "markdown",
   "id": "1d62d431",
   "metadata": {},
   "source": [
    "### Fusion Model"
   ]
  },
  {
   "cell_type": "code",
   "execution_count": 35,
   "id": "857c2145",
   "metadata": {},
   "outputs": [],
   "source": [
    "class TripleFusionModel(nn.Module):\n",
    "    def __init__(self, num_classes, radiomics_dim=25):\n",
    "        super().__init__()\n",
    "        self.local_branch = LocalBranch()\n",
    "        self.context_branch = ContextBranch()\n",
    "        self.radiomics_branch = RadiomicsBranch(radiomics_dim)\n",
    "\n",
    "        self.classifier = nn.Sequential(\n",
    "            nn.Linear(512 + 32 + 32, 128),  # fuse outputs\n",
    "            nn.ReLU(),\n",
    "            nn.Dropout(0.3),\n",
    "            nn.Linear(128, num_classes)\n",
    "        )\n",
    "\n",
    "    def forward(self, volume_local, volume_context, radiomics):\n",
    "        local_feat = self.local_branch(volume_local)\n",
    "        context_feat = self.context_branch(volume_context)\n",
    "        radio_feat = self.radiomics_branch(radiomics)\n",
    "\n",
    "        fused = torch.cat([local_feat, context_feat, radio_feat], dim=1)\n",
    "        out = self.classifier(fused)\n",
    "        return out"
   ]
  },
  {
   "cell_type": "markdown",
   "id": "9794896c",
   "metadata": {},
   "source": [
    "# 6. Training"
   ]
  },
  {
   "cell_type": "code",
   "execution_count": 36,
   "id": "5996b6f9",
   "metadata": {},
   "outputs": [
    {
     "name": "stderr",
     "output_type": "stream",
     "text": [
      "c:\\Users\\malan\\.conda\\envs\\lung_nodule_env\\lib\\site-packages\\torchvision\\models\\_utils.py:208: UserWarning: The parameter 'pretrained' is deprecated since 0.13 and may be removed in the future, please use 'weights' instead.\n",
      "  warnings.warn(\n",
      "c:\\Users\\malan\\.conda\\envs\\lung_nodule_env\\lib\\site-packages\\torchvision\\models\\_utils.py:223: UserWarning: Arguments other than a weight enum or `None` for 'weights' are deprecated since 0.13 and may be removed in the future. The current behavior is equivalent to passing `weights=None`.\n",
      "  warnings.warn(msg)\n"
     ]
    }
   ],
   "source": [
    "import torch.optim as optim\n",
    "\n",
    "num_classes = len(df[\"label\"].unique())\n",
    "model = TripleFusionModel(num_classes=num_classes)\n",
    "\n",
    "criterion = nn.CrossEntropyLoss()\n",
    "optimizer = optim.Adam(model.parameters(), lr=1e-3)"
   ]
  },
  {
   "cell_type": "code",
   "execution_count": 37,
   "id": "62408063",
   "metadata": {},
   "outputs": [],
   "source": [
    "def compute_accuracy(logits, labels):\n",
    "    preds = torch.argmax(logits, dim=1)\n",
    "    return (preds == labels).float().mean().item()"
   ]
  },
  {
   "cell_type": "code",
   "execution_count": 38,
   "id": "501115dd",
   "metadata": {},
   "outputs": [],
   "source": [
    "from tqdm import tqdm\n",
    "import time\n",
    "\n",
    "def train_one_epoch(model, dataloader, optimizer, criterion, device):\n",
    "    model.train()\n",
    "    total_loss = 0.0\n",
    "    total_acc = 0.0\n",
    "\n",
    "    pbar = tqdm(dataloader, desc=\"Training\", leave=False)\n",
    "\n",
    "    for batch in pbar:\n",
    "        start_time = time.time()\n",
    "\n",
    "        vol_local = batch[\"volume_local\"].to(device)\n",
    "        vol_context = batch[\"volume_context\"].to(device)\n",
    "        radiomics = batch[\"radiomics\"].to(device)\n",
    "        labels = batch[\"label\"].to(device)\n",
    "\n",
    "        optimizer.zero_grad()\n",
    "        outputs = model(vol_local, vol_context, radiomics)\n",
    "        loss = criterion(outputs, labels)\n",
    "        loss.backward()\n",
    "        optimizer.step()\n",
    "\n",
    "        acc = compute_accuracy(outputs, labels)\n",
    "        batch_time = time.time() - start_time\n",
    "\n",
    "        total_loss += loss.item()\n",
    "        total_acc += acc\n",
    "\n",
    "        pbar.set_postfix({\n",
    "            \"loss\": f\"{loss.item():.4f}\",\n",
    "            \"acc\": f\"{acc:.4f}\",\n",
    "            \"time\": f\"{batch_time:.2f}s\"\n",
    "        })\n",
    "\n",
    "    return total_loss / len(dataloader), total_acc / len(dataloader)\n"
   ]
  },
  {
   "cell_type": "code",
   "execution_count": 39,
   "id": "5fb97a9e",
   "metadata": {},
   "outputs": [],
   "source": [
    "def validate(model, dataloader, criterion, device):\n",
    "    model.eval()\n",
    "    total_loss = 0.0\n",
    "    total_acc = 0.0\n",
    "\n",
    "    pbar = tqdm(dataloader, desc=\"Validation\", leave=False)\n",
    "\n",
    "    with torch.no_grad():\n",
    "        for batch in pbar:\n",
    "            vol_local = batch[\"volume_local\"].to(device)\n",
    "            vol_context = batch[\"volume_context\"].to(device)\n",
    "            radiomics = batch[\"radiomics\"].to(device)\n",
    "            labels = batch[\"label\"].to(device)\n",
    "\n",
    "            outputs = model(vol_local, vol_context, radiomics)\n",
    "            loss = criterion(outputs, labels)\n",
    "            acc = compute_accuracy(outputs, labels)\n",
    "\n",
    "            total_loss += loss.item()\n",
    "            total_acc += acc\n",
    "\n",
    "            pbar.set_postfix({\n",
    "                \"loss\": f\"{loss.item():.4f}\",\n",
    "                \"acc\": f\"{acc:.4f}\"\n",
    "            })\n",
    "\n",
    "    return total_loss / len(dataloader), total_acc / len(dataloader)"
   ]
  },
  {
   "cell_type": "code",
   "execution_count": 40,
   "id": "6ef73bcf",
   "metadata": {},
   "outputs": [],
   "source": [
    "device = torch.device(\"cuda\" if torch.cuda.is_available() else \"cpu\")\n",
    "model = model.to(device)"
   ]
  },
  {
   "cell_type": "code",
   "execution_count": 41,
   "id": "2aa3b65d",
   "metadata": {},
   "outputs": [],
   "source": [
    "from torch.utils.data import random_split, DataLoader\n",
    "\n",
    "# Train-Validation Split\n",
    "train_size = int(0.8 * len(dataset))\n",
    "val_size = len(dataset) - train_size\n",
    "train_set, val_set = random_split(dataset, [train_size, val_size])\n",
    "\n",
    "train_loader = DataLoader(train_set, batch_size=8, shuffle=True)\n",
    "val_loader = DataLoader(val_set, batch_size=8, shuffle=False)"
   ]
  },
  {
   "cell_type": "code",
   "execution_count": 42,
   "id": "38777c8c",
   "metadata": {},
   "outputs": [
    {
     "name": "stderr",
     "output_type": "stream",
     "text": [
      "                                                                                                \r"
     ]
    },
    {
     "name": "stdout",
     "output_type": "stream",
     "text": [
      "Epoch 1/10\n",
      "  Train Loss: 2.5333 | Accuracy: 0.1438\n",
      "  Val   Loss: 1.9945 | Accuracy: 0.2320\n"
     ]
    },
    {
     "name": "stderr",
     "output_type": "stream",
     "text": [
      "                                                                                                   \r"
     ]
    },
    {
     "name": "stdout",
     "output_type": "stream",
     "text": [
      "Epoch 2/10\n",
      "  Train Loss: 1.9885 | Accuracy: 0.2534\n",
      "  Val   Loss: 1.7891 | Accuracy: 0.3164\n"
     ]
    },
    {
     "name": "stderr",
     "output_type": "stream",
     "text": [
      "                                                                                                \r"
     ]
    },
    {
     "name": "stdout",
     "output_type": "stream",
     "text": [
      "Epoch 3/10\n",
      "  Train Loss: 1.7804 | Accuracy: 0.3373\n",
      "  Val   Loss: 1.6168 | Accuracy: 0.3378\n"
     ]
    },
    {
     "name": "stderr",
     "output_type": "stream",
     "text": [
      "                                                                                                \r"
     ]
    },
    {
     "name": "stdout",
     "output_type": "stream",
     "text": [
      "Epoch 4/10\n",
      "  Train Loss: 1.6373 | Accuracy: 0.3750\n",
      "  Val   Loss: 1.5590 | Accuracy: 0.3986\n"
     ]
    },
    {
     "name": "stderr",
     "output_type": "stream",
     "text": [
      "                                                                                                   \r"
     ]
    },
    {
     "name": "stdout",
     "output_type": "stream",
     "text": [
      "Epoch 5/10\n",
      "  Train Loss: 1.6085 | Accuracy: 0.3930\n",
      "  Val   Loss: 1.5148 | Accuracy: 0.4133\n"
     ]
    },
    {
     "name": "stderr",
     "output_type": "stream",
     "text": [
      "                                                                                                \r"
     ]
    },
    {
     "name": "stdout",
     "output_type": "stream",
     "text": [
      "Epoch 6/10\n",
      "  Train Loss: 1.5073 | Accuracy: 0.4435\n",
      "  Val   Loss: 1.3740 | Accuracy: 0.4741\n"
     ]
    },
    {
     "name": "stderr",
     "output_type": "stream",
     "text": [
      "                                                                                                \r"
     ]
    },
    {
     "name": "stdout",
     "output_type": "stream",
     "text": [
      "Epoch 7/10\n",
      "  Train Loss: 1.4441 | Accuracy: 0.4426\n",
      "  Val   Loss: 1.4088 | Accuracy: 0.4741\n"
     ]
    },
    {
     "name": "stderr",
     "output_type": "stream",
     "text": [
      "                                                                                                \r"
     ]
    },
    {
     "name": "stdout",
     "output_type": "stream",
     "text": [
      "Epoch 8/10\n",
      "  Train Loss: 1.4144 | Accuracy: 0.4726\n",
      "  Val   Loss: 1.3593 | Accuracy: 0.4572\n"
     ]
    },
    {
     "name": "stderr",
     "output_type": "stream",
     "text": [
      "                                                                                                \r"
     ]
    },
    {
     "name": "stdout",
     "output_type": "stream",
     "text": [
      "Epoch 9/10\n",
      "  Train Loss: 1.3475 | Accuracy: 0.4803\n",
      "  Val   Loss: 1.2309 | Accuracy: 0.5653\n"
     ]
    },
    {
     "name": "stderr",
     "output_type": "stream",
     "text": [
      "                                                                                                "
     ]
    },
    {
     "name": "stdout",
     "output_type": "stream",
     "text": [
      "Epoch 10/10\n",
      "  Train Loss: 1.3078 | Accuracy: 0.5120\n",
      "  Val   Loss: 1.2849 | Accuracy: 0.5788\n"
     ]
    },
    {
     "name": "stderr",
     "output_type": "stream",
     "text": [
      "\r"
     ]
    }
   ],
   "source": [
    "num_epochs = 10\n",
    "\n",
    "for epoch in range(num_epochs):\n",
    "    train_loss, train_acc = train_one_epoch(model, train_loader, optimizer, criterion, device)\n",
    "    val_loss, val_acc = validate(model, val_loader, criterion, device)\n",
    "\n",
    "    print(f\"Epoch {epoch+1}/{num_epochs}\")\n",
    "    print(f\"  Train Loss: {train_loss:.4f} | Accuracy: {train_acc:.4f}\")\n",
    "    print(f\"  Val   Loss: {val_loss:.4f} | Accuracy: {val_acc:.4f}\")"
   ]
  },
  {
   "cell_type": "code",
   "execution_count": 43,
   "id": "ca67ec39",
   "metadata": {},
   "outputs": [
    {
     "name": "stderr",
     "output_type": "stream",
     "text": [
      "                                                                                                \r"
     ]
    },
    {
     "name": "stdout",
     "output_type": "stream",
     "text": [
      "Epoch 1/10\n",
      "  Train Loss: 1.2905 | Accuracy: 0.5188\n",
      "  Val   Loss: 1.3110 | Accuracy: 0.5315\n"
     ]
    },
    {
     "name": "stderr",
     "output_type": "stream",
     "text": [
      "                                                                                                \r"
     ]
    },
    {
     "name": "stdout",
     "output_type": "stream",
     "text": [
      "Epoch 2/10\n",
      "  Train Loss: 1.2363 | Accuracy: 0.5248\n",
      "  Val   Loss: 1.2555 | Accuracy: 0.5923\n"
     ]
    },
    {
     "name": "stderr",
     "output_type": "stream",
     "text": [
      "                                                                                                \r"
     ]
    },
    {
     "name": "stdout",
     "output_type": "stream",
     "text": [
      "Epoch 3/10\n",
      "  Train Loss: 1.2096 | Accuracy: 0.5514\n",
      "  Val   Loss: 1.2766 | Accuracy: 0.5788\n"
     ]
    },
    {
     "name": "stderr",
     "output_type": "stream",
     "text": [
      "                                                                                                \r"
     ]
    },
    {
     "name": "stdout",
     "output_type": "stream",
     "text": [
      "Epoch 4/10\n",
      "  Train Loss: 1.1358 | Accuracy: 0.5616\n",
      "  Val   Loss: 1.2882 | Accuracy: 0.5383\n"
     ]
    },
    {
     "name": "stderr",
     "output_type": "stream",
     "text": [
      "                                                                                                \r"
     ]
    },
    {
     "name": "stdout",
     "output_type": "stream",
     "text": [
      "Epoch 5/10\n",
      "  Train Loss: 1.1279 | Accuracy: 0.5830\n",
      "  Val   Loss: 1.2441 | Accuracy: 0.6025\n"
     ]
    },
    {
     "name": "stderr",
     "output_type": "stream",
     "text": [
      "                                                                                                \r"
     ]
    },
    {
     "name": "stdout",
     "output_type": "stream",
     "text": [
      "Epoch 6/10\n",
      "  Train Loss: 1.0981 | Accuracy: 0.5805\n",
      "  Val   Loss: 1.1476 | Accuracy: 0.5923\n"
     ]
    },
    {
     "name": "stderr",
     "output_type": "stream",
     "text": [
      "                                                                                                \r"
     ]
    },
    {
     "name": "stdout",
     "output_type": "stream",
     "text": [
      "Epoch 7/10\n",
      "  Train Loss: 1.0529 | Accuracy: 0.6019\n",
      "  Val   Loss: 1.1373 | Accuracy: 0.6498\n"
     ]
    },
    {
     "name": "stderr",
     "output_type": "stream",
     "text": [
      "                                                                                                \r"
     ]
    },
    {
     "name": "stdout",
     "output_type": "stream",
     "text": [
      "Epoch 8/10\n",
      "  Train Loss: 1.0042 | Accuracy: 0.6207\n",
      "  Val   Loss: 1.1567 | Accuracy: 0.6464\n"
     ]
    },
    {
     "name": "stderr",
     "output_type": "stream",
     "text": [
      "                                                                                                \r"
     ]
    },
    {
     "name": "stdout",
     "output_type": "stream",
     "text": [
      "Epoch 9/10\n",
      "  Train Loss: 0.9391 | Accuracy: 0.6567\n",
      "  Val   Loss: 1.2673 | Accuracy: 0.6092\n"
     ]
    },
    {
     "name": "stderr",
     "output_type": "stream",
     "text": [
      "                                                                                                "
     ]
    },
    {
     "name": "stdout",
     "output_type": "stream",
     "text": [
      "Epoch 10/10\n",
      "  Train Loss: 0.9242 | Accuracy: 0.6558\n",
      "  Val   Loss: 1.2723 | Accuracy: 0.6025\n"
     ]
    },
    {
     "name": "stderr",
     "output_type": "stream",
     "text": [
      "\r"
     ]
    }
   ],
   "source": [
    "num_epochs = 10\n",
    "\n",
    "for epoch in range(num_epochs):\n",
    "    train_loss, train_acc = train_one_epoch(model, train_loader, optimizer, criterion, device)\n",
    "    val_loss, val_acc = validate(model, val_loader, criterion, device)\n",
    "\n",
    "    print(f\"Epoch {epoch+1}/{num_epochs}\")\n",
    "    print(f\"  Train Loss: {train_loss:.4f} | Accuracy: {train_acc:.4f}\")\n",
    "    print(f\"  Val   Loss: {val_loss:.4f} | Accuracy: {val_acc:.4f}\")"
   ]
  },
  {
   "cell_type": "markdown",
   "id": "35272464",
   "metadata": {},
   "source": [
    "# 7. Evaluation"
   ]
  },
  {
   "cell_type": "markdown",
   "id": "40803edf",
   "metadata": {},
   "source": [
    "NOTE: I forgot to do a test dataset split so I'm currently gonna get a random subset"
   ]
  },
  {
   "cell_type": "code",
   "execution_count": 44,
   "id": "e66e1c16",
   "metadata": {},
   "outputs": [],
   "source": [
    "def predict(model, dataloader, device):\n",
    "    model.eval()\n",
    "    all_preds = []\n",
    "    all_labels = []\n",
    "\n",
    "    with torch.no_grad():\n",
    "        for batch in dataloader:\n",
    "            vol_local = batch[\"volume_local\"].to(device)\n",
    "            vol_context = batch[\"volume_context\"].to(device)\n",
    "            radiomics = batch[\"radiomics\"].to(device)\n",
    "            labels = batch[\"label\"].to(device)\n",
    "\n",
    "            outputs = model(vol_local, vol_context, radiomics)\n",
    "            preds = torch.argmax(outputs, dim=1)\n",
    "\n",
    "            all_preds.extend(preds.cpu().numpy())\n",
    "            all_labels.extend(labels.cpu().numpy())\n",
    "\n",
    "    return np.array(all_preds), np.array(all_labels)"
   ]
  },
  {
   "cell_type": "code",
   "execution_count": 45,
   "id": "a71d0a4c",
   "metadata": {},
   "outputs": [],
   "source": [
    "from sklearn.metrics import accuracy_score, f1_score, confusion_matrix, classification_report\n",
    "import seaborn as sns\n",
    "import matplotlib.pyplot as plt\n",
    "\n",
    "def evaluate_model(model, dataloader, device, class_names):\n",
    "    y_pred, y_true = predict(model, dataloader, device)\n",
    "\n",
    "    acc = accuracy_score(y_true, y_pred)\n",
    "    f1 = f1_score(y_true, y_pred, average=\"weighted\")\n",
    "\n",
    "    print(f\"Accuracy: {acc:.4f}\")\n",
    "    print(f\"F1 Score: {f1:.4f}\")\n",
    "    print(\"\\nClassification Report:\")\n",
    "    print(classification_report(y_true, y_pred, target_names=class_names))\n",
    "\n",
    "    # Confusion Matrix\n",
    "    cm = confusion_matrix(y_true, y_pred)\n",
    "    plt.figure(figsize=(8, 6))\n",
    "    sns.heatmap(cm, annot=True, fmt=\"d\", cmap=\"Blues\", xticklabels=class_names, yticklabels=class_names)\n",
    "    plt.xlabel(\"Predicted\")\n",
    "    plt.ylabel(\"True\")\n",
    "    plt.title(\"Confusion Matrix\")\n",
    "    plt.show()\n"
   ]
  },
  {
   "cell_type": "code",
   "execution_count": 46,
   "id": "477fb1db",
   "metadata": {},
   "outputs": [],
   "source": [
    "test_set = torch.utils.data.Subset(dataset, range(int(0.85 * len(dataset)), len(dataset)))\n",
    "test_loader = DataLoader(test_set, batch_size=8, shuffle=False)"
   ]
  },
  {
   "cell_type": "code",
   "execution_count": 47,
   "id": "4eda42d9",
   "metadata": {},
   "outputs": [
    {
     "name": "stdout",
     "output_type": "stream",
     "text": [
      "Accuracy: 0.7798\n",
      "F1 Score: 0.7609\n",
      "\n",
      "Classification Report:\n",
      "                                         precision    recall  f1-score   support\n",
      "\n",
      "                       Active Infection       0.85      0.85      0.85        13\n",
      "                         Adenocarcinoma       0.35      0.89      0.50         9\n",
      "               Adenoid Cystic Carcinoma       1.00      0.67      0.80        12\n",
      "         Bronchioloalveolar Hyperplasia       0.73      0.96      0.83        28\n",
      "                       Carcinoid Tumors       1.00      0.86      0.92         7\n",
      "                              Granuloma       0.94      1.00      0.97        31\n",
      "                              Hamartoma       1.00      1.00      1.00        17\n",
      "             Intrapulmonary Lymph Nodes       1.00      0.88      0.93         8\n",
      "Large Cell (Undifferentiated) Carcinoma       0.00      0.00      0.00        14\n",
      "                               Lymphoma       0.91      0.53      0.67        19\n",
      "                      Metastatic Tumors       0.73      0.92      0.81        12\n",
      "                            Sarcoidosis       0.94      0.79      0.86        19\n",
      "                  Sarcomatoid Carcinoma       0.50      0.50      0.50         6\n",
      "          Small Cell Lung Cancer (SCLC)       0.65      0.87      0.74        15\n",
      "                Squamous Cell Carcinoma       0.60      0.38      0.46         8\n",
      "\n",
      "                               accuracy                           0.78       218\n",
      "                              macro avg       0.75      0.74      0.72       218\n",
      "                           weighted avg       0.78      0.78      0.76       218\n",
      "\n"
     ]
    },
    {
     "data": {
      "image/png": "[encoded data removed]",
      "text/plain": [
       "<Figure size 800x600 with 2 Axes>"
      ]
     },
     "metadata": {},
     "output_type": "display_data"
    }
   ],
   "source": [
    "class_names = list(le.classes_)\n",
    "evaluate_model(model, test_loader, device, class_names)"
   ]
  },
  {
   "cell_type": "markdown",
   "id": "4b724455",
   "metadata": {},
   "source": [
    "# 8. Explainability"
   ]
  },
  {
   "cell_type": "markdown",
   "id": "1c8ab5b3",
   "metadata": {},
   "source": [
    "### Grad-Cam"
   ]
  },
  {
   "cell_type": "code",
   "execution_count": 48,
   "id": "04064cf6",
   "metadata": {},
   "outputs": [
    {
     "ename": "ModuleNotFoundError",
     "evalue": "No module named 'pytorch_grad_cam'",
     "output_type": "error",
     "traceback": [
      "\u001b[1;31m---------------------------------------------------------------------------\u001b[0m",
      "\u001b[1;31mModuleNotFoundError\u001b[0m                       Traceback (most recent call last)",
      "Cell \u001b[1;32mIn[48], line 1\u001b[0m\n\u001b[1;32m----> 1\u001b[0m \u001b[38;5;28;01mfrom\u001b[39;00m\u001b[38;5;250m \u001b[39m\u001b[38;5;21;01mpytorch_grad_cam\u001b[39;00m\u001b[38;5;250m \u001b[39m\u001b[38;5;28;01mimport\u001b[39;00m GradCAM\n\u001b[0;32m      2\u001b[0m \u001b[38;5;28;01mfrom\u001b[39;00m\u001b[38;5;250m \u001b[39m\u001b[38;5;21;01mpytorch_grad_cam\u001b[39;00m\u001b[38;5;21;01m.\u001b[39;00m\u001b[38;5;21;01mutils\u001b[39;00m\u001b[38;5;21;01m.\u001b[39;00m\u001b[38;5;21;01mmodel_targets\u001b[39;00m\u001b[38;5;250m \u001b[39m\u001b[38;5;28;01mimport\u001b[39;00m ClassifierOutputTarget\n\u001b[0;32m      3\u001b[0m \u001b[38;5;28;01mfrom\u001b[39;00m\u001b[38;5;250m \u001b[39m\u001b[38;5;21;01mpytorch_grad_cam\u001b[39;00m\u001b[38;5;21;01m.\u001b[39;00m\u001b[38;5;21;01mutils\u001b[39;00m\u001b[38;5;21;01m.\u001b[39;00m\u001b[38;5;21;01mimage\u001b[39;00m\u001b[38;5;250m \u001b[39m\u001b[38;5;28;01mimport\u001b[39;00m show_cam_on_image\n",
      "\u001b[1;31mModuleNotFoundError\u001b[0m: No module named 'pytorch_grad_cam'"
     ]
    }
   ],
   "source": [
    "from pytorch_grad_cam import GradCAM\n",
    "from pytorch_grad_cam.utils.model_targets import ClassifierOutputTarget\n",
    "from pytorch_grad_cam.utils.image import show_cam_on_image"
   ]
  },
  {
   "cell_type": "code",
   "execution_count": null,
   "id": "4859fe9b",
   "metadata": {},
   "outputs": [],
   "source": [
    "target_layer = model.local_branch.conv[4]  # the second Conv3D layer"
   ]
  },
  {
   "cell_type": "code",
   "execution_count": null,
   "id": "db76346b",
   "metadata": {},
   "outputs": [],
   "source": [
    "cam = GradCAM(model=model.local_branch, target_layers=[target_layer])\n",
    "\n",
    "batch = next(iter(test_loader))  # one batch\n",
    "input_tensor = batch[\"volume_local\"][0].unsqueeze(0).to(device)  # [1, 1, D, H, W]\n",
    "target_category = batch[\"label\"][0].item()\n",
    "\n",
    "grayscale_cam = cam(input_tensor=input_tensor, targets=[ClassifierOutputTarget(target_category)])\n"
   ]
  },
  {
   "cell_type": "code",
   "execution_count": null,
   "id": "8cf9a89f",
   "metadata": {},
   "outputs": [
    {
     "data": {
      "image/svg+xml": [
       "<?xml version=\"1.0\" encoding=\"utf-8\" standalone=\"no\"?>\n",
       "<!DOCTYPE svg PUBLIC \"-//W3C//DTD SVG 1.1//EN\"\n",
       "  \"http://www.w3.org/Graphics/SVG/1.1/DTD/svg11.dtd\">\n",
       "<svg xmlns:xlink=\"http://www.w3.org/1999/xlink\" width=\"347.04pt\" height=\"362.158125pt\" viewBox=\"0 0 347.04 362.158125\" xmlns=\"http://www.w3.org/2000/svg\" version=\"1.1\">\n",
       " <metadata>\n",
       "  <rdf:RDF xmlns:dc=\"http://purl.org/dc/elements/1.1/\" xmlns:cc=\"http://creativecommons.org/ns#\" xmlns:rdf=\"http://www.w3.org/1999/02/22-rdf-syntax-ns#\">\n",
       "   <cc:Work>\n",
       "    <dc:type rdf:resource=\"http://purl.org/dc/dcmitype/StillImage\"/>\n",
       "    <dc:date>2025-04-21T22:52:52.524871</dc:date>\n",
       "    <dc:format>image/svg+xml</dc:format>\n",
       "    <dc:creator>\n",
       "     <cc:Agent>\n",
       "      <dc:title>Matplotlib v3.7.5, https://matplotlib.org/</dc:title>\n",
       "     </cc:Agent>\n",
       "    </dc:creator>\n",
       "   </cc:Work>\n",
       "  </rdf:RDF>\n",
       " </metadata>\n",
       " <defs>\n",
       "  <style type=\"text/css\">*{stroke-linejoin: round; stroke-linecap: butt}</style>\n",
       " </defs>\n",
       " <g id=\"figure_1\">\n",
       "  <g id=\"patch_1\">\n",
       "   <path d=\"M 0 362.158125 \n",
       "L 347.04 362.158125 \n",
       "L 347.04 -0 \n",
       "L 0 -0 \n",
       "z\n",
       "\" style=\"fill: #ffffff\"/>\n",
       "  </g>\n",
       "  <g id=\"axes_1\">\n",
       "   <g clip-path=\"url(#p4b9ec5e858)\">\n",
       "    <image xlink:href=\"data:image/png;base64,\n",
       "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\" id=\"image2e73060570\" transform=\"scale(1 -1) translate(0 -333.36)\" x=\"7.2\" y=\"-21.598125\" width=\"332.64\" height=\"333.36\"/>\n",
       "   </g>\n",
       "   <g id=\"text_1\">\n",
       "    <!-- Grad-CAM Overlay (Middle Slice) -->\n",
       "    <g transform=\"translate(75.598125 16.318125) scale(0.12 -0.12)\">\n",
       "     <defs>\n",
       "      <path id=\"DejaVuSans-47\" d=\"M 3809 666 \n",
       "L 3809 1919 \n",
       "L 2778 1919 \n",
       "L 2778 2438 \n",
       "L 4434 2438 \n",
       "L 4434 434 \n",
       "Q 4069 175 3628 42 \n",
       "Q 3188 -91 2688 -91 \n",
       "Q 1594 -91 976 548 \n",
       "Q 359 1188 359 2328 \n",
       "Q 359 3472 976 4111 \n",
       "Q 1594 4750 2688 4750 \n",
       "Q 3144 4750 3555 4637 \n",
       "Q 3966 4525 4313 4306 \n",
       "L 4313 3634 \n",
       "Q 3963 3931 3569 4081 \n",
       "Q 3175 4231 2741 4231 \n",
       "Q 1884 4231 1454 3753 \n",
       "Q 1025 3275 1025 2328 \n",
       "Q 1025 1384 1454 906 \n",
       "Q 1884 428 2741 428 \n",
       "Q 3075 428 3337 486 \n",
       "Q 3600 544 3809 666 \n",
       "z\n",
       "\" transform=\"scale(0.015625)\"/>\n",
       "      <path id=\"DejaVuSans-72\" d=\"M 2631 2963 \n",
       "Q 2534 3019 2420 3045 \n",
       "Q 2306 3072 2169 3072 \n",
       "Q 1681 3072 1420 2755 \n",
       "Q 1159 2438 1159 1844 \n",
       "L 1159 0 \n",
       "L 581 0 \n",
       "L 581 3500 \n",
       "L 1159 3500 \n",
       "L 1159 2956 \n",
       "Q 1341 3275 1631 3429 \n",
       "Q 1922 3584 2338 3584 \n",
       "Q 2397 3584 2469 3576 \n",
       "Q 2541 3569 2628 3553 \n",
       "L 2631 2963 \n",
       "z\n",
       "\" transform=\"scale(0.015625)\"/>\n",
       "      <path id=\"DejaVuSans-61\" d=\"M 2194 1759 \n",
       "Q 1497 1759 1228 1600 \n",
       "Q 959 1441 959 1056 \n",
       "Q 959 750 1161 570 \n",
       "Q 1363 391 1709 391 \n",
       "Q 2188 391 2477 730 \n",
       "Q 2766 1069 2766 1631 \n",
       "L 2766 1759 \n",
       "L 2194 1759 \n",
       "z\n",
       "M 3341 1997 \n",
       "L 3341 0 \n",
       "L 2766 0 \n",
       "L 2766 531 \n",
       "Q 2569 213 2275 61 \n",
       "Q 1981 -91 1556 -91 \n",
       "Q 1019 -91 701 211 \n",
       "Q 384 513 384 1019 \n",
       "Q 384 1609 779 1909 \n",
       "Q 1175 2209 1959 2209 \n",
       "L 2766 2209 \n",
       "L 2766 2266 \n",
       "Q 2766 2663 2505 2880 \n",
       "Q 2244 3097 1772 3097 \n",
       "Q 1472 3097 1187 3025 \n",
       "Q 903 2953 641 2809 \n",
       "L 641 3341 \n",
       "Q 956 3463 1253 3523 \n",
       "Q 1550 3584 1831 3584 \n",
       "Q 2591 3584 2966 3190 \n",
       "Q 3341 2797 3341 1997 \n",
       "z\n",
       "\" transform=\"scale(0.015625)\"/>\n",
       "      <path id=\"DejaVuSans-64\" d=\"M 2906 2969 \n",
       "L 2906 4863 \n",
       "L 3481 4863 \n",
       "L 3481 0 \n",
       "L 2906 0 \n",
       "L 2906 525 \n",
       "Q 2725 213 2448 61 \n",
       "Q 2172 -91 1784 -91 \n",
       "Q 1150 -91 751 415 \n",
       "Q 353 922 353 1747 \n",
       "Q 353 2572 751 3078 \n",
       "Q 1150 3584 1784 3584 \n",
       "Q 2172 3584 2448 3432 \n",
       "Q 2725 3281 2906 2969 \n",
       "z\n",
       "M 947 1747 \n",
       "Q 947 1113 1208 752 \n",
       "Q 1469 391 1925 391 \n",
       "Q 2381 391 2643 752 \n",
       "Q 2906 1113 2906 1747 \n",
       "Q 2906 2381 2643 2742 \n",
       "Q 2381 3103 1925 3103 \n",
       "Q 1469 3103 1208 2742 \n",
       "Q 947 2381 947 1747 \n",
       "z\n",
       "\" transform=\"scale(0.015625)\"/>\n",
       "      <path id=\"DejaVuSans-2d\" d=\"M 313 2009 \n",
       "L 1997 2009 \n",
       "L 1997 1497 \n",
       "L 313 1497 \n",
       "L 313 2009 \n",
       "z\n",
       "\" transform=\"scale(0.015625)\"/>\n",
       "      <path id=\"DejaVuSans-43\" d=\"M 4122 4306 \n",
       "L 4122 3641 \n",
       "Q 3803 3938 3442 4084 \n",
       "Q 3081 4231 2675 4231 \n",
       "Q 1875 4231 1450 3742 \n",
       "Q 1025 3253 1025 2328 \n",
       "Q 1025 1406 1450 917 \n",
       "Q 1875 428 2675 428 \n",
       "Q 3081 428 3442 575 \n",
       "Q 3803 722 4122 1019 \n",
       "L 4122 359 \n",
       "Q 3791 134 3420 21 \n",
       "Q 3050 -91 2638 -91 \n",
       "Q 1578 -91 968 557 \n",
       "Q 359 1206 359 2328 \n",
       "Q 359 3453 968 4101 \n",
       "Q 1578 4750 2638 4750 \n",
       "Q 3056 4750 3426 4639 \n",
       "Q 3797 4528 4122 4306 \n",
       "z\n",
       "\" transform=\"scale(0.015625)\"/>\n",
       "      <path id=\"DejaVuSans-41\" d=\"M 2188 4044 \n",
       "L 1331 1722 \n",
       "L 3047 1722 \n",
       "L 2188 4044 \n",
       "z\n",
       "M 1831 4666 \n",
       "L 2547 4666 \n",
       "L 4325 0 \n",
       "L 3669 0 \n",
       "L 3244 1197 \n",
       "L 1141 1197 \n",
       "L 716 0 \n",
       "L 50 0 \n",
       "L 1831 4666 \n",
       "z\n",
       "\" transform=\"scale(0.015625)\"/>\n",
       "      <path id=\"DejaVuSans-4d\" d=\"M 628 4666 \n",
       "L 1569 4666 \n",
       "L 2759 1491 \n",
       "L 3956 4666 \n",
       "L 4897 4666 \n",
       "L 4897 0 \n",
       "L 4281 0 \n",
       "L 4281 4097 \n",
       "L 3078 897 \n",
       "L 2444 897 \n",
       "L 1241 4097 \n",
       "L 1241 0 \n",
       "L 628 0 \n",
       "L 628 4666 \n",
       "z\n",
       "\" transform=\"scale(0.015625)\"/>\n",
       "      <path id=\"DejaVuSans-20\" transform=\"scale(0.015625)\"/>\n",
       "      <path id=\"DejaVuSans-4f\" d=\"M 2522 4238 \n",
       "Q 1834 4238 1429 3725 \n",
       "Q 1025 3213 1025 2328 \n",
       "Q 1025 1447 1429 934 \n",
       "Q 1834 422 2522 422 \n",
       "Q 3209 422 3611 934 \n",
       "Q 4013 1447 4013 2328 \n",
       "Q 4013 3213 3611 3725 \n",
       "Q 3209 4238 2522 4238 \n",
       "z\n",
       "M 2522 4750 \n",
       "Q 3503 4750 4090 4092 \n",
       "Q 4678 3434 4678 2328 \n",
       "Q 4678 1225 4090 567 \n",
       "Q 3503 -91 2522 -91 \n",
       "Q 1538 -91 948 565 \n",
       "Q 359 1222 359 2328 \n",
       "Q 359 3434 948 4092 \n",
       "Q 1538 4750 2522 4750 \n",
       "z\n",
       "\" transform=\"scale(0.015625)\"/>\n",
       "      <path id=\"DejaVuSans-76\" d=\"M 191 3500 \n",
       "L 800 3500 \n",
       "L 1894 563 \n",
       "L 2988 3500 \n",
       "L 3597 3500 \n",
       "L 2284 0 \n",
       "L 1503 0 \n",
       "L 191 3500 \n",
       "z\n",
       "\" transform=\"scale(0.015625)\"/>\n",
       "      <path id=\"DejaVuSans-65\" d=\"M 3597 1894 \n",
       "L 3597 1613 \n",
       "L 953 1613 \n",
       "Q 991 1019 1311 708 \n",
       "Q 1631 397 2203 397 \n",
       "Q 2534 397 2845 478 \n",
       "Q 3156 559 3463 722 \n",
       "L 3463 178 \n",
       "Q 3153 47 2828 -22 \n",
       "Q 2503 -91 2169 -91 \n",
       "Q 1331 -91 842 396 \n",
       "Q 353 884 353 1716 \n",
       "Q 353 2575 817 3079 \n",
       "Q 1281 3584 2069 3584 \n",
       "Q 2775 3584 3186 3129 \n",
       "Q 3597 2675 3597 1894 \n",
       "z\n",
       "M 3022 2063 \n",
       "Q 3016 2534 2758 2815 \n",
       "Q 2500 3097 2075 3097 \n",
       "Q 1594 3097 1305 2825 \n",
       "Q 1016 2553 972 2059 \n",
       "L 3022 2063 \n",
       "z\n",
       "\" transform=\"scale(0.015625)\"/>\n",
       "      <path id=\"DejaVuSans-6c\" d=\"M 603 4863 \n",
       "L 1178 4863 \n",
       "L 1178 0 \n",
       "L 603 0 \n",
       "L 603 4863 \n",
       "z\n",
       "\" transform=\"scale(0.015625)\"/>\n",
       "      <path id=\"DejaVuSans-79\" d=\"M 2059 -325 \n",
       "Q 1816 -950 1584 -1140 \n",
       "Q 1353 -1331 966 -1331 \n",
       "L 506 -1331 \n",
       "L 506 -850 \n",
       "L 844 -850 \n",
       "Q 1081 -850 1212 -737 \n",
       "Q 1344 -625 1503 -206 \n",
       "L 1606 56 \n",
       "L 191 3500 \n",
       "L 800 3500 \n",
       "L 1894 763 \n",
       "L 2988 3500 \n",
       "L 3597 3500 \n",
       "L 2059 -325 \n",
       "z\n",
       "\" transform=\"scale(0.015625)\"/>\n",
       "      <path id=\"DejaVuSans-28\" d=\"M 1984 4856 \n",
       "Q 1566 4138 1362 3434 \n",
       "Q 1159 2731 1159 2009 \n",
       "Q 1159 1288 1364 580 \n",
       "Q 1569 -128 1984 -844 \n",
       "L 1484 -844 \n",
       "Q 1016 -109 783 600 \n",
       "Q 550 1309 550 2009 \n",
       "Q 550 2706 781 3412 \n",
       "Q 1013 4119 1484 4856 \n",
       "L 1984 4856 \n",
       "z\n",
       "\" transform=\"scale(0.015625)\"/>\n",
       "      <path id=\"DejaVuSans-69\" d=\"M 603 3500 \n",
       "L 1178 3500 \n",
       "L 1178 0 \n",
       "L 603 0 \n",
       "L 603 3500 \n",
       "z\n",
       "M 603 4863 \n",
       "L 1178 4863 \n",
       "L 1178 4134 \n",
       "L 603 4134 \n",
       "L 603 4863 \n",
       "z\n",
       "\" transform=\"scale(0.015625)\"/>\n",
       "      <path id=\"DejaVuSans-53\" d=\"M 3425 4513 \n",
       "L 3425 3897 \n",
       "Q 3066 4069 2747 4153 \n",
       "Q 2428 4238 2131 4238 \n",
       "Q 1616 4238 1336 4038 \n",
       "Q 1056 3838 1056 3469 \n",
       "Q 1056 3159 1242 3001 \n",
       "Q 1428 2844 1947 2747 \n",
       "L 2328 2669 \n",
       "Q 3034 2534 3370 2195 \n",
       "Q 3706 1856 3706 1288 \n",
       "Q 3706 609 3251 259 \n",
       "Q 2797 -91 1919 -91 \n",
       "Q 1588 -91 1214 -16 \n",
       "Q 841 59 441 206 \n",
       "L 441 856 \n",
       "Q 825 641 1194 531 \n",
       "Q 1563 422 1919 422 \n",
       "Q 2459 422 2753 634 \n",
       "Q 3047 847 3047 1241 \n",
       "Q 3047 1584 2836 1778 \n",
       "Q 2625 1972 2144 2069 \n",
       "L 1759 2144 \n",
       "Q 1053 2284 737 2584 \n",
       "Q 422 2884 422 3419 \n",
       "Q 422 4038 858 4394 \n",
       "Q 1294 4750 2059 4750 \n",
       "Q 2388 4750 2728 4690 \n",
       "Q 3069 4631 3425 4513 \n",
       "z\n",
       "\" transform=\"scale(0.015625)\"/>\n",
       "      <path id=\"DejaVuSans-63\" d=\"M 3122 3366 \n",
       "L 3122 2828 \n",
       "Q 2878 2963 2633 3030 \n",
       "Q 2388 3097 2138 3097 \n",
       "Q 1578 3097 1268 2742 \n",
       "Q 959 2388 959 1747 \n",
       "Q 959 1106 1268 751 \n",
       "Q 1578 397 2138 397 \n",
       "Q 2388 397 2633 464 \n",
       "Q 2878 531 3122 666 \n",
       "L 3122 134 \n",
       "Q 2881 22 2623 -34 \n",
       "Q 2366 -91 2075 -91 \n",
       "Q 1284 -91 818 406 \n",
       "Q 353 903 353 1747 \n",
       "Q 353 2603 823 3093 \n",
       "Q 1294 3584 2113 3584 \n",
       "Q 2378 3584 2631 3529 \n",
       "Q 2884 3475 3122 3366 \n",
       "z\n",
       "\" transform=\"scale(0.015625)\"/>\n",
       "      <path id=\"DejaVuSans-29\" d=\"M 513 4856 \n",
       "L 1013 4856 \n",
       "Q 1481 4119 1714 3412 \n",
       "Q 1947 2706 1947 2009 \n",
       "Q 1947 1309 1714 600 \n",
       "Q 1481 -109 1013 -844 \n",
       "L 513 -844 \n",
       "Q 928 -128 1133 580 \n",
       "Q 1338 1288 1338 2009 \n",
       "Q 1338 2731 1133 3434 \n",
       "Q 928 4138 513 4856 \n",
       "z\n",
       "\" transform=\"scale(0.015625)\"/>\n",
       "     </defs>\n",
       "     <use xlink:href=\"#DejaVuSans-47\"/>\n",
       "     <use xlink:href=\"#DejaVuSans-72\" x=\"77.490234\"/>\n",
       "     <use xlink:href=\"#DejaVuSans-61\" x=\"118.603516\"/>\n",
       "     <use xlink:href=\"#DejaVuSans-64\" x=\"179.882812\"/>\n",
       "     <use xlink:href=\"#DejaVuSans-2d\" x=\"243.359375\"/>\n",
       "     <use xlink:href=\"#DejaVuSans-43\" x=\"279.443359\"/>\n",
       "     <use xlink:href=\"#DejaVuSans-41\" x=\"349.267578\"/>\n",
       "     <use xlink:href=\"#DejaVuSans-4d\" x=\"417.675781\"/>\n",
       "     <use xlink:href=\"#DejaVuSans-20\" x=\"503.955078\"/>\n",
       "     <use xlink:href=\"#DejaVuSans-4f\" x=\"535.742188\"/>\n",
       "     <use xlink:href=\"#DejaVuSans-76\" x=\"614.453125\"/>\n",
       "     <use xlink:href=\"#DejaVuSans-65\" x=\"673.632812\"/>\n",
       "     <use xlink:href=\"#DejaVuSans-72\" x=\"735.15625\"/>\n",
       "     <use xlink:href=\"#DejaVuSans-6c\" x=\"776.269531\"/>\n",
       "     <use xlink:href=\"#DejaVuSans-61\" x=\"804.052734\"/>\n",
       "     <use xlink:href=\"#DejaVuSans-79\" x=\"865.332031\"/>\n",
       "     <use xlink:href=\"#DejaVuSans-20\" x=\"924.511719\"/>\n",
       "     <use xlink:href=\"#DejaVuSans-28\" x=\"956.298828\"/>\n",
       "     <use xlink:href=\"#DejaVuSans-4d\" x=\"995.3125\"/>\n",
       "     <use xlink:href=\"#DejaVuSans-69\" x=\"1081.591797\"/>\n",
       "     <use xlink:href=\"#DejaVuSans-64\" x=\"1109.375\"/>\n",
       "     <use xlink:href=\"#DejaVuSans-64\" x=\"1172.851562\"/>\n",
       "     <use xlink:href=\"#DejaVuSans-6c\" x=\"1236.328125\"/>\n",
       "     <use xlink:href=\"#DejaVuSans-65\" x=\"1264.111328\"/>\n",
       "     <use xlink:href=\"#DejaVuSans-20\" x=\"1325.634766\"/>\n",
       "     <use xlink:href=\"#DejaVuSans-53\" x=\"1357.421875\"/>\n",
       "     <use xlink:href=\"#DejaVuSans-6c\" x=\"1420.898438\"/>\n",
       "     <use xlink:href=\"#DejaVuSans-69\" x=\"1448.681641\"/>\n",
       "     <use xlink:href=\"#DejaVuSans-63\" x=\"1476.464844\"/>\n",
       "     <use xlink:href=\"#DejaVuSans-65\" x=\"1531.445312\"/>\n",
       "     <use xlink:href=\"#DejaVuSans-29\" x=\"1592.96875\"/>\n",
       "    </g>\n",
       "   </g>\n",
       "  </g>\n",
       " </g>\n",
       " <defs>\n",
       "  <clipPath id=\"p4b9ec5e858\">\n",
       "   <rect x=\"7.2\" y=\"22.318125\" width=\"332.64\" height=\"332.64\"/>\n",
       "  </clipPath>\n",
       " </defs>\n",
       "</svg>\n"
      ],
      "text/plain": [
       "<Figure size 600x600 with 1 Axes>"
      ]
     },
     "metadata": {},
     "output_type": "display_data"
    }
   ],
   "source": [
    "# Visualize the heatmap \n",
    "\n",
    "input_volume = batch[\"volume_local\"][0].squeeze(0).cpu().numpy() \n",
    "\n",
    "def normalize(x):\n",
    "    x = x - x.min()\n",
    "    x = x / (x.max() + 1e-5)\n",
    "    return x\n",
    "\n",
    "volume = batch[\"volume_local\"][0].squeeze(0).cpu().numpy()      \n",
    "grayscale = grayscale_cam[0]                                    \n",
    "\n",
    "# Take the middle slice\n",
    "mid = volume.shape[0] // 2\n",
    "slice_img = normalize(volume[mid])\n",
    "cam_slice = normalize(grayscale[mid])\n",
    "\n",
    "if cam_slice.shape != slice_img.shape:\n",
    "    cam_slice = cv2.resize(cam_slice, slice_img.shape[::-1])\n",
    "\n",
    "# Convert CAM to heatmap\n",
    "cam_uint8 = np.ascontiguousarray((cam_slice * 255).astype(np.uint8))\n",
    "heatmap = cv2.applyColorMap(cam_uint8, cv2.COLORMAP_JET)\n",
    "heatmap = cv2.cvtColor(heatmap, cv2.COLOR_BGR2RGB) / 255.0\n",
    "\n",
    "# Prepare grayscale CT image\n",
    "ct_rgb = np.stack([slice_img] * 3, axis=-1)\n",
    "\n",
    "overlay = 0.5 * ct_rgb + 0.5 * heatmap\n",
    "\n",
    "plt.figure(figsize=(6, 6))\n",
    "plt.imshow(overlay)\n",
    "plt.title(\"Grad-CAM Overlay (Middle Slice)\")\n",
    "plt.axis(\"off\")\n",
    "plt.show()"
   ]
  },
  {
   "cell_type": "markdown",
   "id": "cfef3a23",
   "metadata": {},
   "source": [
    "# 9. Save model"
   ]
  },
  {
   "cell_type": "code",
   "execution_count": null,
   "id": "68631414",
   "metadata": {},
   "outputs": [],
   "source": [
    "torch.save(model.state_dict(), \"triple_fusion_model.pkl\")"
   ]
  }
 ],
 "metadata": {
  "kernelspec": {
   "display_name": "lung_nodule_env",
   "language": "python",
   "name": "python3"
  },
  "language_info": {
   "codemirror_mode": {
    "name": "ipython",
    "version": 3
   },
   "file_extension": ".py",
   "mimetype": "text/x-python",
   "name": "python",
   "nbconvert_exporter": "python",
   "pygments_lexer": "ipython3",
   "version": "3.9.21"
  }
 },
 "nbformat": 4,
 "nbformat_minor": 5
}
