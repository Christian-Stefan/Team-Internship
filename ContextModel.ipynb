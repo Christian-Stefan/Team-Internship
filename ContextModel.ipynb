{
  "nbformat": 4,
  "nbformat_minor": 0,
  "metadata": {
    "colab": {
      "provenance": [],
      "mount_file_id": "1-Jv3LsDgnOyGJFgvnexEaPDtTvCXFjPo",
      "authorship_tag": "ABX9TyOYPWGR6y8iHfKw8SdYgDBs",
      "include_colab_link": true
    },
    "kernelspec": {
      "name": "python3",
      "display_name": "Python 3"
    },
    "language_info": {
      "name": "python"
    }
  },
  "cells": [
    {
      "cell_type": "markdown",
      "metadata": {
        "id": "view-in-github",
        "colab_type": "text"
      },
      "source": [
        "<a href=\"https://colab.research.google.com/github/Christian-Stefan/Team-Internship/blob/Chris/ContextModel.ipynb\" target=\"_parent\"><img src=\"https://colab.research.google.com/assets/colab-badge.svg\" alt=\"Open In Colab\"/></a>"
      ]
    },
    {
      "cell_type": "markdown",
      "source": [
        "# Data Preparation"
      ],
      "metadata": {
        "id": "3yqr1TrQtltU"
      }
    },
    {
      "cell_type": "markdown",
      "source": [
        "## Data Curation"
      ],
      "metadata": {
        "id": "fWulw0_IuiKO"
      }
    },
    {
      "cell_type": "code",
      "source": [
        "# 1. Importing Data.csv\n",
        "data = pd.read_csv('Data.csv')\n",
        "\n",
        "\n",
        "# 2. Eliminating CTs which have no nodule slices\n",
        "data[\"slices_present\"] = data[\"slices_present\"].apply(\n",
        "    lambda x: ast.literal_eval(x) if isinstance(x, str) else x\n",
        ")\n",
        "data = data[data['slices_present'].apply(lambda x: len(x) > 0)]\n",
        "print((data['slices_present'].apply(len) == 0).sum()) # No zero-slices CTs\n",
        "print(len(data)) # The number of fields slightly decreased"
      ],
      "metadata": {
        "colab": {
          "base_uri": "https://localhost:8080/"
        },
        "id": "f1K7WV5luogG",
        "outputId": "8b5895bb-76f0-413b-d8fc-164e4b70cbb1"
      },
      "execution_count": null,
      "outputs": [
        {
          "output_type": "stream",
          "name": "stdout",
          "text": [
            "0\n",
            "1453\n"
          ]
        }
      ]
    },
    {
      "cell_type": "markdown",
      "source": [
        "## Encoding Labels"
      ],
      "metadata": {
        "id": "lmvW4kfrwRmU"
      }
    },
    {
      "cell_type": "code",
      "source": [
        "# 3. Encoding labels\n",
        "label = LabelEncoder()\n",
        "data['label'] = label.fit_transform(data['nodule_name'])\n",
        "label_map = dict(zip(label.classes_, label.transform(label.classes_)))\n",
        "print(label_map)"
      ],
      "metadata": {
        "colab": {
          "base_uri": "https://localhost:8080/"
        },
        "id": "kisSSoPkwVD6",
        "outputId": "121cfa54-99c9-42b1-b58b-f352b06c5038"
      },
      "execution_count": null,
      "outputs": [
        {
          "output_type": "stream",
          "name": "stdout",
          "text": [
            "{'Active Infection': np.int64(0), 'Adenocarcinoma': np.int64(1), 'Adenoid Cystic Carcinoma': np.int64(2), 'Bronchioloalveolar Hyperplasia': np.int64(3), 'Carcinoid Tumors': np.int64(4), 'Granuloma': np.int64(5), 'Hamartoma': np.int64(6), 'Intrapulmonary Lymph Nodes': np.int64(7), 'Large Cell (Undifferentiated) Carcinoma': np.int64(8), 'Lymphoma': np.int64(9), 'Metastatic Tumors': np.int64(10), 'Sarcoidosis': np.int64(11), 'Sarcomatoid Carcinoma': np.int64(12), 'Small Cell Lung Cancer (SCLC)': np.int64(13), 'Squamous Cell Carcinoma': np.int64(14)}\n"
          ]
        }
      ]
    },
    {
      "cell_type": "markdown",
      "source": [
        "## Volume input preprocessing and construction"
      ],
      "metadata": {
        "id": "XaOb2PIQ0CgT"
      }
    },
    {
      "cell_type": "code",
      "source": [
        "from drive.MyDrive.TeamInternship.P_P import Preprocessing\n",
        "\n",
        "# 4. Preprocess lungs\n",
        "# processing = Preprocessing(Root_path=\"/content/drive/MyDrive/TeamInternship/20241221_074106\",\n",
        "#                          Output_path=\"/content/Output\")\n",
        "# dcm_collected_data = processing.get_slice_and_coordnates_Paths()\n",
        "\n",
        "# processing.preprocess_Data(dcm_collected_data,\n",
        "#                            plot=False,\n",
        "#                            save=True,\n",
        "#                            segment=False)\n",
        "\n",
        "# 5. Initialize the sitk class - ImageSeriesReader - to create suitable objects for lung's slices and labels\n",
        "sample_path:str = '/content/Output/LIDC-IDRI-0000/LungLIDC-IDRI-0000_1-0053.dcm'\n",
        "dicom_files = pydicom.dcmread(sample_path)\n",
        "img_context = dicom_files.pixel_array\n",
        "print(\"Image size:\",img_context.shape,f\"\\nImage type {type(img_context)}\")\n",
        "\n",
        "resized_image = cv2.resize(img_context, (224,224)) # 5.1. Resizing the image\n",
        "normalized_image  = resized_image.astype(np.float32) # 5.2. Normalization\n",
        "normalized_image = (normalized_image - normalized_image.min()) / (normalized_image.max() - normalized_image.min() + 1e-5)\n",
        "channeled_image = np.expand_dims(normalized_image,-1) # 5.3. Adding one more channel - binary\n",
        "\n",
        "print(\"Image size:\",channeled_image.shape,f\"\\nImage type {type(channeled_image)},\\n Normalized: {channeled_image.max(), channeled_image.min()}\")\n",
        "\n",
        "fig = plt.figure(figsize=(10,6))\n",
        "plt.imshow(resized_image)\n",
        "plt.xticks(np.arange(-0.5, normalized_image.shape[0]+1, 10), labels=np.arange(0, normalized_image.shape[0]+1, 10))\n",
        "plt.yticks(np.arange(-0.5, normalized_image.shape[1]+1, 10), labels=np.arange(0, normalized_image.shape[1]+1, 10))\n",
        "plt.clim([0,1])\n",
        "cbar_ax = fig.add_axes([0.95, .11, 0.05, 0.77])\n",
        "plt.clim([0, 1])\n",
        "plt.colorbar(cax=cbar_ax)\n",
        "plt.show()\n",
        "\n",
        "# 6. Craft a dictionary that can encompass both, the image itself and associated label: {'img': numpy.ndarray, 'label': ...}\n",
        "import json\n",
        "json_path:str = \"/content/Output/LIDC-IDRI-0000/segmentation_00000.json\"\n",
        "with open(json_path, 'r') as f:\n",
        "  json_annotation = json.load(f)\n",
        "\n",
        "label = json_annotation['characteristics'][0]['nodule_name']\n",
        "prepared_sample = {'img':channeled_image,'label':label}\n",
        "\n",
        "print(prepared_sample)"
      ],
      "metadata": {
        "colab": {
          "base_uri": "https://localhost:8080/",
          "height": 1000
        },
        "id": "ePYNVtsi5frz",
        "outputId": "f1f77a07-5c70-45eb-acdf-05656adffc03"
      },
      "execution_count": 73,
      "outputs": [
        {
          "output_type": "stream",
          "name": "stdout",
          "text": [
            "Image size: (512, 512) \n",
            "Image type <class 'numpy.ndarray'>\n",
            "Image size: (224, 224, 1) \n",
            "Image type <class 'numpy.ndarray'>,\n",
            " Normalized: (np.float32(1.0), np.float32(0.0))\n"
          ]
        },
        {
          "output_type": "display_data",
          "data": {
            "text/plain": [
              "<Figure size 1000x600 with 2 Axes>"
            ],
            "image/png": "[encoded data removed]"
          },
          "metadata": {}
        },
        {
          "output_type": "stream",
          "name": "stdout",
          "text": [
            "{'img': array([[[0.],\n",
            "        [0.],\n",
            "        [0.],\n",
            "        ...,\n",
            "        [0.],\n",
            "        [0.],\n",
            "        [0.]],\n",
            "\n",
            "       [[0.],\n",
            "        [0.],\n",
            "        [0.],\n",
            "        ...,\n",
            "        [0.],\n",
            "        [0.],\n",
            "        [0.]],\n",
            "\n",
            "       [[0.],\n",
            "        [0.],\n",
            "        [0.],\n",
            "        ...,\n",
            "        [0.],\n",
            "        [0.],\n",
            "        [0.]],\n",
            "\n",
            "       ...,\n",
            "\n",
            "       [[0.],\n",
            "        [0.],\n",
            "        [0.],\n",
            "        ...,\n",
            "        [0.],\n",
            "        [0.],\n",
            "        [0.]],\n",
            "\n",
            "       [[0.],\n",
            "        [0.],\n",
            "        [0.],\n",
            "        ...,\n",
            "        [0.],\n",
            "        [0.],\n",
            "        [0.]],\n",
            "\n",
            "       [[0.],\n",
            "        [0.],\n",
            "        [0.],\n",
            "        ...,\n",
            "        [0.],\n",
            "        [0.],\n",
            "        [0.]]], dtype=float32), 'label': 'Small Cell Lung Cancer (SCLC)'}\n"
          ]
        }
      ]
    },
    {
      "cell_type": "markdown",
      "source": [
        "## ViT Initialization"
      ],
      "metadata": {
        "id": "Axkb92f2SnAE"
      }
    },
    {
      "cell_type": "code",
      "source": [
        "# 0. Pre-configurations necessary to conveniently `normalize` (e.g. resize) the image to be suitable for a transformer\n",
        "from transformers import ViTFeatureExtractor\n",
        "model_name = 'google/vit-base-patch16-224-in21k' # import model\n",
        "feature_extractor = ViTFeatureExtractor.from_pretrained(model_name)\n",
        "\n",
        "feature_extractor"
      ],
      "metadata": {
        "id": "-gP5lbk1S1T0",
        "colab": {
          "base_uri": "https://localhost:8080/"
        },
        "outputId": "c48c7a3a-7d37-4e28-935a-ee86af5ba9aa"
      },
      "execution_count": 41,
      "outputs": [
        {
          "output_type": "stream",
          "name": "stderr",
          "text": [
            "/usr/local/lib/python3.11/dist-packages/transformers/models/vit/feature_extraction_vit.py:28: FutureWarning: The class ViTFeatureExtractor is deprecated and will be removed in version 5 of Transformers. Please use ViTImageProcessor instead.\n",
            "  warnings.warn(\n"
          ]
        },
        {
          "output_type": "execute_result",
          "data": {
            "text/plain": [
              "ViTFeatureExtractor {\n",
              "  \"do_convert_rgb\": null,\n",
              "  \"do_normalize\": true,\n",
              "  \"do_rescale\": true,\n",
              "  \"do_resize\": true,\n",
              "  \"image_mean\": [\n",
              "    0.5,\n",
              "    0.5,\n",
              "    0.5\n",
              "  ],\n",
              "  \"image_processor_type\": \"ViTFeatureExtractor\",\n",
              "  \"image_std\": [\n",
              "    0.5,\n",
              "    0.5,\n",
              "    0.5\n",
              "  ],\n",
              "  \"resample\": 2,\n",
              "  \"rescale_factor\": 0.00392156862745098,\n",
              "  \"size\": {\n",
              "    \"height\": 224,\n",
              "    \"width\": 224\n",
              "  }\n",
              "}"
            ]
          },
          "metadata": {},
          "execution_count": 41
        }
      ]
    },
    {
      "cell_type": "code",
      "source": [
        "\n",
        "# example = feature_extractor(prepared_sample['img'], return_tensor='pt')\n",
        "# example\n",
        "# ---> This caused an error as only one channel is used which is not supported by feature_extractor\n",
        "\n",
        "\n",
        "# 0. Transform the image into a tensor\n",
        "\n",
        "# 1. Transform an image into patches;\n",
        "P = 32 # Pixel-Size for each patch\n",
        "N = int((prepared_sample['img'].shape[0]*prepared_sample['img'].shape[1])/(P**2))\n",
        "print('There will be', N, 'patches, each', P, 'by', str(P)+'.')\n",
        "print('\\n')\n",
        "\n",
        "fig = plt.figure(figsize=(13,6))\n",
        "plt.imshow(prepared_sample['img'])\n",
        "plt.hlines(np.arange(P, prepared_sample['img'].shape[0], P)-0.5, -0.5, prepared_sample['img'].shape[1]-0.5, color='w')\n",
        "plt.vlines(np.arange(P, prepared_sample['img'].shape[1], P)-0.5, -0.5, prepared_sample['img'].shape[0]-0.5, color='w')\n",
        "plt.xticks(np.arange(-0.5, prepared_sample['img'].shape[1]+1, 10), labels=np.arange(0, prepared_sample['img'].shape[1]+1, 10))\n",
        "plt.yticks(np.arange(-0.5, prepared_sample['img'].shape[0]+1, 10), labels=np.arange(0, prepared_sample['img'].shape[0]+1, 10))\n",
        "x_text = np.tile(np.arange(9.5, prepared_sample['img'].shape[1], P), 3)\n",
        "y_text = np.repeat(np.arange(9.5, prepared_sample['img'].shape[0], P), 5)\n",
        "for i in range(1, N+1):\n",
        "    plt.text(x_text[i-1], y_text[i-1], str(i), color='w', fontsize='xx-large', ha='center')\n",
        "plt.text(x_text[2], y_text[2], str(3), color='k', fontsize='xx-large', ha='center');"
      ],
      "metadata": {
        "colab": {
          "base_uri": "https://localhost:8080/",
          "height": 756
        },
        "id": "F7Xk_ZzAutuA",
        "outputId": "8b9d87bc-acc1-4996-88c4-a6b995554955"
      },
      "execution_count": 99,
      "outputs": [
        {
          "output_type": "stream",
          "name": "stdout",
          "text": [
            "There will be 49 patches, each 32 by 32.\n",
            "\n",
            "\n"
          ]
        },
        {
          "output_type": "error",
          "ename": "IndexError",
          "evalue": "index 21 is out of bounds for axis 0 with size 21",
          "traceback": [
            "\u001b[0;31m---------------------------------------------------------------------------\u001b[0m",
            "\u001b[0;31mIndexError\u001b[0m                                Traceback (most recent call last)",
            "\u001b[0;32m<ipython-input-99-c0209c0e6c77>\u001b[0m in \u001b[0;36m<cell line: 0>\u001b[0;34m()\u001b[0m\n\u001b[1;32m     21\u001b[0m \u001b[0my_text\u001b[0m \u001b[0;34m=\u001b[0m \u001b[0mnp\u001b[0m\u001b[0;34m.\u001b[0m\u001b[0mrepeat\u001b[0m\u001b[0;34m(\u001b[0m\u001b[0mnp\u001b[0m\u001b[0;34m.\u001b[0m\u001b[0marange\u001b[0m\u001b[0;34m(\u001b[0m\u001b[0;36m9.5\u001b[0m\u001b[0;34m,\u001b[0m \u001b[0mprepared_sample\u001b[0m\u001b[0;34m[\u001b[0m\u001b[0;34m'img'\u001b[0m\u001b[0;34m]\u001b[0m\u001b[0;34m.\u001b[0m\u001b[0mshape\u001b[0m\u001b[0;34m[\u001b[0m\u001b[0;36m0\u001b[0m\u001b[0;34m]\u001b[0m\u001b[0;34m,\u001b[0m \u001b[0mP\u001b[0m\u001b[0;34m)\u001b[0m\u001b[0;34m,\u001b[0m \u001b[0;36m5\u001b[0m\u001b[0;34m)\u001b[0m\u001b[0;34m\u001b[0m\u001b[0;34m\u001b[0m\u001b[0m\n\u001b[1;32m     22\u001b[0m \u001b[0;32mfor\u001b[0m \u001b[0mi\u001b[0m \u001b[0;32min\u001b[0m \u001b[0mrange\u001b[0m\u001b[0;34m(\u001b[0m\u001b[0;36m1\u001b[0m\u001b[0;34m,\u001b[0m \u001b[0mN\u001b[0m\u001b[0;34m+\u001b[0m\u001b[0;36m1\u001b[0m\u001b[0;34m)\u001b[0m\u001b[0;34m:\u001b[0m\u001b[0;34m\u001b[0m\u001b[0;34m\u001b[0m\u001b[0m\n\u001b[0;32m---> 23\u001b[0;31m     \u001b[0mplt\u001b[0m\u001b[0;34m.\u001b[0m\u001b[0mtext\u001b[0m\u001b[0;34m(\u001b[0m\u001b[0mx_text\u001b[0m\u001b[0;34m[\u001b[0m\u001b[0mi\u001b[0m\u001b[0;34m-\u001b[0m\u001b[0;36m1\u001b[0m\u001b[0;34m]\u001b[0m\u001b[0;34m,\u001b[0m \u001b[0my_text\u001b[0m\u001b[0;34m[\u001b[0m\u001b[0mi\u001b[0m\u001b[0;34m-\u001b[0m\u001b[0;36m1\u001b[0m\u001b[0;34m]\u001b[0m\u001b[0;34m,\u001b[0m \u001b[0mstr\u001b[0m\u001b[0;34m(\u001b[0m\u001b[0mi\u001b[0m\u001b[0;34m)\u001b[0m\u001b[0;34m,\u001b[0m \u001b[0mcolor\u001b[0m\u001b[0;34m=\u001b[0m\u001b[0;34m'w'\u001b[0m\u001b[0;34m,\u001b[0m \u001b[0mfontsize\u001b[0m\u001b[0;34m=\u001b[0m\u001b[0;34m'xx-large'\u001b[0m\u001b[0;34m,\u001b[0m \u001b[0mha\u001b[0m\u001b[0;34m=\u001b[0m\u001b[0;34m'center'\u001b[0m\u001b[0;34m)\u001b[0m\u001b[0;34m\u001b[0m\u001b[0;34m\u001b[0m\u001b[0m\n\u001b[0m\u001b[1;32m     24\u001b[0m \u001b[0mplt\u001b[0m\u001b[0;34m.\u001b[0m\u001b[0mtext\u001b[0m\u001b[0;34m(\u001b[0m\u001b[0mx_text\u001b[0m\u001b[0;34m[\u001b[0m\u001b[0;36m2\u001b[0m\u001b[0;34m]\u001b[0m\u001b[0;34m,\u001b[0m \u001b[0my_text\u001b[0m\u001b[0;34m[\u001b[0m\u001b[0;36m2\u001b[0m\u001b[0;34m]\u001b[0m\u001b[0;34m,\u001b[0m \u001b[0mstr\u001b[0m\u001b[0;34m(\u001b[0m\u001b[0;36m3\u001b[0m\u001b[0;34m)\u001b[0m\u001b[0;34m,\u001b[0m \u001b[0mcolor\u001b[0m\u001b[0;34m=\u001b[0m\u001b[0;34m'k'\u001b[0m\u001b[0;34m,\u001b[0m \u001b[0mfontsize\u001b[0m\u001b[0;34m=\u001b[0m\u001b[0;34m'xx-large'\u001b[0m\u001b[0;34m,\u001b[0m \u001b[0mha\u001b[0m\u001b[0;34m=\u001b[0m\u001b[0;34m'center'\u001b[0m\u001b[0;34m)\u001b[0m\u001b[0;34m;\u001b[0m\u001b[0;34m\u001b[0m\u001b[0;34m\u001b[0m\u001b[0m\n",
            "\u001b[0;31mIndexError\u001b[0m: index 21 is out of bounds for axis 0 with size 21"
          ]
        },
        {
          "output_type": "display_data",
          "data": {
            "text/plain": [
              "<Figure size 1300x600 with 1 Axes>"
            ],
            "image/png": "[encoded data removed]"
          },
          "metadata": {}
        }
      ]
    },
    {
      "cell_type": "code",
      "source": [
        "class Patch_Tokenization(nn.Module):\n",
        "  def __init__(self,\n",
        "               img_size: tuple[int, int, int]=(1,1,224,224),\n",
        "               patch_size:int = 50,\n",
        "               token_len: int = 2500):\n",
        "\n",
        "    \"\"\"\n",
        "      Patch Tokenization Module\n",
        "            Args:\n",
        "                img_size (tuple[int, int, int]): size of input (channels, height, width)\n",
        "                patch_size (int): the side length of a square patch\n",
        "                token_len (int): desired length of an output token\n",
        "    \"\"\"\n",
        "    super().__init__()\n",
        "\n",
        "    ## Defining Parameters\n",
        "    self.img_size = img_size\n",
        "    C, H, W = self.img_size\n",
        "    self.patch_size = patch_size\n",
        "    self.token_len = token_len\n",
        "\n",
        "    # Testing the distribution to be evenly spaced\n",
        "    assert H % self.patch_size == 0, 'Height of image must be evenly divisible by patch size.'\n",
        "    assert W % self.patch_size == 0, 'Width of image must be evenly divisible by patch size.'\n",
        "\n",
        "    ## Definining Layers\n",
        "    self.split = nn.Unfold(kernel_size=self.patch_size,\n",
        "                           stride=self.patch_size,\n",
        "                           padding=0)\n",
        "    self.project = nn.Linear((self.patch_size**2)*C, token_len)\n",
        "\n",
        "    def forward(self,x):\n",
        "      x = self.split(x).transpose(1,0)\n",
        "      x = self.project(x)\n",
        "\n",
        "      return x\n",
        "\n",
        "### Example ###\n",
        "x = torch.tensor(prepared_sample['img']).permute(2,0,1).unsqueeze(0).float()\n",
        "token_len = 2500\n",
        "print('Input dimensions are\\n\\tbatchsize:', x.shape[0], '\\n\\tnumber of input channels:', x.shape[1], '\\n\\timage size:', (x.shape[2], x.shape[3]))\n",
        "\n",
        "### Trying to tokenize ###\n",
        "patch_tokens = Patch_Tokenization(img_size=(x.shape[1], x.shape[2], x.shape[3]),\n",
        "                                    patch_size = P,\n",
        "                                    token_len = token_len)\n",
        "\n",
        "### Displaying new-array dimensions after tokenization ###\n",
        "x = patch_tokens.split(x).transpose(2,1)\n",
        "print('After patch tokenization, dimensions are\\n\\tbatchsize:', x.shape[0], '\\n\\tnumber of tokens:', x.shape[1], '\\n\\ttoken length:', x.shape[2])"
      ],
      "metadata": {
        "colab": {
          "base_uri": "https://localhost:8080/"
        },
        "id": "s9SQpHXCYWpP",
        "outputId": "29bcc21e-3be7-4867-c1a2-9bf5550eb6ac"
      },
      "execution_count": 101,
      "outputs": [
        {
          "output_type": "stream",
          "name": "stdout",
          "text": [
            "Input dimensions are\n",
            "\tbatchsize: 1 \n",
            "\tnumber of input channels: 1 \n",
            "\timage size: (224, 224)\n",
            "After patch tokenization, dimensions are\n",
            "\tbatchsize: 1 \n",
            "\tnumber of tokens: 49 \n",
            "\ttoken length: 1024\n"
          ]
        }
      ]
    },
    {
      "cell_type": "code",
      "source": [
        "# 2. Linear Projection Layer - mapping arrays to vectors to match  the correct dimensionality;\n",
        "\n",
        "# 3. Learnable embedding/Classifier token;\n",
        "\n",
        "# 4. Poition paddings - tracking the position of input mechanism is yet to be established before this step;"
      ],
      "metadata": {
        "id": "G3KSXYa1QPYI"
      },
      "execution_count": 89,
      "outputs": []
    },
    {
      "cell_type": "markdown",
      "source": [],
      "metadata": {
        "id": "otmVvs95S1pv"
      }
    },
    {
      "cell_type": "markdown",
      "source": [
        "# Fusion Model"
      ],
      "metadata": {
        "id": "8HaB8B84Yo7j"
      }
    },
    {
      "cell_type": "markdown",
      "source": [
        "## Context Branch"
      ],
      "metadata": {
        "id": "gk1152VTYsrL"
      }
    },
    {
      "cell_type": "code",
      "source": [
        "class ContextBranch(nn.Module):\n",
        "    def __init__(self):\n",
        "        super().__init__() # Constructor to initialize the `upper` constructor/pervious constructor? Why?\n",
        "        self.conv = nn.Sequential(\n",
        "            nn.Conv3d(1, 16, kernel_size=3, padding=1),\n",
        "            nn.BatchNorm3d(16),\n",
        "            nn.ReLU(),\n",
        "            nn.MaxPool3d(2),  # (7,256,256) → (3,128,128)\n",
        "\n",
        "            nn.Conv3d(16, 32, kernel_size=3, padding=1),\n",
        "            nn.BatchNorm3d(32),\n",
        "            nn.ReLU(),\n",
        "            nn.AdaptiveAvgPool3d((1, 1, 1))  # output: [B, 32, 1, 1, 1]\n",
        "        )\n",
        "\n",
        "    def forward(self, x):\n",
        "        x = self.conv(x)\n",
        "        return x.view(x.size(0), -1)  # [B, 32]"
      ],
      "metadata": {
        "id": "nJlr8m0zYrN6"
      },
      "execution_count": null,
      "outputs": []
    },
    {
      "cell_type": "markdown",
      "source": [
        "## Radiomics Branch"
      ],
      "metadata": {
        "id": "i4x0CYiUYxmB"
      }
    },
    {
      "cell_type": "code",
      "source": [
        "class RadiomicsBranch(nn.Module):\n",
        "    def __init__(self, input_dim):\n",
        "        super().__init__()\n",
        "        self.fc = nn.Sequential(\n",
        "            nn.Linear(input_dim, 64),\n",
        "            nn.ReLU(),\n",
        "            nn.Linear(64, 32)\n",
        "        )\n",
        "\n",
        "    def forward(self, x):\n",
        "        return self.fc(x)"
      ],
      "metadata": {
        "id": "h9UGLYtZYzba"
      },
      "execution_count": null,
      "outputs": []
    },
    {
      "cell_type": "markdown",
      "source": [
        "## Local Branch"
      ],
      "metadata": {
        "id": "vX1QCJ1WY05i"
      }
    },
    {
      "cell_type": "code",
      "source": [
        "class LocalBranch(nn.Module):\n",
        "    def __init__(self):\n",
        "        super().__init__()\n",
        "        self.conv = nn.Sequential(\n",
        "            nn.Conv3d(1, 16, kernel_size=3, padding=1),\n",
        "            nn.BatchNorm3d(16),\n",
        "            nn.ReLU(),\n",
        "            nn.MaxPool3d(2),  # (5,64,64) → (2,32,32)\n",
        "\n",
        "            nn.Conv3d(16, 32, kernel_size=3, padding=1),\n",
        "            nn.BatchNorm3d(32),\n",
        "            nn.ReLU(),\n",
        "            nn.AdaptiveAvgPool3d((1, 1, 1))  # output: [B, 32, 1, 1, 1]\n",
        "        )\n",
        "\n",
        "    def forward(self, x):\n",
        "        x = self.conv(x)\n",
        "        return x.view(x.size(0), -1)  # flatten to [B, 32]"
      ],
      "metadata": {
        "id": "Qt_Mq4TrY26T"
      },
      "execution_count": null,
      "outputs": []
    },
    {
      "cell_type": "markdown",
      "source": [
        "# Model Header"
      ],
      "metadata": {
        "id": "jafQSVIMfP18"
      }
    },
    {
      "cell_type": "code",
      "source": [
        "class TripleFusionModel(nn.Module):\n",
        "    def __init__(self, num_classes, radiomics_dim=25):\n",
        "        self.local_branch = LocalBranch()\n",
        "        self.context_branch = ContextBranch()\n",
        "        self.radiomics_branch = RadiomicsBranch(radiomics_dim)\n",
        "\n",
        "        self.classifier = nn.Sequential(\n",
        "            nn.Linear(32 + 32 + 32, 64),  # fuse outputs\n",
        "            nn.ReLU(),\n",
        "            nn.Dropout(0.3),\n",
        "            nn.Linear(64, num_classes)\n",
        "        )\n",
        "\n",
        "    def forward(self, volume_local, volume_context, radiomics):\n",
        "        local_feat = self.local_branch(volume_local)\n",
        "        context_feat = self.context_branch(volume_context)\n",
        "        radio_feat = self.radiomics_branch(radiomics)\n",
        "\n",
        "        fused = torch.cat([local_feat, context_feat, radio_feat], dim=1)\n",
        "        out = self.classifier(fused)\n",
        "        return out"
      ],
      "metadata": {
        "id": "yro6emuPfRws"
      },
      "execution_count": null,
      "outputs": []
    },
    {
      "cell_type": "markdown",
      "source": [
        "# Model Selection"
      ],
      "metadata": {
        "id": "FOTBsvhVZ5ZS"
      }
    },
    {
      "cell_type": "markdown",
      "source": [
        "## Particle Swarm Optimization (PSO) - Hyperparameter Optimization Initialization & Explanation\n",
        "\n",
        "In Particle Swarm Optimization (PSO), **particles** represent candidate solutions—for example, a randomly initialized set of hyperparameters for a machine learning model.\n",
        "\n",
        "- Each particle moves within a **D-dimensional bounded continuous search space**.\n",
        "- Particles collaborate to discover the optimal solution (i.e., the hyperparameter combination that minimizes a loss function).\n",
        "\n",
        "Each particle \\( i \\) is defined by three key vectors at each iteration \\( t \\):\n",
        "\n",
        "- **Position**: $\\mathbf{x}_i(t) \\in \\mathbb{R}^D $ — current location of particle \\( i \\)\n",
        "- **Velocity**: $mathbf{v}_i(t) \\in \\mathbb{R}^D $ — the movement direction and speed of particle \\( i \\)\n",
        "- **Best Position**: $ \\mathbf{b}_i(t) \\in \\mathbb{R}^D $— the best position found so far by particle \\( i \\) based on the fitness (e.g., validation loss)\n",
        "\n",
        "### Position Update Rule\n",
        "\n",
        "The new position is computed by adding the current velocity to the current position:\n",
        "\n",
        "\\[\n",
        "$\\mathbf{x}_i(t + 1) = \\mathbf{x}_i(t) + \\mathbf{v}_i(t)$\n",
        "\\]\n",
        "\n",
        "### Velocity Update Rule (Conceptual Overview)\n",
        "\n",
        "The velocity is influenced by:\n",
        "- **Cognitive component**: Particle's own best-known position\n",
        "- **Social component**: Best-known position among all particles (global best)\n",
        "\n",
        "The combination of these two attractions causes particles to explore and exploit the search space, ideally converging on an optimal or near-optimal solution over iterations.\n"
      ],
      "metadata": {
        "id": "WVVbnrHNkmYS"
      }
    },
    {
      "cell_type": "code",
      "source": [
        "import random as rd\n",
        "\n",
        "best_position_container:list = [] # Keeps track of best position g(t) visited by any particple up to itteration t\n",
        "\n",
        "# 1. Random initialization of particles/subsets of variants for hyperparameters (e.g., Learning Rate;\tOptimizer; Loss Functios)\n",
        "up_lr:float = 0.1 # Upper range of learning rate - initially\n",
        "low_lr:float = 0.01 # Lower range of learning rate\n",
        "\n",
        "optimizers:list = [ # Available optimizers in torch\n",
        "    \"Adadelta\",\n",
        "    \"Adafactor\",\n",
        "    \"Adagrad\",\n",
        "    \"Adam\",\n",
        "    \"AdamW\",\n",
        "    \"SparseAdam\",\n",
        "    \"Adamax\",\n",
        "    \"ASGD\",\n",
        "    \"LBFGS\",\n",
        "    \"NAdam\",\n",
        "    \"RAdam\",\n",
        "    \"RMSprop\",\n",
        "    \"Rprop\",\n",
        "    \"SGD\"\n",
        "]\n",
        "\n",
        "loss_functions:list = [\n",
        "    \"L1Loss\",\n",
        "    \"MSELoss\",\n",
        "    \"CrossEntropyLoss\",\n",
        "    \"CTCLoss\",\n",
        "    \"NLLLoss\",\n",
        "    \"PoissonNLLLoss\",\n",
        "    \"GaussianNLLLoss\",\n",
        "    \"KLDivLoss\",\n",
        "    \"BCELoss\",\n",
        "    \"BCEWithLogitsLoss\",\n",
        "    \"MarginRankingLoss\",\n",
        "    \"HingeEmbeddingLoss\",\n",
        "    \"MultiLabelMarginLoss\",\n",
        "    \"HuberLoss\",\n",
        "    \"SmoothL1Loss\",\n",
        "    \"SoftMarginLoss\",\n",
        "    \"MultiLabelSoftMarginLoss\",\n",
        "    \"CosineEmbeddingLoss\",\n",
        "    \"MultiMarginLoss\",\n",
        "    \"TripletMarginLoss\",\n",
        "    \"TripletMarginWithDistanceLoss\"\n",
        "]\n",
        "\n",
        "\n",
        "hyperparameters_grid:dict = {\n",
        "    'Learning_rate': [0.1, 0.01, 0.005, 0.0010, 0.00020], # rd.uniform(low_lr, up_lr),\n",
        "    'Optimizer': optimizers, # optimizers[rd.randint(0, len(optimizers)-1)],\n",
        "    'Loss Function': loss_functions # loss_functions[rd.randint(0, len(loss_functions)-1)]\n",
        "}"
      ],
      "metadata": {
        "id": "mhdRw6EhmS-O"
      },
      "execution_count": null,
      "outputs": []
    },
    {
      "cell_type": "markdown",
      "source": [
        "### Particle initialization/estimator - Method"
      ],
      "metadata": {
        "id": "VKXUMi_U3AKY"
      }
    },
    {
      "cell_type": "code",
      "source": [
        "def _init_Populaton():\n",
        "\n",
        "  hyperparameters_grid:dict = {\n",
        "    'Learning_rate': [0.1, 0.01, 0.005, 0.0010, 0.00020],\n",
        "    'Optimizer': optimizers,\n",
        "    'Loss Function': loss_functions\n",
        "}\n",
        "  return hyperparameters_grid\n",
        "\n",
        "# Usage example - Initialize a population of 10 particles/individuals:\n",
        "# for x in range(10):\n",
        "#     particle = init_Populaton()\n",
        "#     print(particle)"
      ],
      "metadata": {
        "id": "yDEMu8GIuUiM"
      },
      "execution_count": null,
      "outputs": []
    },
    {
      "cell_type": "markdown",
      "source": [
        "### Evaluate fitness - Method"
      ],
      "metadata": {
        "id": "J4fWaZfn-QRN"
      }
    },
    {
      "cell_type": "code",
      "source": [
        "def evaluate_fitness(self,\n",
        "                     X_train,\n",
        "                     X_test,\n",
        "                     y_train,\n",
        "                     y_test,\n",
        "                     hyperparameters):\n",
        "        \"\"\"\n",
        "        Evaluate the fitness of a set of hyperparameters.\n",
        "\n",
        "        Parameters:\n",
        "            - estimator: The estimator object.\n",
        "            - X_train: Training features.\n",
        "            - X_test: Testing features.\n",
        "            - y_train: Training labels.\n",
        "            - y_test: Testing labels.\n",
        "            - hyperparameters: The set of hyperparameters to evaluate.\n",
        "\n",
        "        Returns:\n",
        "            - score: The accuracy score of the estimator with the given hyperparameters.\n",
        "        \"\"\"\n",
        "        # Unpack hyperparameters\n",
        "        estimator_instance = self._create_estimator(hyperparameters)\n",
        "\n",
        "        estimator_instance.fit(X_train, y_train)\n",
        "        y_pred = estimator_instance.predict(X_test)\n",
        "        accuracy_pso = accuracy_score(y_test, y_pred)\n",
        "        return accuracy_pso"
      ],
      "metadata": {
        "id": "b5hYBod5-TuU"
      },
      "execution_count": null,
      "outputs": []
    },
    {
      "cell_type": "markdown",
      "source": [
        "### Create the searching space - Method"
      ],
      "metadata": {
        "id": "eRSDlZPc3CTQ"
      }
    },
    {
      "cell_type": "code",
      "source": [
        "def pso_hyperparameter_optimization(self,\n",
        "                                    X_train,\n",
        "                                    X_test,\n",
        "                                    y_train,\n",
        "                                    y_test,\n",
        "                                    num_particles,\n",
        "                                    num_iterations,\n",
        "                                    c1 = 2.05,\n",
        "                                    c2 = 2.05,\n",
        "                                    num_jobs=-1,\n",
        "                                    w=0.72984):\n",
        "        \"\"\"\n",
        "        Perform hyperparameter optimization using Particle Swarm Optimization (PSO).\n",
        "\n",
        "        Parameters:\n",
        "            - estimator: The estimator object (e.g., KNeighborsClassifier, ViT).\n",
        "            - data: The dataset.\n",
        "            - target_column_index: Index of the target column in the dataset.\n",
        "            - num_particles: Number of particles in the population.\n",
        "            - num_iterations: Number of iterations for the PSO algorithm.\n",
        "            - c1: Acceleration constant. Default value is c1 = 2.05\n",
        "            - c2: Acceleration constant. Default value is c2 = 2.05\n",
        "            - num_jobs: Number of parallel jobs for fitness evaluation.\n",
        "            - inertia weight: Inertia constant. Default value is w=0.72984 according to the paper by M. Clerc and J. Kennedy\n",
        "\n",
        "        Returns:\n",
        "            - global_best_position: The best set of hyperparameters found.\n",
        "            - global_best_fitness: The best accuracy found.\n",
        "        \"\"\"\n",
        "        if self.random_seed is not None:\n",
        "            np.random.seed(self.random_seed)\n",
        "\n",
        "        # 1. Initialize the population of particles\n",
        "        hyperparameter_space = self._init_Populaton()\n",
        "        progress_bar = tqdm(total=num_iterations, desc=\"PSO Progress\")\n",
        "        population:list = [] # Container 1: Population\n",
        "\n",
        "        for _ in range(self.num_particles):\n",
        "            hyperparameters = [np.random.choice(hyperparameter_space[param]) for param in hyperparameter_space]\n",
        "            population.append(hyperparameters)\n",
        "\n",
        "\n",
        "        # 2. Initialize velocity and best position\n",
        "        velocity = [[0] * len(hyperparameter_space) for _ in range(num_particles)] # Container 2: Velocity, of each hyperparameter-set stays zero at initialization phase\n",
        "        best_position = population.copy() # Container 3: Best position do not differ from population\n",
        "        global_best_fitness = -float(\"inf\") # Conainer 4: Best positions are all the same across individuals hence fitness stays constant\n",
        "        global_best_position = [] # Container 5: Best position a given individual has ever reached\n",
        "\n",
        "\n",
        "\n",
        "\n",
        "        # PSO optimization loop\n",
        "        for _ in range(num_iterations):\n",
        "            fitness = Parallel(n_jobs=num_jobs)(\n",
        "                delayed(self.evaluate_fitness)(X_train, X_test, y_train, y_test, particle)\n",
        "                for particle in population\n",
        "            )\n",
        "\n",
        "\n",
        "\n"
      ],
      "metadata": {
        "id": "hrsR8TYB3K9Z"
      },
      "execution_count": null,
      "outputs": []
    },
    {
      "cell_type": "markdown",
      "source": [
        "# Dependencies"
      ],
      "metadata": {
        "id": "Qw6m0Dh0Y-AD"
      }
    },
    {
      "cell_type": "code",
      "source": [
        "import torch\n",
        "import torch.nn as nn\n",
        "import torch.nn.functional as F\n",
        "import random\n",
        "import numpy as np\n",
        "from tqdm import tqdm\n",
        "from joblib import Parallel, delayed\n",
        "from sklearn.metrics import accuracy_score, classification_report, precision_score\n",
        "import pandas as pd\n",
        "import ast\n",
        "from sklearn.preprocessing import LabelEncoder\n",
        "import SimpleITK as sitk\n",
        "import time as t\n",
        "import numpy as np\n",
        "import matplotlib.pyplot as plt\n",
        "import json, glob, re, os, pydicom\n",
        "from skimage.draw import polygon\n",
        "from skimage.filters import threshold_otsu\n",
        "from skimage.morphology import disk\n",
        "from scipy.ndimage import binary_fill_holes,label,binary_dilation,binary_erosion, binary_closing\n",
        "from ipywidgets import interact\n",
        "import cv2\n",
        "import shutil\n",
        "\n",
        "# !pip install pydicom\n",
        "# !pip install SimpleITK"
      ],
      "metadata": {
        "id": "Fq7ibJy5Y_cS"
      },
      "execution_count": 92,
      "outputs": []
    },
    {
      "cell_type": "code",
      "source": [],
      "metadata": {
        "id": "0SntrN7EvB0B"
      },
      "execution_count": null,
      "outputs": []
    }
  ]
}