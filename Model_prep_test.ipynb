{
 "cells": [
  {
   "cell_type": "code",
   "execution_count": 1,
   "id": "f9666184",
   "metadata": {},
   "outputs": [],
   "source": [
    "from Model_data_preparation import ModelDataInput,NoduleData"
   ]
  },
  {
   "cell_type": "code",
   "execution_count": 6,
   "id": "c4457ea0",
   "metadata": {},
   "outputs": [],
   "source": [
    "base_root = \"C:/Users/Aidan/Tue/5ARIP10/Demcon_Data\"\n",
    "folders = {\n",
    "    \"20241221_074106/20241221_074106/LIDC-IDRI\",\n",
    "    \"20241223_164057/20241223_164057/LIDC-IDRI\",\n",
    "    \"20250104_064120/20250104_064120/LIDC-IDRI\",\n",
    "    \"20250105_082554/20250105_082554/LIDC-IDRI\"\n",
    "}"
   ]
  },
  {
   "cell_type": "code",
   "execution_count": 7,
   "id": "551c773e",
   "metadata": {},
   "outputs": [
    {
     "name": "stdout",
     "output_type": "stream",
     "text": [
      "Processing: C:/Users/Aidan/Tue/5ARIP10/Demcon_Data\\20241221_074106/20241221_074106/LIDC-IDRI\n",
      "Processing: C:/Users/Aidan/Tue/5ARIP10/Demcon_Data\\20250104_064120/20250104_064120/LIDC-IDRI\n",
      "Processing: C:/Users/Aidan/Tue/5ARIP10/Demcon_Data\\20241223_164057/20241223_164057/LIDC-IDRI\n",
      "Processing: C:/Users/Aidan/Tue/5ARIP10/Demcon_Data\\20250105_082554/20250105_082554/LIDC-IDRI\n"
     ]
    }
   ],
   "source": [
    "import os\n",
    "import pandas as pd\n",
    "all_dataframes = []\n",
    "\n",
    "for folder in folders:\n",
    "    full_path = os.path.join(base_root, folder)\n",
    "    print(f\"Processing: {full_path}\")\n",
    "    \n",
    "    data = NoduleData(full_path)\n",
    "    data.extract_data()\n",
    "    df = data.to_dataframe()\n",
    "    all_dataframes.append(df)\n",
    "combined_df = pd.concat(all_dataframes, ignore_index=True)"
   ]
  },
  {
   "cell_type": "code",
   "execution_count": 8,
   "id": "a78dde7f",
   "metadata": {},
   "outputs": [
    {
     "data": {
      "text/plain": [
       "1487"
      ]
     },
     "execution_count": 8,
     "metadata": {},
     "output_type": "execute_result"
    }
   ],
   "source": [
    "len(combined_df)"
   ]
  },
  {
   "cell_type": "code",
   "execution_count": 9,
   "id": "a789747e",
   "metadata": {},
   "outputs": [
    {
     "data": {
      "text/html": [
       "<div>\n",
       "<style scoped>\n",
       "    .dataframe tbody tr th:only-of-type {\n",
       "        vertical-align: middle;\n",
       "    }\n",
       "\n",
       "    .dataframe tbody tr th {\n",
       "        vertical-align: top;\n",
       "    }\n",
       "\n",
       "    .dataframe thead th {\n",
       "        text-align: right;\n",
       "    }\n",
       "</style>\n",
       "<table border=\"1\" class=\"dataframe\">\n",
       "  <thead>\n",
       "    <tr style=\"text-align: right;\">\n",
       "      <th></th>\n",
       "      <th>nodule_name</th>\n",
       "      <th>nodule_category</th>\n",
       "      <th>calcification</th>\n",
       "      <th>internal_structure</th>\n",
       "      <th>lobulation</th>\n",
       "      <th>margin</th>\n",
       "      <th>nodule_type</th>\n",
       "      <th>sphericity</th>\n",
       "      <th>texture</th>\n",
       "      <th>global_seed</th>\n",
       "      <th>slice_thickness</th>\n",
       "      <th>slices_present</th>\n",
       "      <th>file_path</th>\n",
       "    </tr>\n",
       "  </thead>\n",
       "  <tbody>\n",
       "    <tr>\n",
       "      <th>0</th>\n",
       "      <td>Small Cell Lung Cancer (SCLC)</td>\n",
       "      <td>Malignant</td>\n",
       "      <td>Absent</td>\n",
       "      <td>Soft Tissue</td>\n",
       "      <td>Nn-Mk</td>\n",
       "      <td>P-Sharp</td>\n",
       "      <td>m4</td>\n",
       "      <td>Lin-Ov</td>\n",
       "      <td>NS-PS</td>\n",
       "      <td>3388.5178</td>\n",
       "      <td>2.00</td>\n",
       "      <td>[53, 54, 55, 56, 57]</td>\n",
       "      <td>C:/Users/Aidan/Tue/5ARIP10/Demcon_Data\\2024122...</td>\n",
       "    </tr>\n",
       "    <tr>\n",
       "      <th>1</th>\n",
       "      <td>Lymphoma</td>\n",
       "      <td>Malignant</td>\n",
       "      <td>Absent</td>\n",
       "      <td>Soft Tissue</td>\n",
       "      <td>N-Marked</td>\n",
       "      <td>Poo-Sh</td>\n",
       "      <td>m7</td>\n",
       "      <td>Ovoid</td>\n",
       "      <td>Part Solid/Mixed</td>\n",
       "      <td>9335.7762</td>\n",
       "      <td>2.00</td>\n",
       "      <td>[70, 71, 72, 73, 74, 75]</td>\n",
       "      <td>C:/Users/Aidan/Tue/5ARIP10/Demcon_Data\\2024122...</td>\n",
       "    </tr>\n",
       "    <tr>\n",
       "      <th>2</th>\n",
       "      <td>Hyperplasia</td>\n",
       "      <td>Unknown</td>\n",
       "      <td>Absent</td>\n",
       "      <td>Soft Tissue</td>\n",
       "      <td>Nn-Mk</td>\n",
       "      <td>Poorly</td>\n",
       "      <td>b6</td>\n",
       "      <td>Linear</td>\n",
       "      <td>NS-PS</td>\n",
       "      <td>9151.7012</td>\n",
       "      <td>2.50</td>\n",
       "      <td>[26, 27, 28]</td>\n",
       "      <td>C:/Users/Aidan/Tue/5ARIP10/Demcon_Data\\2024122...</td>\n",
       "    </tr>\n",
       "    <tr>\n",
       "      <th>3</th>\n",
       "      <td>Carcinoid Tumors</td>\n",
       "      <td>Malignant</td>\n",
       "      <td>Non-Central</td>\n",
       "      <td>Soft Tissue</td>\n",
       "      <td>None</td>\n",
       "      <td>P-Sharp</td>\n",
       "      <td>m5</td>\n",
       "      <td>Ov-Ro</td>\n",
       "      <td>Solid</td>\n",
       "      <td>201.8990</td>\n",
       "      <td>2.50</td>\n",
       "      <td>[51, 52, 53]</td>\n",
       "      <td>C:/Users/Aidan/Tue/5ARIP10/Demcon_Data\\2024122...</td>\n",
       "    </tr>\n",
       "    <tr>\n",
       "      <th>4</th>\n",
       "      <td>Intrapulmonary Lymph Nodes</td>\n",
       "      <td>Benign</td>\n",
       "      <td>Absent</td>\n",
       "      <td>Soft Tissue</td>\n",
       "      <td>None</td>\n",
       "      <td>Sharp</td>\n",
       "      <td>b7</td>\n",
       "      <td>Ovoid</td>\n",
       "      <td>Solid</td>\n",
       "      <td>8747.3172</td>\n",
       "      <td>1.25</td>\n",
       "      <td>[23, 24, 25, 26, 27]</td>\n",
       "      <td>C:/Users/Aidan/Tue/5ARIP10/Demcon_Data\\2024122...</td>\n",
       "    </tr>\n",
       "  </tbody>\n",
       "</table>\n",
       "</div>"
      ],
      "text/plain": [
       "                     nodule_name nodule_category calcification  \\\n",
       "0  Small Cell Lung Cancer (SCLC)       Malignant        Absent   \n",
       "1                       Lymphoma       Malignant        Absent   \n",
       "2                    Hyperplasia         Unknown        Absent   \n",
       "3               Carcinoid Tumors       Malignant   Non-Central   \n",
       "4     Intrapulmonary Lymph Nodes          Benign        Absent   \n",
       "\n",
       "  internal_structure lobulation   margin nodule_type sphericity  \\\n",
       "0        Soft Tissue      Nn-Mk  P-Sharp          m4     Lin-Ov   \n",
       "1        Soft Tissue   N-Marked   Poo-Sh          m7      Ovoid   \n",
       "2        Soft Tissue      Nn-Mk   Poorly          b6     Linear   \n",
       "3        Soft Tissue       None  P-Sharp          m5      Ov-Ro   \n",
       "4        Soft Tissue       None    Sharp          b7      Ovoid   \n",
       "\n",
       "            texture global_seed  slice_thickness            slices_present  \\\n",
       "0             NS-PS   3388.5178             2.00      [53, 54, 55, 56, 57]   \n",
       "1  Part Solid/Mixed   9335.7762             2.00  [70, 71, 72, 73, 74, 75]   \n",
       "2             NS-PS   9151.7012             2.50              [26, 27, 28]   \n",
       "3             Solid    201.8990             2.50              [51, 52, 53]   \n",
       "4             Solid   8747.3172             1.25      [23, 24, 25, 26, 27]   \n",
       "\n",
       "                                           file_path  \n",
       "0  C:/Users/Aidan/Tue/5ARIP10/Demcon_Data\\2024122...  \n",
       "1  C:/Users/Aidan/Tue/5ARIP10/Demcon_Data\\2024122...  \n",
       "2  C:/Users/Aidan/Tue/5ARIP10/Demcon_Data\\2024122...  \n",
       "3  C:/Users/Aidan/Tue/5ARIP10/Demcon_Data\\2024122...  \n",
       "4  C:/Users/Aidan/Tue/5ARIP10/Demcon_Data\\2024122...  "
      ]
     },
     "execution_count": 9,
     "metadata": {},
     "output_type": "execute_result"
    }
   ],
   "source": [
    "combined_df.head()"
   ]
  },
  {
   "cell_type": "code",
   "execution_count": 2,
   "id": "eeb48881",
   "metadata": {},
   "outputs": [],
   "source": [
    "json_path = r\"C:\\Users\\Aidan\\Tue\\5ARIP10\\Demcon_Data\\20241221_074106\\20241221_074106\\LIDC-IDRI\\LIDC-IDRI-0000\\01-01-2000-NA-NA-02587\\3976134.000000-NA-94964\\segmentation_00000.json\"\n",
    "local_path = r\"C:\\Users\\Aidan\\Tue\\5ARIP10\\Segmented\\20241221_074106\\nodules\\LIDC-IDRI-0000\"\n",
    "context_path = r\"C:\\Users\\Aidan\\Tue\\5ARIP10\\Segmented\\20241221_074106\\lungs\\LIDC-IDRI-0000\"\n",
    "\n",
    "\n",
    "# change the 3 paths to the absolute paths on your machine, and change the naming_method to: \"Pipeline\". For NoduleLIDC-IDRI-0010_1-0054.dcm naming pattern\n",
    "local = ModelDataInput(json_path=json_path,scan_path=local_path, local_or_context=\"Local\",naming_method=\"Aidan\")\n",
    "context = ModelDataInput(json_path=json_path,scan_path=context_path, local_or_context=\"Context\",naming_method=\"Aidan\")"
   ]
  },
  {
   "cell_type": "code",
   "execution_count": 3,
   "id": "0e2d5b54",
   "metadata": {},
   "outputs": [],
   "source": [
    "context.get_radiomics()\n",
    "local.get_radiomics()"
   ]
  },
  {
   "cell_type": "code",
   "execution_count": 4,
   "id": "bb4d5cf0",
   "metadata": {},
   "outputs": [
    {
     "data": {
      "text/plain": [
       "array([0.        , 0.        , 0.        , 0.        , 0.        ,\n",
       "       0.        , 0.        , 0.        , 0.        , 0.        ,\n",
       "       0.        , 0.        , 0.        , 0.        , 0.        ,\n",
       "       0.        , 0.        , 0.        , 0.        , 0.        ,\n",
       "       0.        , 0.        , 0.        , 0.        , 0.        ,\n",
       "       0.        , 0.34813926, 0.57743096, 0.60144055, 0.59183675,\n",
       "       0.58943576, 0.5822329 , 0.5258103 , 0.48139256, 0.47539017,\n",
       "       0.33853543, 0.14885955, 0.13565426, 0.13445379, 0.20168068,\n",
       "       0.77310926, 0.71548617, 0.        , 0.        , 0.        ,\n",
       "       0.        , 0.        , 0.        , 0.        , 0.        ,\n",
       "       0.        , 0.        , 0.        , 0.        , 0.        ,\n",
       "       0.        , 0.        , 0.        , 0.        , 0.        ,\n",
       "       0.        , 0.        , 0.        , 0.        ], dtype=float32)"
      ]
     },
     "execution_count": 4,
     "metadata": {},
     "output_type": "execute_result"
    }
   ],
   "source": [
    "local.locals[1][30]"
   ]
  },
  {
   "cell_type": "code",
   "execution_count": 5,
   "id": "be51d63b",
   "metadata": {},
   "outputs": [
    {
     "data": {
      "text/plain": [
       "array([0.        , 0.        , 0.        , 0.        , 0.        ,\n",
       "       0.        , 0.        , 0.        , 0.        , 0.        ,\n",
       "       0.        , 0.        , 0.        , 0.        , 0.        ,\n",
       "       0.        , 0.        , 0.        , 0.        , 0.        ,\n",
       "       0.        , 0.        , 0.        , 0.        , 0.        ,\n",
       "       0.        , 0.        , 0.        , 0.        , 0.        ,\n",
       "       0.        , 0.        , 0.        , 0.        , 0.        ,\n",
       "       0.        , 0.        , 0.        , 0.        , 0.        ,\n",
       "       0.        , 0.        , 0.        , 0.        , 0.        ,\n",
       "       0.        , 0.        , 0.        , 0.        , 0.        ,\n",
       "       0.        , 0.        , 0.        , 0.        , 0.        ,\n",
       "       0.        , 0.        , 0.        , 0.        , 0.        ,\n",
       "       0.        , 0.        , 0.        , 0.        , 0.        ,\n",
       "       0.        , 0.        , 0.        , 0.        , 0.        ,\n",
       "       0.        , 0.        , 0.        , 0.        , 0.        ,\n",
       "       0.        , 0.        , 0.        , 0.03442308, 0.11230769,\n",
       "       0.10884616, 0.10230769, 0.09903847, 0.08788462, 0.08384615,\n",
       "       0.08307692, 0.0823077 , 0.10403846, 0.09846154, 0.07961538,\n",
       "       0.07096154, 0.06807692, 0.12096153, 0.06403846, 0.07615384,\n",
       "       0.07615384, 0.09115385, 0.07653846, 0.30115384, 0.42846155,\n",
       "       0.08865385, 0.08384615, 0.08365384, 0.08576924, 0.10423077,\n",
       "       0.0726923 , 0.        , 0.        , 0.        , 0.        ,\n",
       "       0.        , 0.        , 0.        , 0.        , 0.        ,\n",
       "       0.        , 0.        , 0.        , 0.        , 0.        ,\n",
       "       0.        , 0.        , 0.        , 0.        , 0.        ,\n",
       "       0.        , 0.        , 0.        , 0.        , 0.        ,\n",
       "       0.        , 0.        , 0.        , 0.        , 0.        ,\n",
       "       0.        , 0.        , 0.        , 0.        , 0.        ,\n",
       "       0.        , 0.        , 0.        , 0.        , 0.        ,\n",
       "       0.        , 0.        , 0.        , 0.        , 0.        ,\n",
       "       0.        , 0.        , 0.        , 0.        , 0.        ,\n",
       "       0.        , 0.        , 0.        , 0.        , 0.04884616,\n",
       "       0.10250001, 0.09326923, 0.09596154, 0.09115385, 0.13942307,\n",
       "       0.08692308, 0.09230769, 0.09153847, 0.08653846, 0.08846153,\n",
       "       0.09211539, 0.09903847, 0.15173076, 0.5340384 , 0.1621154 ,\n",
       "       0.08519231, 0.08692308, 0.09      , 0.09942307, 0.11211538,\n",
       "       0.10480769, 0.09269232, 0.08961539, 0.0925    , 0.08865385,\n",
       "       0.08769231, 0.08519231, 0.09      , 0.08423077, 0.08634616,\n",
       "       0.08038461, 0.08615384, 0.21288462, 0.1323077 , 0.09288462,\n",
       "       0.07615384, 0.        , 0.        , 0.        , 0.        ,\n",
       "       0.        , 0.        , 0.        , 0.        , 0.        ,\n",
       "       0.        , 0.        , 0.        , 0.        , 0.        ,\n",
       "       0.        , 0.        , 0.        , 0.        , 0.        ,\n",
       "       0.        , 0.        , 0.        , 0.        , 0.        ,\n",
       "       0.        , 0.        , 0.        , 0.        , 0.        ,\n",
       "       0.        , 0.        , 0.        , 0.        , 0.        ,\n",
       "       0.        , 0.        , 0.        , 0.        , 0.        ,\n",
       "       0.        , 0.        , 0.        , 0.        , 0.        ,\n",
       "       0.        , 0.        , 0.        , 0.        , 0.        ,\n",
       "       0.        , 0.        , 0.        , 0.        , 0.        ,\n",
       "       0.        , 0.        , 0.        , 0.        , 0.        ,\n",
       "       0.        ], dtype=float32)"
      ]
     },
     "execution_count": 5,
     "metadata": {},
     "output_type": "execute_result"
    }
   ],
   "source": [
    "context.contexts[1][130]"
   ]
  }
 ],
 "metadata": {
  "kernelspec": {
   "display_name": "internenv",
   "language": "python",
   "name": "python3"
  },
  "language_info": {
   "codemirror_mode": {
    "name": "ipython",
    "version": 3
   },
   "file_extension": ".py",
   "mimetype": "text/x-python",
   "name": "python",
   "nbconvert_exporter": "python",
   "pygments_lexer": "ipython3",
   "version": "3.10.16"
  }
 },
 "nbformat": 4,
 "nbformat_minor": 5
}
