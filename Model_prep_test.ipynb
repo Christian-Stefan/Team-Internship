{
 "cells": [
  {
   "cell_type": "code",
   "execution_count": 1,
   "id": "f9666184",
   "metadata": {},
   "outputs": [],
   "source": [
    "from Model_data_preparation import ModelDataInput, NoduleData\n",
    "from Model_classification import ModelClassification"
   ]
  },
  {
   "cell_type": "code",
   "execution_count": 2,
   "id": "c4457ea0",
   "metadata": {},
   "outputs": [],
   "source": [
    "base_root = \"C:/Users/Aidan/Tue/5ARIP10/Demcon_Data\"\n",
    "folders = {\n",
    "    \"20241221_074106/20241221_074106/LIDC-IDRI\",\n",
    "    \"20241223_164057/20241223_164057/LIDC-IDRI\",\n",
    "    \"20250104_064120/20250104_064120/LIDC-IDRI\",\n",
    "    \"20250105_082554/20250105_082554/LIDC-IDRI\"\n",
    "}"
   ]
  },
  {
   "cell_type": "code",
   "execution_count": 3,
   "id": "551c773e",
   "metadata": {},
   "outputs": [
    {
     "name": "stdout",
     "output_type": "stream",
     "text": [
      "Processing: C:/Users/Aidan/Tue/5ARIP10/Demcon_Data\\20250104_064120/20250104_064120/LIDC-IDRI\n",
      "Processing: C:/Users/Aidan/Tue/5ARIP10/Demcon_Data\\20241221_074106/20241221_074106/LIDC-IDRI\n",
      "Processing: C:/Users/Aidan/Tue/5ARIP10/Demcon_Data\\20250105_082554/20250105_082554/LIDC-IDRI\n",
      "Processing: C:/Users/Aidan/Tue/5ARIP10/Demcon_Data\\20241223_164057/20241223_164057/LIDC-IDRI\n"
     ]
    }
   ],
   "source": [
    "import os\n",
    "import pandas as pd\n",
    "all_dataframes = []\n",
    "\n",
    "for folder in folders:\n",
    "    full_path = os.path.join(base_root, folder)\n",
    "    print(f\"Processing: {full_path}\")\n",
    "    \n",
    "    data = NoduleData(full_path)\n",
    "    data.extract_data()\n",
    "    df = data.to_dataframe()\n",
    "    all_dataframes.append(df)\n",
    "combined_df = pd.concat(all_dataframes, ignore_index=True)"
   ]
  },
  {
   "cell_type": "code",
   "execution_count": 4,
   "id": "a78dde7f",
   "metadata": {},
   "outputs": [
    {
     "data": {
      "text/plain": [
       "1487"
      ]
     },
     "execution_count": 4,
     "metadata": {},
     "output_type": "execute_result"
    }
   ],
   "source": [
    "len(combined_df)"
   ]
  },
  {
   "cell_type": "code",
   "execution_count": 5,
   "id": "a789747e",
   "metadata": {},
   "outputs": [
    {
     "data": {
      "text/html": [
       "<div>\n",
       "<style scoped>\n",
       "    .dataframe tbody tr th:only-of-type {\n",
       "        vertical-align: middle;\n",
       "    }\n",
       "\n",
       "    .dataframe tbody tr th {\n",
       "        vertical-align: top;\n",
       "    }\n",
       "\n",
       "    .dataframe thead th {\n",
       "        text-align: right;\n",
       "    }\n",
       "</style>\n",
       "<table border=\"1\" class=\"dataframe\">\n",
       "  <thead>\n",
       "    <tr style=\"text-align: right;\">\n",
       "      <th></th>\n",
       "      <th>nodule_name</th>\n",
       "      <th>nodule_category</th>\n",
       "      <th>calcification</th>\n",
       "      <th>internal_structure</th>\n",
       "      <th>lobulation</th>\n",
       "      <th>margin</th>\n",
       "      <th>nodule_type</th>\n",
       "      <th>sphericity</th>\n",
       "      <th>texture</th>\n",
       "      <th>global_seed</th>\n",
       "      <th>slice_thickness</th>\n",
       "      <th>slices_present</th>\n",
       "      <th>file_path</th>\n",
       "    </tr>\n",
       "  </thead>\n",
       "  <tbody>\n",
       "    <tr>\n",
       "      <th>0</th>\n",
       "      <td>Adenoid Cystic Carcinoma</td>\n",
       "      <td>Malignant</td>\n",
       "      <td>Absent</td>\n",
       "      <td>Soft Tissue</td>\n",
       "      <td>None-M</td>\n",
       "      <td>Poo-Sh</td>\n",
       "      <td>m8</td>\n",
       "      <td>Ovoid</td>\n",
       "      <td>Part Solid/Mixed</td>\n",
       "      <td>7454.7391</td>\n",
       "      <td>2.50</td>\n",
       "      <td>[52, 53, 54, 55, 56]</td>\n",
       "      <td>C:/Users/Aidan/Tue/5ARIP10/Demcon_Data\\2025010...</td>\n",
       "    </tr>\n",
       "    <tr>\n",
       "      <th>1</th>\n",
       "      <td>Carcinoid Tumors</td>\n",
       "      <td>Malignant</td>\n",
       "      <td>Absent</td>\n",
       "      <td>Soft Tissue</td>\n",
       "      <td>Nn-Mk</td>\n",
       "      <td>P-Sharp</td>\n",
       "      <td>m5</td>\n",
       "      <td>Ov-Ro</td>\n",
       "      <td>Solid</td>\n",
       "      <td>20538.7077</td>\n",
       "      <td>2.50</td>\n",
       "      <td>[43, 44, 45]</td>\n",
       "      <td>C:/Users/Aidan/Tue/5ARIP10/Demcon_Data\\2025010...</td>\n",
       "    </tr>\n",
       "    <tr>\n",
       "      <th>2</th>\n",
       "      <td>Sarcomatoid Carcinoma</td>\n",
       "      <td>Malignant</td>\n",
       "      <td>Absent</td>\n",
       "      <td>Soft Tissue</td>\n",
       "      <td>Nn-Mk</td>\n",
       "      <td>Poorly</td>\n",
       "      <td>m6</td>\n",
       "      <td>Lin-Ov</td>\n",
       "      <td>Part Solid/Mixed</td>\n",
       "      <td>20133.7427</td>\n",
       "      <td>2.50</td>\n",
       "      <td>[53, 54, 55, 56]</td>\n",
       "      <td>C:/Users/Aidan/Tue/5ARIP10/Demcon_Data\\2025010...</td>\n",
       "    </tr>\n",
       "    <tr>\n",
       "      <th>3</th>\n",
       "      <td>Bronchioloalveolar Hyperplasia</td>\n",
       "      <td>Benign</td>\n",
       "      <td>Absent</td>\n",
       "      <td>Soft Tissue</td>\n",
       "      <td>Nn-Mk</td>\n",
       "      <td>Poorly-S</td>\n",
       "      <td>b5</td>\n",
       "      <td>Ov-Ro</td>\n",
       "      <td>NS-PS</td>\n",
       "      <td>444.1777</td>\n",
       "      <td>1.25</td>\n",
       "      <td>[44, 45, 46, 47, 48, 49]</td>\n",
       "      <td>C:/Users/Aidan/Tue/5ARIP10/Demcon_Data\\2025010...</td>\n",
       "    </tr>\n",
       "    <tr>\n",
       "      <th>4</th>\n",
       "      <td>Metastatic Tumors</td>\n",
       "      <td>Malignant</td>\n",
       "      <td>Absent</td>\n",
       "      <td>Soft Tissue</td>\n",
       "      <td>None</td>\n",
       "      <td>Sharp</td>\n",
       "      <td>m9</td>\n",
       "      <td>Ov-Ro</td>\n",
       "      <td>Solid</td>\n",
       "      <td>19244.0979</td>\n",
       "      <td>2.50</td>\n",
       "      <td>[17, 18, 19]</td>\n",
       "      <td>C:/Users/Aidan/Tue/5ARIP10/Demcon_Data\\2025010...</td>\n",
       "    </tr>\n",
       "  </tbody>\n",
       "</table>\n",
       "</div>"
      ],
      "text/plain": [
       "                      nodule_name nodule_category calcification  \\\n",
       "0        Adenoid Cystic Carcinoma       Malignant        Absent   \n",
       "1                Carcinoid Tumors       Malignant        Absent   \n",
       "2           Sarcomatoid Carcinoma       Malignant        Absent   \n",
       "3  Bronchioloalveolar Hyperplasia          Benign        Absent   \n",
       "4               Metastatic Tumors       Malignant        Absent   \n",
       "\n",
       "  internal_structure lobulation    margin nodule_type sphericity  \\\n",
       "0        Soft Tissue     None-M    Poo-Sh          m8      Ovoid   \n",
       "1        Soft Tissue      Nn-Mk   P-Sharp          m5      Ov-Ro   \n",
       "2        Soft Tissue      Nn-Mk    Poorly          m6     Lin-Ov   \n",
       "3        Soft Tissue      Nn-Mk  Poorly-S          b5      Ov-Ro   \n",
       "4        Soft Tissue       None     Sharp          m9      Ov-Ro   \n",
       "\n",
       "            texture global_seed  slice_thickness            slices_present  \\\n",
       "0  Part Solid/Mixed   7454.7391             2.50      [52, 53, 54, 55, 56]   \n",
       "1             Solid  20538.7077             2.50              [43, 44, 45]   \n",
       "2  Part Solid/Mixed  20133.7427             2.50          [53, 54, 55, 56]   \n",
       "3             NS-PS    444.1777             1.25  [44, 45, 46, 47, 48, 49]   \n",
       "4             Solid  19244.0979             2.50              [17, 18, 19]   \n",
       "\n",
       "                                           file_path  \n",
       "0  C:/Users/Aidan/Tue/5ARIP10/Demcon_Data\\2025010...  \n",
       "1  C:/Users/Aidan/Tue/5ARIP10/Demcon_Data\\2025010...  \n",
       "2  C:/Users/Aidan/Tue/5ARIP10/Demcon_Data\\2025010...  \n",
       "3  C:/Users/Aidan/Tue/5ARIP10/Demcon_Data\\2025010...  \n",
       "4  C:/Users/Aidan/Tue/5ARIP10/Demcon_Data\\2025010...  "
      ]
     },
     "execution_count": 5,
     "metadata": {},
     "output_type": "execute_result"
    }
   ],
   "source": [
    "combined_df.head()"
   ]
  },
  {
   "cell_type": "markdown",
   "id": "2ea86b8a",
   "metadata": {},
   "source": [
    "## the following code only works with a model trained with Local_context_residualLayer altv2.ipynb"
   ]
  },
  {
   "cell_type": "code",
   "execution_count": 2,
   "id": "8f028749",
   "metadata": {},
   "outputs": [],
   "source": [
    "json_path = r\"C:\\Users\\Aidan\\Tue\\5ARIP10\\Demcon_Data\\20241221_074106\\20241221_074106\\LIDC-IDRI\\LIDC-IDRI-0001\\01-01-2000-NA-NA-02684\\1115371.000000-NA-34253\\segmentation_00001.json\"\n",
    "local_path = r\"C:\\Users\\Aidan\\Tue\\5ARIP10\\Segmented\\20241221_074106\\nodules\\LIDC-IDRI-0001\"\n",
    "context_path = r\"C:\\Users\\Aidan\\Tue\\5ARIP10\\Segmented\\20241221_074106\\lungs\\LIDC-IDRI-0001\"\n",
    "\n",
    "\n",
    "# change the 3 paths to the absolute paths on your machine, and change the naming_method to: \"Pipeline\". For NoduleLIDC-IDRI-0010_1-0054.dcm naming pattern\n",
    "local = ModelDataInput(json_path=json_path,scan_path=local_path, local_or_context=\"Local\",naming_method=\"Aidan\")\n",
    "context = ModelDataInput(json_path=json_path,scan_path=context_path, local_or_context=\"Context\",naming_method=\"Aidan\")"
   ]
  },
  {
   "cell_type": "code",
   "execution_count": 3,
   "id": "76c4bad0",
   "metadata": {},
   "outputs": [],
   "source": [
    "local.get_radiomics()\n",
    "context.get_radiomics()"
   ]
  },
  {
   "cell_type": "code",
   "execution_count": 4,
   "id": "daa88f1f",
   "metadata": {},
   "outputs": [],
   "source": [
    "ev = ModelClassification(modelpkl=\"triple_fusion_model_altdifflossv4.pkl\",volume_local=local.volume_local, volume_context= context.volume_context, radiomics= local.radiomics, labels= local.labels)"
   ]
  },
  {
   "cell_type": "code",
   "execution_count": 5,
   "id": "430957ab",
   "metadata": {},
   "outputs": [
    {
     "name": "stdout",
     "output_type": "stream",
     "text": [
      "True: Lymphoma, Top-1: Lymphoma (79.5%), Top-2: Sarcomatoid Carcinoma (9.1%), Top-3: Adenocarcinoma (3.4%)\n"
     ]
    }
   ],
   "source": [
    "ev.get_result()"
   ]
  },
  {
   "cell_type": "code",
   "execution_count": 7,
   "id": "39ec1f48",
   "metadata": {},
   "outputs": [
    {
     "name": "stdout",
     "output_type": "stream",
     "text": [
      "True: Small Cell Lung Cancer (SCLC), Top-1: Small Cell Lung Cancer (SCLC) (74.8%), Top-2: Adenocarcinoma (13.2%), Top-3: Large Cell (Undifferentiated) Carcinoma (5.1%)\n",
      "True: Lymphoma, Top-1: Lymphoma (52.2%), Top-2: Adenoid Cystic Carcinoma (36.5%), Top-3: Sarcomatoid Carcinoma (5.3%)\n",
      "True: Adenoid Cystic Carcinoma, Top-1: Adenoid Cystic Carcinoma (88.3%), Top-2: Lymphoma (4.3%), Top-3: Active Infection (4.0%)\n"
     ]
    }
   ],
   "source": [
    "json_path = [r\"C:\\Users\\Aidan\\Tue\\5ARIP10\\Demcon_Data\\20241221_074106\\20241221_074106\\LIDC-IDRI\\LIDC-IDRI-0000\\01-01-2000-NA-NA-02587\\3976134.000000-NA-94964\\segmentation_00000.json\",\n",
    "    r\"C:\\Users\\Aidan\\Tue\\5ARIP10\\Demcon_Data\\20241221_074106\\20241221_074106\\LIDC-IDRI\\LIDC-IDRI-0001\\01-01-2000-NA-NA-02684\\1115371.000000-NA-34253\\segmentation_00001.json\",r\"C:\\Users\\Aidan\\Tue\\5ARIP10\\Demcon_Data\\20241221_074106\\20241221_074106\\LIDC-IDRI\\LIDC-IDRI-0005\\01-01-2000-NA-NA-03072\\1264842.000000-NA-37425\\segmentation_00005.json\",r\"C:\\Users\\Aidan\\Tue\\5ARIP10\\Demcon_Data\\20241221_074106\\20241221_074106\\LIDC-IDRI\\LIDC-IDRI-0024\\01-01-2000-NA-NA-04916\\1539674.000000-NA-43258\\segmentation_00024.json\",\n",
    "             r\"C:\\Users\\Aidan\\Tue\\5ARIP10\\Demcon_Data\\20250104_064120\\20250104_064120\\LIDC-IDRI\\LIDC-IDRI-0016\\01-01-2000-NA-NA-04141\\2210326.000000-NA-57490\\segmentation_00016.json\"]\n",
    "local_path = [r\"C:\\Users\\Aidan\\Tue\\5ARIP10\\Segmented\\20241221_074106\\nodules\\LIDC-IDRI-0000\",r\"C:\\Users\\Aidan\\Tue\\5ARIP10\\Segmented\\20241221_074106\\nodules\\LIDC-IDRI-0001\",r\"C:\\Users\\Aidan\\Tue\\5ARIP10\\Segmented\\20241221_074106\\nodules\\LIDC-IDRI-0005\",r\"C:\\Users\\Aidan\\Tue\\5ARIP10\\Segmented\\20241221_074106\\nodules\\LIDC-IDRI-0024\",\n",
    "              r\"C:\\Users\\Aidan\\Tue\\5ARIP10\\Segmented\\20250104_064120\\nodules\\LIDC-IDRI-0016\"]\n",
    "context_path = [r\"C:\\Users\\Aidan\\Tue\\5ARIP10\\Segmented\\20241221_074106\\lungs\\LIDC-IDRI-0000\",r\"C:\\Users\\Aidan\\Tue\\5ARIP10\\Segmented\\20241221_074106\\lungs\\LIDC-IDRI-0001\",r\"C:\\Users\\Aidan\\Tue\\5ARIP10\\Segmented\\20241221_074106\\lungs\\LIDC-IDRI-0005\",r\"C:\\Users\\Aidan\\Tue\\5ARIP10\\Segmented\\20241221_074106\\lungs\\LIDC-IDRI-0024\",\n",
    "                r\"C:\\Users\\Aidan\\Tue\\5ARIP10\\Segmented\\20250104_064120\\lungs\\LIDC-IDRI-0016\"]\n",
    "for i in range(3):\n",
    "    local = ModelDataInput(json_path=json_path[i],scan_path=local_path[i], local_or_context=\"Local\",naming_method=\"Aidan\")\n",
    "    context = ModelDataInput(json_path=json_path[i],scan_path=context_path[i], local_or_context=\"Context\",naming_method=\"Aidan\")\n",
    "\n",
    "    local.get_radiomics()\n",
    "    context.get_radiomics()\n",
    "    ev = ModelClassification(modelpkl=\"triple_fusion_model_altdifflossv3.pkl\",volume_local=local.volume_local, volume_context= context.volume_context, radiomics= local.radiomics, labels= local.labels)\n",
    "    ev.get_result()\n"
   ]
  },
  {
   "cell_type": "code",
   "execution_count": 3,
   "id": "2ecfeb83",
   "metadata": {},
   "outputs": [],
   "source": [
    "from pytorch_grad_cam import GradCAM\n",
    "from pytorch_grad_cam.utils.model_targets import ClassifierOutputTarget\n",
    "from pytorch_grad_cam.utils.image import show_cam_on_image"
   ]
  },
  {
   "cell_type": "code",
   "execution_count": 100,
   "id": "2f3b8bee",
   "metadata": {},
   "outputs": [],
   "source": [
    "target_layer = ev.model.context_branch.conv[4] # the second Conv3D layer"
   ]
  },
  {
   "cell_type": "code",
   "execution_count": 9,
   "id": "b9311b4d",
   "metadata": {},
   "outputs": [],
   "source": [
    "import torch\n",
    "device = torch.device(\"cuda\" if torch.cuda.is_available() else \"cpu\")"
   ]
  },
  {
   "cell_type": "code",
   "execution_count": 101,
   "id": "ec381bd6",
   "metadata": {},
   "outputs": [
    {
     "name": "stderr",
     "output_type": "stream",
     "text": [
      "C:\\Users\\Aidan\\AppData\\Local\\Temp\\ipykernel_1660\\3803968854.py:12: FutureWarning: Calling int on a single element Series is deprecated and will raise a TypeError in the future. Use int(ser.iloc[0]) instead\n",
      "  target_category = context.labels.item() if isinstance(context.labels, torch.Tensor) else int(context.labels)\n"
     ]
    }
   ],
   "source": [
    "import torch\n",
    "from pytorch_grad_cam.utils.model_targets import ClassifierOutputTarget\n",
    "\n",
    "# Convert numpy to tensor if needed and ensure dtype and device\n",
    "input_tensor = torch.from_numpy(context.volume_context).float().to(device)\n",
    "\n",
    "# Ensure it has shape [B, C, D, H, W]\n",
    "if input_tensor.ndim == 4:\n",
    "    input_tensor = input_tensor.unsqueeze(0)  # Add batch dimension\n",
    "\n",
    "# Process target label\n",
    "target_category = context.labels.item() if isinstance(context.labels, torch.Tensor) else int(context.labels)\n",
    "\n",
    "# Initialize Grad-CAM\n",
    "cam = GradCAM(model=ev.model.context_branch, target_layers=[target_layer])\n",
    "\n",
    "# Run Grad-CAM\n",
    "grayscale_cam = cam(input_tensor=input_tensor, targets=[ClassifierOutputTarget(target_category)])\n",
    "\n"
   ]
  },
  {
   "cell_type": "code",
   "execution_count": 102,
   "id": "d969724f",
   "metadata": {},
   "outputs": [
    {
     "data": {
      "image/png": "[encoded data removed]",
      "text/plain": [
       "<Figure size 600x600 with 1 Axes>"
      ]
     },
     "metadata": {},
     "output_type": "display_data"
    }
   ],
   "source": [
    "# Visualize the heatmap \n",
    "import cv2\n",
    "import numpy as np\n",
    "import matplotlib.pyplot as plt\n",
    "\n",
    "\n",
    "def normalize(x):\n",
    "    x = x - x.min()\n",
    "    x = x / (x.max() + 1e-5)\n",
    "    return x\n",
    "\n",
    "volume = context.volume_context[0]\n",
    "grayscale = grayscale_cam[0]                                    \n",
    "\n",
    "# Take the middle slice\n",
    "mid = volume.shape[0] // 2\n",
    "slice_img = normalize(volume[mid])\n",
    "cam_slice = normalize(grayscale[mid])\n",
    "\n",
    "if cam_slice.shape != slice_img.shape:\n",
    "    cam_slice = cv2.resize(cam_slice, slice_img.shape[::-1])\n",
    "\n",
    "# Convert CAM to heatmap\n",
    "cam_uint8 = np.ascontiguousarray((cam_slice * 255).astype(np.uint8))\n",
    "heatmap = cv2.applyColorMap(cam_uint8, cv2.COLORMAP_JET)\n",
    "heatmap = cv2.cvtColor(heatmap, cv2.COLOR_BGR2RGB) / 255.0\n",
    "\n",
    "# Prepare grayscale CT image\n",
    "ct_rgb = np.stack([slice_img] * 3, axis=-1)\n",
    "\n",
    "overlay = 0.7 * ct_rgb + 0.3 * heatmap\n",
    "\n",
    "plt.figure(figsize=(6, 6))\n",
    "plt.imshow(overlay)\n",
    "plt.axis(\"off\")\n",
    "plt.show()"
   ]
  },
  {
   "cell_type": "code",
   "execution_count": 106,
   "id": "fe709117",
   "metadata": {},
   "outputs": [],
   "source": [
    "target_layer = ev.model.local_branch.resblock1  # the second Conv3D layer"
   ]
  },
  {
   "cell_type": "code",
   "execution_count": 107,
   "id": "b84ab975",
   "metadata": {},
   "outputs": [
    {
     "name": "stderr",
     "output_type": "stream",
     "text": [
      "C:\\Users\\Aidan\\AppData\\Local\\Temp\\ipykernel_1660\\2056981696.py:12: FutureWarning: Calling int on a single element Series is deprecated and will raise a TypeError in the future. Use int(ser.iloc[0]) instead\n",
      "  target_category = local.labels.item() if isinstance(local.labels, torch.Tensor) else int(local.labels)\n"
     ]
    }
   ],
   "source": [
    "import torch\n",
    "from pytorch_grad_cam.utils.model_targets import ClassifierOutputTarget\n",
    "\n",
    "# Convert numpy to tensor if needed and ensure dtype and device\n",
    "input_tensor = torch.from_numpy(local.volume_local).float().to(device)\n",
    "\n",
    "# Ensure it has shape [B, C, D, H, W]\n",
    "if input_tensor.ndim == 4:\n",
    "    input_tensor = input_tensor.unsqueeze(0)  # Add batch dimension\n",
    "\n",
    "# Process target label\n",
    "target_category = local.labels.item() if isinstance(local.labels, torch.Tensor) else int(local.labels)\n",
    "\n",
    "# Initialize Grad-CAM\n",
    "cam = GradCAM(model=ev.model.local_branch, target_layers=[target_layer])\n",
    "\n",
    "# Run Grad-CAM\n",
    "grayscale_cam = cam(input_tensor=input_tensor, targets=[ClassifierOutputTarget(target_category)])\n",
    "\n"
   ]
  },
  {
   "cell_type": "code",
   "execution_count": 108,
   "id": "36d7d823",
   "metadata": {},
   "outputs": [
    {
     "data": {
      "image/png": "[encoded data removed]",
      "text/plain": [
       "<Figure size 600x600 with 1 Axes>"
      ]
     },
     "metadata": {},
     "output_type": "display_data"
    }
   ],
   "source": [
    "# Visualize the heatmap \n",
    "import cv2\n",
    "import numpy as np\n",
    "import matplotlib.pyplot as plt\n",
    "\n",
    "\n",
    "def normalize(x):\n",
    "    x = x - x.min()\n",
    "    x = x / (x.max() + 1e-5)\n",
    "    return x\n",
    "\n",
    "volume = local.volume_local[0]\n",
    "grayscale = grayscale_cam[0]                                    \n",
    "\n",
    "# Take the middle slice\n",
    "mid = volume.shape[0] // 2\n",
    "slice_img = normalize(volume[mid])\n",
    "cam_slice = normalize(grayscale[mid])\n",
    "\n",
    "if cam_slice.shape != slice_img.shape:\n",
    "    cam_slice = cv2.resize(cam_slice, slice_img.shape[::-1])\n",
    "\n",
    "# Convert CAM to heatmap\n",
    "cam_uint8 = np.ascontiguousarray((cam_slice * 255).astype(np.uint8))\n",
    "heatmap = cv2.applyColorMap(cam_uint8, cv2.COLORMAP_JET)\n",
    "heatmap = cv2.cvtColor(heatmap, cv2.COLOR_BGR2RGB) / 255.0\n",
    "\n",
    "# Prepare grayscale CT image\n",
    "ct_rgb = np.stack([slice_img] * 3, axis=-1)\n",
    "\n",
    "overlay = 0.8 * ct_rgb + 0.2 * heatmap\n",
    "\n",
    "plt.figure(figsize=(6, 6))\n",
    "plt.imshow(overlay)\n",
    "plt.axis(\"off\")\n",
    "plt.show()"
   ]
  }
 ],
 "metadata": {
  "kernelspec": {
   "display_name": "internenv",
   "language": "python",
   "name": "python3"
  },
  "language_info": {
   "codemirror_mode": {
    "name": "ipython",
    "version": 3
   },
   "file_extension": ".py",
   "mimetype": "text/x-python",
   "name": "python",
   "nbconvert_exporter": "python",
   "pygments_lexer": "ipython3",
   "version": "3.10.16"
  }
 },
 "nbformat": 4,
 "nbformat_minor": 5
}
